{
 "cells": [
  {
   "cell_type": "markdown",
   "metadata": {},
   "source": [
    "# NumPy"
   ]
  },
  {
   "cell_type": "markdown",
   "metadata": {},
   "source": [
    "* Third party package for scientific computing\n",
    "* Operating with numbers and maths\n",
    "* Use them like the usual C arrays\n",
    "* Base for most processing elements like Pandas\n",
    "* Less memory intensive compared to list"
   ]
  },
  {
   "cell_type": "markdown",
   "metadata": {},
   "source": [
    "# NumPy Datatypes\n",
    "* Integers - numpy.int8, numpy.int16, <b>numpy.int32</b>#defult,numpy.int64\n",
    "\n",
    "* Floating point - numpy.float32,<b>numpy.float64</b>,numpy.float128\n",
    "* Boolean\n",
    "* Strings - Length needs to be specified in advance"
   ]
  },
  {
   "cell_type": "code",
   "execution_count": 1,
   "metadata": {},
   "outputs": [],
   "source": [
    "import numpy as np"
   ]
  },
  {
   "cell_type": "code",
   "execution_count": 3,
   "metadata": {},
   "outputs": [
    {
     "name": "stdout",
     "output_type": "stream",
     "text": [
      "1.14.2\n"
     ]
    }
   ],
   "source": [
    "import numpy as np\n",
    "print(np.__version__)"
   ]
  },
  {
   "cell_type": "markdown",
   "metadata": {},
   "source": [
    "## Creating a numpy arrays"
   ]
  },
  {
   "cell_type": "code",
   "execution_count": 3,
   "metadata": {},
   "outputs": [
    {
     "data": {
      "text/plain": [
       "array([1, 2, 3, 4, 5])"
      ]
     },
     "execution_count": 3,
     "metadata": {},
     "output_type": "execute_result"
    }
   ],
   "source": [
    "a=np.array([1,2,3,4,5]) #to convert a sequence to array\n",
    "a"
   ]
  },
  {
   "cell_type": "code",
   "execution_count": 4,
   "metadata": {},
   "outputs": [
    {
     "data": {
      "text/plain": [
       "array([1. , 2.5, 3. , 4. , 5. ])"
      ]
     },
     "execution_count": 4,
     "metadata": {},
     "output_type": "execute_result"
    }
   ],
   "source": [
    "a=np.array([1,2.5,3,4,5]) \n",
    "a"
   ]
  },
  {
   "cell_type": "code",
   "execution_count": 4,
   "metadata": {},
   "outputs": [
    {
     "data": {
      "text/plain": [
       "array([1, 2, 3, 4, 5])"
      ]
     },
     "execution_count": 4,
     "metadata": {},
     "output_type": "execute_result"
    }
   ],
   "source": [
    "a=np.array([1,2.5,3,4,5]) \n",
    "newStrArray=a.astype(int)#type conversion\n",
    "newStrArray"
   ]
  },
  {
   "cell_type": "code",
   "execution_count": 6,
   "metadata": {
    "scrolled": true
   },
   "outputs": [
    {
     "name": "stdout",
     "output_type": "stream",
     "text": [
      "Help on built-in function astype:\n",
      "\n",
      "astype(...)\n",
      "    a.astype(dtype, order='K', casting='unsafe', subok=True, copy=True)\n",
      "    \n",
      "    Copy of the array, cast to a specified type.\n",
      "    \n",
      "    Parameters\n",
      "    ----------\n",
      "    dtype : str or dtype\n",
      "        Typecode or data-type to which the array is cast.\n",
      "    order : {'C', 'F', 'A', 'K'}, optional\n",
      "        Controls the memory layout order of the result.\n",
      "        'C' means C order, 'F' means Fortran order, 'A'\n",
      "        means 'F' order if all the arrays are Fortran contiguous,\n",
      "        'C' order otherwise, and 'K' means as close to the\n",
      "        order the array elements appear in memory as possible.\n",
      "        Default is 'K'.\n",
      "    casting : {'no', 'equiv', 'safe', 'same_kind', 'unsafe'}, optional\n",
      "        Controls what kind of data casting may occur. Defaults to 'unsafe'\n",
      "        for backwards compatibility.\n",
      "    \n",
      "          * 'no' means the data types should not be cast at all.\n",
      "          * 'equiv' means only byte-order changes are allowed.\n",
      "          * 'safe' means only casts which can preserve values are allowed.\n",
      "          * 'same_kind' means only safe casts or casts within a kind,\n",
      "            like float64 to float32, are allowed.\n",
      "          * 'unsafe' means any data conversions may be done.\n",
      "    subok : bool, optional\n",
      "        If True, then sub-classes will be passed-through (default), otherwise\n",
      "        the returned array will be forced to be a base-class array.\n",
      "    copy : bool, optional\n",
      "        By default, astype always returns a newly allocated array. If this\n",
      "        is set to false, and the `dtype`, `order`, and `subok`\n",
      "        requirements are satisfied, the input array is returned instead\n",
      "        of a copy.\n",
      "    \n",
      "    Returns\n",
      "    -------\n",
      "    arr_t : ndarray\n",
      "        Unless `copy` is False and the other conditions for returning the input\n",
      "        array are satisfied (see description for `copy` input parameter), `arr_t`\n",
      "        is a new array of the same shape as the input array, with dtype, order\n",
      "        given by `dtype`, `order`.\n",
      "    \n",
      "    Notes\n",
      "    -----\n",
      "    Starting in NumPy 1.9, astype method now returns an error if the string\n",
      "    dtype to cast to is not long enough in 'safe' casting mode to hold the max\n",
      "    value of integer/float array that is being casted. Previously the casting\n",
      "    was allowed even if the result was truncated.\n",
      "    \n",
      "    Raises\n",
      "    ------\n",
      "    ComplexWarning\n",
      "        When casting from complex to float or int. To avoid this,\n",
      "        one should use ``a.real.astype(t)``.\n",
      "    \n",
      "    Examples\n",
      "    --------\n",
      "    >>> x = np.array([1, 2, 2.5])\n",
      "    >>> x\n",
      "    array([ 1. ,  2. ,  2.5])\n",
      "    \n",
      "    >>> x.astype(int)\n",
      "    array([1, 2, 2])\n",
      "\n"
     ]
    }
   ],
   "source": [
    "help(a.astype)"
   ]
  },
  {
   "cell_type": "code",
   "execution_count": 5,
   "metadata": {},
   "outputs": [
    {
     "data": {
      "text/plain": [
       "[1, 2, 3, 4, 5]"
      ]
     },
     "execution_count": 5,
     "metadata": {},
     "output_type": "execute_result"
    }
   ],
   "source": [
    "newStrArray.tolist()#convert to python list"
   ]
  },
  {
   "cell_type": "code",
   "execution_count": 13,
   "metadata": {},
   "outputs": [
    {
     "data": {
      "text/plain": [
       "array([1., 2., 3., 4., 5., 6.])"
      ]
     },
     "execution_count": 13,
     "metadata": {},
     "output_type": "execute_result"
    }
   ],
   "source": [
    "a=np.array([1,2,3,4,5,6],dtype=np.float64) #providing datatype\n",
    "a"
   ]
  },
  {
   "cell_type": "code",
   "execution_count": 14,
   "metadata": {},
   "outputs": [
    {
     "name": "stdout",
     "output_type": "stream",
     "text": [
      "1\n",
      "(6,)\n",
      "6\n"
     ]
    }
   ],
   "source": [
    "print (a.ndim) #dimension of row and coloum ,\n",
    "print (a.shape)\n",
    "print (a.size)#no of elements"
   ]
  },
  {
   "cell_type": "code",
   "execution_count": 15,
   "metadata": {},
   "outputs": [
    {
     "data": {
      "text/plain": [
       "(1, (49,), 49)"
      ]
     },
     "execution_count": 15,
     "metadata": {},
     "output_type": "execute_result"
    }
   ],
   "source": [
    "a = np.array(range(1,50),dtype=np.int32)\n",
    "a\n",
    "a.ndim,a.shape,a.size"
   ]
  },
  {
   "cell_type": "code",
   "execution_count": null,
   "metadata": {
    "collapsed": true
   },
   "outputs": [],
   "source": [
    "# Create a 1-D numpy array of 50 elements and display its contents\n",
    "# Write a function meta that prints the dimension, shape and size of a numpy array"
   ]
  },
  {
   "cell_type": "code",
   "execution_count": 6,
   "metadata": {},
   "outputs": [
    {
     "name": "stdout",
     "output_type": "stream",
     "text": [
      "[ 1  2  3  4  5  6  7  8  9 10 11 12 13 14 15 16 17 18 19 20 21 22 23 24\n",
      " 25 26 27 28 29 30 31 32 33 34 35 36 37 38 39 40 41 42 43 44 45 46 47 48\n",
      " 49 50]\n",
      "1\n",
      "(50L,)\n",
      "50\n"
     ]
    }
   ],
   "source": [
    "a = np.array(range(1,51))\n",
    "print a\n",
    "print a.ndim\n",
    "print a.shape\n",
    "print a.size"
   ]
  },
  {
   "cell_type": "code",
   "execution_count": 7,
   "metadata": {},
   "outputs": [
    {
     "name": "stdout",
     "output_type": "stream",
     "text": [
      "dimension :1\n",
      "shape :(50L,)\n",
      "size : 50\n"
     ]
    }
   ],
   "source": [
    "def ssd(a):\n",
    "    print(\"dimension :\"+str( a.ndim))\n",
    "    print (\"shape :\" +str(a.shape))\n",
    "    print (\"size : \" +str(a.size))\n",
    "ssd(a)    "
   ]
  },
  {
   "cell_type": "markdown",
   "metadata": {},
   "source": [
    "* Size of a numpy array is fixed\n",
    "* Always recommended to create numpy arrays of same data type\n",
    "* #### Uncertain about datatypes??? Use \"object\" datatype ####"
   ]
  },
  {
   "cell_type": "code",
   "execution_count": 16,
   "metadata": {},
   "outputs": [
    {
     "data": {
      "text/plain": [
       "array(['1', 'Ram', '98.2'], dtype='<U11')"
      ]
     },
     "execution_count": 16,
     "metadata": {},
     "output_type": "execute_result"
    }
   ],
   "source": [
    "sample=np.array([1,\"Ram\",98.2])\n",
    "sample"
   ]
  },
  {
   "cell_type": "code",
   "execution_count": 17,
   "metadata": {},
   "outputs": [
    {
     "data": {
      "text/plain": [
       "array([1, 'Ram', 98.2], dtype=object)"
      ]
     },
     "execution_count": 17,
     "metadata": {},
     "output_type": "execute_result"
    }
   ],
   "source": [
    "sample=np.array([1,\"Ram\",98.2],dtype=np.object)#other datatype are do not affect other data type\n",
    "sample"
   ]
  },
  {
   "cell_type": "markdown",
   "metadata": {},
   "source": [
    "### Can handle Vectorized operations"
   ]
  },
  {
   "cell_type": "code",
   "execution_count": 3,
   "metadata": {},
   "outputs": [
    {
     "data": {
      "text/plain": [
       "([1, 2, 3, 4], array([1, 2, 3, 4]))"
      ]
     },
     "execution_count": 3,
     "metadata": {},
     "output_type": "execute_result"
    }
   ],
   "source": [
    "l=[1,2,3,4]\n",
    "npa=np.array(l)\n",
    "l,npa"
   ]
  },
  {
   "cell_type": "code",
   "execution_count": 6,
   "metadata": {},
   "outputs": [
    {
     "ename": "TypeError",
     "evalue": "can only concatenate list (not \"int\") to list",
     "output_type": "error",
     "traceback": [
      "\u001b[1;31m---------------------------------------------------------------------------\u001b[0m",
      "\u001b[1;31mTypeError\u001b[0m                                 Traceback (most recent call last)",
      "\u001b[1;32m<ipython-input-6-543ccc8138a6>\u001b[0m in \u001b[0;36m<module>\u001b[1;34m()\u001b[0m\n\u001b[1;32m----> 1\u001b[1;33m \u001b[0ml\u001b[0m\u001b[1;33m+\u001b[0m\u001b[1;36m2\u001b[0m\u001b[1;33m\u001b[0m\u001b[0m\n\u001b[0m",
      "\u001b[1;31mTypeError\u001b[0m: can only concatenate list (not \"int\") to list"
     ]
    }
   ],
   "source": [
    "l+2"
   ]
  },
  {
   "cell_type": "code",
   "execution_count": 21,
   "metadata": {},
   "outputs": [
    {
     "data": {
      "text/plain": [
       "array([3, 4, 5, 6])"
      ]
     },
     "execution_count": 21,
     "metadata": {},
     "output_type": "execute_result"
    }
   ],
   "source": [
    "npa+2 #adding a value to numpy arary"
   ]
  },
  {
   "cell_type": "code",
   "execution_count": 25,
   "metadata": {},
   "outputs": [
    {
     "name": "stdout",
     "output_type": "stream",
     "text": [
      "2010 : [ 1  2  3  4  5  6  7  8  9 10]\n",
      "2011 : [ 2  3  4  5  6  7  8  9 10 11]\n",
      "2012 : [ 3  4  5  6  7  8  9 10 11 12]\n",
      "2013 : [ 4  5  6  7  8  9 10 11 12 13]\n",
      "2014 : [ 5  6  7  8  9 10 11 12 13 14]\n",
      "2015 : [ 6  7  8  9 10 11 12 13 14 15]\n",
      "2016 : [ 7  8  9 10 11 12 13 14 15 16]\n",
      "2017 : [ 8  9 10 11 12 13 14 15 16 17]\n",
      "2018 : [ 9 10 11 12 13 14 15 16 17 18]\n",
      "2019 : [10 11 12 13 14 15 16 17 18 19]\n",
      "2020 : [11 12 13 14 15 16 17 18 19 20]\n"
     ]
    },
    {
     "data": {
      "text/plain": [
       "array([11, 12, 13, 14, 15, 16, 17, 18, 19, 20])"
      ]
     },
     "execution_count": 25,
     "metadata": {},
     "output_type": "execute_result"
    }
   ],
   "source": [
    "# Create an array displaying the ages of 10 students\n",
    "ageList=np.array(range(10))\n",
    "# Add 1 to the age values for every year and display all the ages\n",
    "for year in range(2010,2020+1):\n",
    "    ## your code\n",
    "    ageList += 1\n",
    "    print str(year)+\" : \"+str(ageList)\n",
    "ageList    "
   ]
  },
  {
   "cell_type": "code",
   "execution_count": 26,
   "metadata": {},
   "outputs": [
    {
     "name": "stdout",
     "output_type": "stream",
     "text": [
      "content\n",
      "54.64\n",
      "54.42\n",
      "54.29\n",
      "54.2\n",
      "54.14\n",
      "54.2\n",
      "55.39\n",
      "56.42\n",
      "56.7\n",
      "56.59\n",
      "56.14\n",
      "55.95\n",
      "55.91\n",
      "55.28\n",
      "55.27\n",
      "57.42\n",
      "57.75\n",
      "56.18\n",
      "55.48\n",
      "54.94\n",
      "54.49\n",
      "54.11\n",
      "54.09\n",
      "54.06\n",
      "54.04\n",
      "54.01\n",
      "54.0\n",
      "54.0\n",
      "54.01\n",
      "54.04\n",
      "53.49\n",
      "56.08\n",
      "57.7\n",
      "58.35\n",
      "58.92\n",
      "57.27\n",
      "56.69\n",
      "57.48\n",
      "56.04\n",
      "55.96\n",
      "55.71\n",
      "55.11\n",
      "54.72\n",
      "54.6\n",
      "54.5\n",
      "54.36\n",
      "54.23\n",
      "54.04\n",
      "53.89\n",
      "53.76\n",
      "53.68\n",
      "53.66\n",
      "53.62\n",
      "53.6\n",
      "53.62\n",
      "55.93\n",
      "57.27\n",
      "58.47\n",
      "59.58\n",
      "58.95\n",
      "58.46\n",
      "57.56\n",
      "56.61\n",
      "56.11\n",
      "55.76\n",
      "55.72\n",
      "55.12\n",
      "54.96\n",
      "54.86\n",
      "54.7\n",
      "54.75\n",
      "54.77\n",
      "54.61\n",
      "54.45\n",
      "54.49\n",
      "54.54\n",
      "54.32\n",
      "54.15\n",
      "54.65\n",
      "57.13\n",
      "58.53\n",
      "58.21\n",
      "58.39\n",
      "60.31\n",
      "59.53\n",
      "60.44\n",
      "61.24\n",
      "60.24\n",
      "59.92\n",
      "59.17\n",
      "57.21\n",
      "56.13\n",
      "55.44\n",
      "55.18\n",
      "55.2\n",
      "55.22\n",
      "55.42\n",
      "55.59\n",
      "55.83\n",
      "55.47\n",
      "55.19\n",
      "54.27\n",
      "53.75\n",
      "55.57\n",
      "55.69\n",
      "56.86\n",
      "58.51\n",
      "60.23\n",
      "59.74\n",
      "59.4\n",
      "58.94\n",
      "58.59\n",
      "58.36\n",
      "58.54\n",
      "57.11\n",
      "56.04\n",
      "55.5\n",
      "55.4\n",
      "55.51\n",
      "55.6\n",
      "55.54\n",
      "55.3\n",
      "55.05\n",
      "54.88\n",
      "54.69\n",
      "54.5\n",
      "54.56\n",
      "56.74\n",
      "58.03\n",
      "59.24\n",
      "60.38\n",
      "61.27\n",
      "61.96\n",
      "61.91\n",
      "60.16\n",
      "59.18\n",
      "57.87\n",
      "57.01\n",
      "55.55\n",
      "54.91\n",
      "54.57\n",
      "54.55\n",
      "54.57\n",
      "54.36\n",
      "54.51\n",
      "53.78\n",
      "53.46\n",
      "53.37\n",
      "52.81\n",
      "52.55\n",
      "53.45\n",
      "56.78\n",
      "58.46\n",
      "59.8\n",
      "60.92\n",
      "60.52\n",
      "59.96\n",
      "59.4\n",
      "58.9\n",
      "58.44\n",
      "57.58\n",
      "56.89\n",
      "55.71\n",
      "55.28\n",
      "55.05\n",
      "54.74\n",
      "54.6\n",
      "54.45\n",
      "54.33\n",
      "54.21\n",
      "54.08\n",
      "54.04\n",
      "53.92\n",
      "53.67\n",
      "53.59\n",
      "54.87\n",
      "55.76\n",
      "57.54\n",
      "59.07\n",
      "59.6\n",
      "60.21\n",
      "60.36\n",
      "59.95\n",
      "59.4\n",
      "58.29\n",
      "56.72\n",
      "55.19\n",
      "55.24\n",
      "55.08\n",
      "54.79\n",
      "54.68\n",
      "54.59\n"
     ]
    }
   ],
   "source": [
    "import csv\n",
    "# Read the weather1week.csv file\n",
    "# Convert the temperature from Centigrade to Faranheit\n",
    "# F=C*(9/5)+32\n",
    "filename = \"C:\\Users\\Sureya\\Desktop\\data analiyics\\done by me on class\\dataset\\weather1week.csv\"\n",
    "with open(filename,'r') as f :\n",
    "    datareader = csv.reader(f,delimiter=';')\n",
    "    \n",
    "    print \"content\"\n",
    "    for i in datareader:\n",
    "        c = float(i[5])\n",
    "        f = (c*(9/5)+32)\n",
    "        print str(f)"
   ]
  },
  {
   "cell_type": "markdown",
   "metadata": {},
   "source": [
    "### Multi-Dimensional Arrays"
   ]
  },
  {
   "cell_type": "code",
   "execution_count": 22,
   "metadata": {},
   "outputs": [
    {
     "data": {
      "text/plain": [
       "array([[ 1,  2,  3,  4,  5],\n",
       "       [ 6,  7,  8,  9, 10]])"
      ]
     },
     "execution_count": 22,
     "metadata": {},
     "output_type": "execute_result"
    }
   ],
   "source": [
    "b=np.array([[1,2,3,4,5],[6,7,8,9,10]])\n",
    "b"
   ]
  },
  {
   "cell_type": "code",
   "execution_count": 23,
   "metadata": {
    "scrolled": false
   },
   "outputs": [
    {
     "data": {
      "text/plain": [
       "(2, (2, 5), 10, dtype('int32'))"
      ]
     },
     "execution_count": 23,
     "metadata": {},
     "output_type": "execute_result"
    }
   ],
   "source": [
    "b.ndim, b.shape, b.size, b.dtype Alliswell123$"
   ]
  },
  {
   "cell_type": "code",
   "execution_count": 29,
   "metadata": {},
   "outputs": [
    {
     "name": "stdout",
     "output_type": "stream",
     "text": [
      "[[[1 2 3 4 5]\n",
      "  [1 2 3 4 5]\n",
      "  [1 2 3 4 5]]\n",
      "\n",
      " [[1 2 3 4 5]\n",
      "  [1 2 3 4 5]\n",
      "  [1 2 3 4 5]]\n",
      "\n",
      " [[1 2 3 4 5]\n",
      "  [1 2 3 4 5]\n",
      "  [1 2 3 4 5]]\n",
      "\n",
      " [[1 2 3 4 5]\n",
      "  [1 2 3 4 5]\n",
      "  [1 2 3 4 5]]] dimension :3\n",
      "shape :(4L, 3L, 5L)\n",
      "size : 60\n",
      "None\n"
     ]
    }
   ],
   "source": [
    "# Create a 3-D numpy array of 3X5X4 and display its contents\n",
    "# Will your meta function work for this new array? Else create a new meta function\n",
    "#a = np.array([[range(5)],[range(5)],[range(5)]][[range(5)],[range(5)],[range(5)]][[range(5)],[range(5)],[range(5)]][[range(5)],[range(5)],[range(5)]][[range(5)],[range(5)],[range(5)]])\n",
    "#a\n",
    "a = np.array([[[1,2,3,4,5],[1,2,3,4,5],[1,2,3,4,5]],[[1,2,3,4,5],[1,2,3,4,5],[1,2,3,4,5]],[[1,2,3,4,5],[1,2,3,4,5],[1,2,3,4,5]],[[1,2,3,4,5],[1,2,3,4,5],[1,2,3,4,5]]])\n",
    "\n",
    "print a,ssd(a)\n",
    "#print str(a[0][0][0])"
   ]
  },
  {
   "cell_type": "markdown",
   "metadata": {},
   "source": [
    "### Some helpful functions"
   ]
  },
  {
   "cell_type": "code",
   "execution_count": 24,
   "metadata": {
    "scrolled": false
   },
   "outputs": [
    {
     "data": {
      "text/plain": [
       "array([[0., 0., 0.],\n",
       "       [0., 0., 0.],\n",
       "       [0., 0., 0.]])"
      ]
     },
     "execution_count": 24,
     "metadata": {},
     "output_type": "execute_result"
    }
   ],
   "source": [
    "np.zeros((3,3))"
   ]
  },
  {
   "cell_type": "code",
   "execution_count": 25,
   "metadata": {},
   "outputs": [
    {
     "name": "stdout",
     "output_type": "stream",
     "text": [
      "Help on built-in function zeros in module numpy.core.multiarray:\n",
      "\n",
      "zeros(...)\n",
      "    zeros(shape, dtype=float, order='C')\n",
      "    \n",
      "    Return a new array of given shape and type, filled with zeros.\n",
      "    \n",
      "    Parameters\n",
      "    ----------\n",
      "    shape : int or tuple of ints\n",
      "        Shape of the new array, e.g., ``(2, 3)`` or ``2``.\n",
      "    dtype : data-type, optional\n",
      "        The desired data-type for the array, e.g., `numpy.int8`.  Default is\n",
      "        `numpy.float64`.\n",
      "    order : {'C', 'F'}, optional, default: 'C'\n",
      "        Whether to store multi-dimensional data in row-major\n",
      "        (C-style) or column-major (Fortran-style) order in\n",
      "        memory.\n",
      "    \n",
      "    Returns\n",
      "    -------\n",
      "    out : ndarray\n",
      "        Array of zeros with the given shape, dtype, and order.\n",
      "    \n",
      "    See Also\n",
      "    --------\n",
      "    zeros_like : Return an array of zeros with shape and type of input.\n",
      "    empty : Return a new uninitialized array.\n",
      "    ones : Return a new array setting values to one.\n",
      "    full : Return a new array of given shape filled with value.\n",
      "    \n",
      "    Examples\n",
      "    --------\n",
      "    >>> np.zeros(5)\n",
      "    array([ 0.,  0.,  0.,  0.,  0.])\n",
      "    \n",
      "    >>> np.zeros((5,), dtype=int)\n",
      "    array([0, 0, 0, 0, 0])\n",
      "    \n",
      "    >>> np.zeros((2, 1))\n",
      "    array([[ 0.],\n",
      "           [ 0.]])\n",
      "    \n",
      "    >>> s = (2,2)\n",
      "    >>> np.zeros(s)\n",
      "    array([[ 0.,  0.],\n",
      "           [ 0.,  0.]])\n",
      "    \n",
      "    >>> np.zeros((2,), dtype=[('x', 'i4'), ('y', 'i4')]) # custom dtype\n",
      "    array([(0, 0), (0, 0)],\n",
      "          dtype=[('x', '<i4'), ('y', '<i4')])\n",
      "\n"
     ]
    }
   ],
   "source": [
    "help(np.zeros)"
   ]
  },
  {
   "cell_type": "code",
   "execution_count": 30,
   "metadata": {
    "scrolled": true
   },
   "outputs": [
    {
     "data": {
      "text/plain": [
       "array([[0., 0., 0., 0., 0.],\n",
       "       [0., 0., 0., 0., 0.],\n",
       "       [0., 0., 0., 0., 0.]])"
      ]
     },
     "execution_count": 30,
     "metadata": {},
     "output_type": "execute_result"
    }
   ],
   "source": [
    "np.empty((3,5))"
   ]
  },
  {
   "cell_type": "code",
   "execution_count": 31,
   "metadata": {},
   "outputs": [
    {
     "name": "stdout",
     "output_type": "stream",
     "text": [
      "0 0\n",
      "0 1\n",
      "0 2\n",
      "1 0\n",
      "1 1\n",
      "1 2\n",
      "2 0\n",
      "2 1\n",
      "2 2\n"
     ]
    }
   ],
   "source": [
    "# Create an Identity Matrix of size 3X3 \n",
    "# Create the base using np.zeros \n",
    "a = np.zeros((3,3))\n",
    "for i in range(0,3):\n",
    "    for j in range(0,3):\n",
    "        if i == j :\n",
    "            a[i][j] = 1\n",
    "#a  \n",
    "for i in range(0,3):\n",
    "    for j in range(0,3):\n",
    "        print i,j"
   ]
  },
  {
   "cell_type": "markdown",
   "metadata": {},
   "source": [
    "#### TODO ####\n",
    "* WHAT IS THE DIFFERENCE BETWEEN np.zeros AND np.empty"
   ]
  },
  {
   "cell_type": "markdown",
   "metadata": {},
   "source": [
    "### Sequence Generators"
   ]
  },
  {
   "cell_type": "code",
   "execution_count": 32,
   "metadata": {},
   "outputs": [
    {
     "data": {
      "text/plain": [
       "array([ 0. ,  2.5,  5. ,  7.5, 10. ])"
      ]
     },
     "execution_count": 32,
     "metadata": {},
     "output_type": "execute_result"
    }
   ],
   "source": [
    "start=0\n",
    "end=10\n",
    "count=5\n",
    "np.linspace(start,end,count)#Return evenly spaced numbers over a specified interval.\n",
    "                            #Returns num evenly spaced samples, calculated over the interval [start, stop].\n",
    "                            #The endpoint of the interval can optionally be excluded."
   ]
  },
  {
   "cell_type": "code",
   "execution_count": 36,
   "metadata": {},
   "outputs": [
    {
     "name": "stdout",
     "output_type": "stream",
     "text": [
      "Help on ndarray object:\n",
      "\n",
      "class ndarray(__builtin__.object)\n",
      " |  ndarray(shape, dtype=float, buffer=None, offset=0,\n",
      " |          strides=None, order=None)\n",
      " |  \n",
      " |  An array object represents a multidimensional, homogeneous array\n",
      " |  of fixed-size items.  An associated data-type object describes the\n",
      " |  format of each element in the array (its byte-order, how many bytes it\n",
      " |  occupies in memory, whether it is an integer, a floating point number,\n",
      " |  or something else, etc.)\n",
      " |  \n",
      " |  Arrays should be constructed using `array`, `zeros` or `empty` (refer\n",
      " |  to the See Also section below).  The parameters given here refer to\n",
      " |  a low-level method (`ndarray(...)`) for instantiating an array.\n",
      " |  \n",
      " |  For more information, refer to the `numpy` module and examine the\n",
      " |  methods and attributes of an array.\n",
      " |  \n",
      " |  Parameters\n",
      " |  ----------\n",
      " |  (for the __new__ method; see Notes below)\n",
      " |  \n",
      " |  shape : tuple of ints\n",
      " |      Shape of created array.\n",
      " |  dtype : data-type, optional\n",
      " |      Any object that can be interpreted as a numpy data type.\n",
      " |  buffer : object exposing buffer interface, optional\n",
      " |      Used to fill the array with data.\n",
      " |  offset : int, optional\n",
      " |      Offset of array data in buffer.\n",
      " |  strides : tuple of ints, optional\n",
      " |      Strides of data in memory.\n",
      " |  order : {'C', 'F'}, optional\n",
      " |      Row-major (C-style) or column-major (Fortran-style) order.\n",
      " |  \n",
      " |  Attributes\n",
      " |  ----------\n",
      " |  T : ndarray\n",
      " |      Transpose of the array.\n",
      " |  data : buffer\n",
      " |      The array's elements, in memory.\n",
      " |  dtype : dtype object\n",
      " |      Describes the format of the elements in the array.\n",
      " |  flags : dict\n",
      " |      Dictionary containing information related to memory use, e.g.,\n",
      " |      'C_CONTIGUOUS', 'OWNDATA', 'WRITEABLE', etc.\n",
      " |  flat : numpy.flatiter object\n",
      " |      Flattened version of the array as an iterator.  The iterator\n",
      " |      allows assignments, e.g., ``x.flat = 3`` (See `ndarray.flat` for\n",
      " |      assignment examples; TODO).\n",
      " |  imag : ndarray\n",
      " |      Imaginary part of the array.\n",
      " |  real : ndarray\n",
      " |      Real part of the array.\n",
      " |  size : int\n",
      " |      Number of elements in the array.\n",
      " |  itemsize : int\n",
      " |      The memory use of each array element in bytes.\n",
      " |  nbytes : int\n",
      " |      The total number of bytes required to store the array data,\n",
      " |      i.e., ``itemsize * size``.\n",
      " |  ndim : int\n",
      " |      The array's number of dimensions.\n",
      " |  shape : tuple of ints\n",
      " |      Shape of the array.\n",
      " |  strides : tuple of ints\n",
      " |      The step-size required to move from one element to the next in\n",
      " |      memory. For example, a contiguous ``(3, 4)`` array of type\n",
      " |      ``int16`` in C-order has strides ``(8, 2)``.  This implies that\n",
      " |      to move from element to element in memory requires jumps of 2 bytes.\n",
      " |      To move from row-to-row, one needs to jump 8 bytes at a time\n",
      " |      (``2 * 4``).\n",
      " |  ctypes : ctypes object\n",
      " |      Class containing properties of the array needed for interaction\n",
      " |      with ctypes.\n",
      " |  base : ndarray\n",
      " |      If the array is a view into another array, that array is its `base`\n",
      " |      (unless that array is also a view).  The `base` array is where the\n",
      " |      array data is actually stored.\n",
      " |  \n",
      " |  See Also\n",
      " |  --------\n",
      " |  array : Construct an array.\n",
      " |  zeros : Create an array, each element of which is zero.\n",
      " |  empty : Create an array, but leave its allocated memory unchanged (i.e.,\n",
      " |          it contains \"garbage\").\n",
      " |  dtype : Create a data-type.\n",
      " |  \n",
      " |  Notes\n",
      " |  -----\n",
      " |  There are two modes of creating an array using ``__new__``:\n",
      " |  \n",
      " |  1. If `buffer` is None, then only `shape`, `dtype`, and `order`\n",
      " |     are used.\n",
      " |  2. If `buffer` is an object exposing the buffer interface, then\n",
      " |     all keywords are interpreted.\n",
      " |  \n",
      " |  No ``__init__`` method is needed because the array is fully initialized\n",
      " |  after the ``__new__`` method.\n",
      " |  \n",
      " |  Examples\n",
      " |  --------\n",
      " |  These examples illustrate the low-level `ndarray` constructor.  Refer\n",
      " |  to the `See Also` section above for easier ways of constructing an\n",
      " |  ndarray.\n",
      " |  \n",
      " |  First mode, `buffer` is None:\n",
      " |  \n",
      " |  >>> np.ndarray(shape=(2,2), dtype=float, order='F')\n",
      " |  array([[ -1.13698227e+002,   4.25087011e-303],\n",
      " |         [  2.88528414e-306,   3.27025015e-309]])         #random\n",
      " |  \n",
      " |  Second mode:\n",
      " |  \n",
      " |  >>> np.ndarray((2,), buffer=np.array([1,2,3]),\n",
      " |  ...            offset=np.int_().itemsize,\n",
      " |  ...            dtype=int) # offset = 1*itemsize, i.e. skip first element\n",
      " |  array([2, 3])\n",
      " |  \n",
      " |  Methods defined here:\n",
      " |  \n",
      " |  __abs__(...)\n",
      " |      x.__abs__() <==> abs(x)\n",
      " |  \n",
      " |  __add__(...)\n",
      " |      x.__add__(y) <==> x+y\n",
      " |  \n",
      " |  __and__(...)\n",
      " |      x.__and__(y) <==> x&y\n",
      " |  \n",
      " |  __array__(...)\n",
      " |      a.__array__(|dtype) -> reference if type unchanged, copy otherwise.\n",
      " |      \n",
      " |      Returns either a new reference to self if dtype is not given or a new array\n",
      " |      of provided data type if dtype is different from the current dtype of the\n",
      " |      array.\n",
      " |  \n",
      " |  __array_prepare__(...)\n",
      " |      a.__array_prepare__(obj) -> Object of same type as ndarray object obj.\n",
      " |  \n",
      " |  __array_ufunc__(...)\n",
      " |  \n",
      " |  __array_wrap__(...)\n",
      " |      a.__array_wrap__(obj) -> Object of same type as ndarray object a.\n",
      " |  \n",
      " |  __complex__(...)\n",
      " |  \n",
      " |  __contains__(...)\n",
      " |      x.__contains__(y) <==> y in x\n",
      " |  \n",
      " |  __copy__(...)\n",
      " |      a.__copy__()\n",
      " |      \n",
      " |      Used if :func:`copy.copy` is called on an array. Returns a copy of the array.\n",
      " |      \n",
      " |      Equivalent to ``a.copy(order='K')``.\n",
      " |  \n",
      " |  __deepcopy__(...)\n",
      " |      a.__deepcopy__(memo, /) -> Deep copy of array.\n",
      " |      \n",
      " |      Used if :func:`copy.deepcopy` is called on an array.\n",
      " |  \n",
      " |  __delitem__(...)\n",
      " |      x.__delitem__(y) <==> del x[y]\n",
      " |  \n",
      " |  __div__(...)\n",
      " |      x.__div__(y) <==> x/y\n",
      " |  \n",
      " |  __divmod__(...)\n",
      " |      x.__divmod__(y) <==> divmod(x, y)\n",
      " |  \n",
      " |  __eq__(...)\n",
      " |      x.__eq__(y) <==> x==y\n",
      " |  \n",
      " |  __float__(...)\n",
      " |      x.__float__() <==> float(x)\n",
      " |  \n",
      " |  __floordiv__(...)\n",
      " |      x.__floordiv__(y) <==> x//y\n",
      " |  \n",
      " |  __format__(...)\n",
      " |  \n",
      " |  __ge__(...)\n",
      " |      x.__ge__(y) <==> x>=y\n",
      " |  \n",
      " |  __getitem__(...)\n",
      " |      x.__getitem__(y) <==> x[y]\n",
      " |  \n",
      " |  __getslice__(...)\n",
      " |  \n",
      " |  __gt__(...)\n",
      " |      x.__gt__(y) <==> x>y\n",
      " |  \n",
      " |  __hex__(...)\n",
      " |      x.__hex__() <==> hex(x)\n",
      " |  \n",
      " |  __iadd__(...)\n",
      " |      x.__iadd__(y) <==> x+=y\n",
      " |  \n",
      " |  __iand__(...)\n",
      " |      x.__iand__(y) <==> x&=y\n",
      " |  \n",
      " |  __idiv__(...)\n",
      " |      x.__idiv__(y) <==> x/=y\n",
      " |  \n",
      " |  __ifloordiv__(...)\n",
      " |      x.__ifloordiv__(y) <==> x//=y\n",
      " |  \n",
      " |  __ilshift__(...)\n",
      " |      x.__ilshift__(y) <==> x<<=y\n",
      " |  \n",
      " |  __imod__(...)\n",
      " |      x.__imod__(y) <==> x%=y\n",
      " |  \n",
      " |  __imul__(...)\n",
      " |      x.__imul__(y) <==> x*=y\n",
      " |  \n",
      " |  __index__(...)\n",
      " |      x[y:z] <==> x[y.__index__():z.__index__()]\n",
      " |  \n",
      " |  __int__(...)\n",
      " |      x.__int__() <==> int(x)\n",
      " |  \n",
      " |  __invert__(...)\n",
      " |      x.__invert__() <==> ~x\n",
      " |  \n",
      " |  __ior__(...)\n",
      " |      x.__ior__(y) <==> x|=y\n",
      " |  \n",
      " |  __ipow__(...)\n",
      " |      x.__ipow__(y) <==> x**=y\n",
      " |  \n",
      " |  __irshift__(...)\n",
      " |      x.__irshift__(y) <==> x>>=y\n",
      " |  \n",
      " |  __isub__(...)\n",
      " |      x.__isub__(y) <==> x-=y\n",
      " |  \n",
      " |  __iter__(...)\n",
      " |      x.__iter__() <==> iter(x)\n",
      " |  \n",
      " |  __itruediv__(...)\n",
      " |      x.__itruediv__(y) <==> x/=y\n",
      " |  \n",
      " |  __ixor__(...)\n",
      " |      x.__ixor__(y) <==> x^=y\n",
      " |  \n",
      " |  __le__(...)\n",
      " |      x.__le__(y) <==> x<=y\n",
      " |  \n",
      " |  __len__(...)\n",
      " |      x.__len__() <==> len(x)\n",
      " |  \n",
      " |  __long__(...)\n",
      " |      x.__long__() <==> long(x)\n",
      " |  \n",
      " |  __lshift__(...)\n",
      " |      x.__lshift__(y) <==> x<<y\n",
      " |  \n",
      " |  __lt__(...)\n",
      " |      x.__lt__(y) <==> x<y\n",
      " |  \n",
      " |  __mod__(...)\n",
      " |      x.__mod__(y) <==> x%y\n",
      " |  \n",
      " |  __mul__(...)\n",
      " |      x.__mul__(y) <==> x*y\n",
      " |  \n",
      " |  __ne__(...)\n",
      " |      x.__ne__(y) <==> x!=y\n",
      " |  \n",
      " |  __neg__(...)\n",
      " |      x.__neg__() <==> -x\n",
      " |  \n",
      " |  __nonzero__(...)\n",
      " |      x.__nonzero__() <==> x != 0\n",
      " |  \n",
      " |  __oct__(...)\n",
      " |      x.__oct__() <==> oct(x)\n",
      " |  \n",
      " |  __or__(...)\n",
      " |      x.__or__(y) <==> x|y\n",
      " |  \n",
      " |  __pos__(...)\n",
      " |      x.__pos__() <==> +x\n",
      " |  \n",
      " |  __pow__(...)\n",
      " |      x.__pow__(y[, z]) <==> pow(x, y[, z])\n",
      " |  \n",
      " |  __radd__(...)\n",
      " |      x.__radd__(y) <==> y+x\n",
      " |  \n",
      " |  __rand__(...)\n",
      " |      x.__rand__(y) <==> y&x\n",
      " |  \n",
      " |  __rdiv__(...)\n",
      " |      x.__rdiv__(y) <==> y/x\n",
      " |  \n",
      " |  __rdivmod__(...)\n",
      " |      x.__rdivmod__(y) <==> divmod(y, x)\n",
      " |  \n",
      " |  __reduce__(...)\n",
      " |      a.__reduce__()\n",
      " |      \n",
      " |      For pickling.\n",
      " |  \n",
      " |  __repr__(...)\n",
      " |      x.__repr__() <==> repr(x)\n",
      " |  \n",
      " |  __rfloordiv__(...)\n",
      " |      x.__rfloordiv__(y) <==> y//x\n",
      " |  \n",
      " |  __rlshift__(...)\n",
      " |      x.__rlshift__(y) <==> y<<x\n",
      " |  \n",
      " |  __rmod__(...)\n",
      " |      x.__rmod__(y) <==> y%x\n",
      " |  \n",
      " |  __rmul__(...)\n",
      " |      x.__rmul__(y) <==> y*x\n",
      " |  \n",
      " |  __ror__(...)\n",
      " |      x.__ror__(y) <==> y|x\n",
      " |  \n",
      " |  __rpow__(...)\n",
      " |      y.__rpow__(x[, z]) <==> pow(x, y[, z])\n",
      " |  \n",
      " |  __rrshift__(...)\n",
      " |      x.__rrshift__(y) <==> y>>x\n",
      " |  \n",
      " |  __rshift__(...)\n",
      " |      x.__rshift__(y) <==> x>>y\n",
      " |  \n",
      " |  __rsub__(...)\n",
      " |      x.__rsub__(y) <==> y-x\n",
      " |  \n",
      " |  __rtruediv__(...)\n",
      " |      x.__rtruediv__(y) <==> y/x\n",
      " |  \n",
      " |  __rxor__(...)\n",
      " |      x.__rxor__(y) <==> y^x\n",
      " |  \n",
      " |  __setitem__(...)\n",
      " |      x.__setitem__(i, y) <==> x[i]=y\n",
      " |  \n",
      " |  __setslice__(...)\n",
      " |  \n",
      " |  __setstate__(...)\n",
      " |      a.__setstate__(state, /)\n",
      " |      \n",
      " |      For unpickling.\n",
      " |      \n",
      " |      The `state` argument must be a sequence that contains the following\n",
      " |      elements:\n",
      " |      \n",
      " |      Parameters\n",
      " |      ----------\n",
      " |      version : int\n",
      " |          optional pickle version. If omitted defaults to 0.\n",
      " |      shape : tuple\n",
      " |      dtype : data-type\n",
      " |      isFortran : bool\n",
      " |      rawdata : string or list\n",
      " |          a binary string with the data (or a list if 'a' is an object array)\n",
      " |  \n",
      " |  __sizeof__(...)\n",
      " |  \n",
      " |  __str__(...)\n",
      " |      x.__str__() <==> str(x)\n",
      " |  \n",
      " |  __sub__(...)\n",
      " |      x.__sub__(y) <==> x-y\n",
      " |  \n",
      " |  __truediv__(...)\n",
      " |      x.__truediv__(y) <==> x/y\n",
      " |  \n",
      " |  __unicode__(...)\n",
      " |  \n",
      " |  __xor__(...)\n",
      " |      x.__xor__(y) <==> x^y\n",
      " |  \n",
      " |  all(...)\n",
      " |      a.all(axis=None, out=None, keepdims=False)\n",
      " |      \n",
      " |      Returns True if all elements evaluate to True.\n",
      " |      \n",
      " |      Refer to `numpy.all` for full documentation.\n",
      " |      \n",
      " |      See Also\n",
      " |      --------\n",
      " |      numpy.all : equivalent function\n",
      " |  \n",
      " |  any(...)\n",
      " |      a.any(axis=None, out=None, keepdims=False)\n",
      " |      \n",
      " |      Returns True if any of the elements of `a` evaluate to True.\n",
      " |      \n",
      " |      Refer to `numpy.any` for full documentation.\n",
      " |      \n",
      " |      See Also\n",
      " |      --------\n",
      " |      numpy.any : equivalent function\n",
      " |  \n",
      " |  argmax(...)\n",
      " |      a.argmax(axis=None, out=None)\n",
      " |      \n",
      " |      Return indices of the maximum values along the given axis.\n",
      " |      \n",
      " |      Refer to `numpy.argmax` for full documentation.\n",
      " |      \n",
      " |      See Also\n",
      " |      --------\n",
      " |      numpy.argmax : equivalent function\n",
      " |  \n",
      " |  argmin(...)\n",
      " |      a.argmin(axis=None, out=None)\n",
      " |      \n",
      " |      Return indices of the minimum values along the given axis of `a`.\n",
      " |      \n",
      " |      Refer to `numpy.argmin` for detailed documentation.\n",
      " |      \n",
      " |      See Also\n",
      " |      --------\n",
      " |      numpy.argmin : equivalent function\n",
      " |  \n",
      " |  argpartition(...)\n",
      " |      a.argpartition(kth, axis=-1, kind='introselect', order=None)\n",
      " |      \n",
      " |      Returns the indices that would partition this array.\n",
      " |      \n",
      " |      Refer to `numpy.argpartition` for full documentation.\n",
      " |      \n",
      " |      .. versionadded:: 1.8.0\n",
      " |      \n",
      " |      See Also\n",
      " |      --------\n",
      " |      numpy.argpartition : equivalent function\n",
      " |  \n",
      " |  argsort(...)\n",
      " |      a.argsort(axis=-1, kind='quicksort', order=None)\n",
      " |      \n",
      " |      Returns the indices that would sort this array.\n",
      " |      \n",
      " |      Refer to `numpy.argsort` for full documentation.\n",
      " |      \n",
      " |      See Also\n",
      " |      --------\n",
      " |      numpy.argsort : equivalent function\n",
      " |  \n",
      " |  astype(...)\n",
      " |      a.astype(dtype, order='K', casting='unsafe', subok=True, copy=True)\n",
      " |      \n",
      " |      Copy of the array, cast to a specified type.\n",
      " |      \n",
      " |      Parameters\n",
      " |      ----------\n",
      " |      dtype : str or dtype\n",
      " |          Typecode or data-type to which the array is cast.\n",
      " |      order : {'C', 'F', 'A', 'K'}, optional\n",
      " |          Controls the memory layout order of the result.\n",
      " |          'C' means C order, 'F' means Fortran order, 'A'\n",
      " |          means 'F' order if all the arrays are Fortran contiguous,\n",
      " |          'C' order otherwise, and 'K' means as close to the\n",
      " |          order the array elements appear in memory as possible.\n",
      " |          Default is 'K'.\n",
      " |      casting : {'no', 'equiv', 'safe', 'same_kind', 'unsafe'}, optional\n",
      " |          Controls what kind of data casting may occur. Defaults to 'unsafe'\n",
      " |          for backwards compatibility.\n",
      " |      \n",
      " |            * 'no' means the data types should not be cast at all.\n",
      " |            * 'equiv' means only byte-order changes are allowed.\n",
      " |            * 'safe' means only casts which can preserve values are allowed.\n",
      " |            * 'same_kind' means only safe casts or casts within a kind,\n",
      " |              like float64 to float32, are allowed.\n",
      " |            * 'unsafe' means any data conversions may be done.\n",
      " |      subok : bool, optional\n",
      " |          If True, then sub-classes will be passed-through (default), otherwise\n",
      " |          the returned array will be forced to be a base-class array.\n",
      " |      copy : bool, optional\n",
      " |          By default, astype always returns a newly allocated array. If this\n",
      " |          is set to false, and the `dtype`, `order`, and `subok`\n",
      " |          requirements are satisfied, the input array is returned instead\n",
      " |          of a copy.\n",
      " |      \n",
      " |      Returns\n",
      " |      -------\n",
      " |      arr_t : ndarray\n",
      " |          Unless `copy` is False and the other conditions for returning the input\n",
      " |          array are satisfied (see description for `copy` input parameter), `arr_t`\n",
      " |          is a new array of the same shape as the input array, with dtype, order\n",
      " |          given by `dtype`, `order`.\n",
      " |      \n",
      " |      Notes\n",
      " |      -----\n",
      " |      Starting in NumPy 1.9, astype method now returns an error if the string\n",
      " |      dtype to cast to is not long enough in 'safe' casting mode to hold the max\n",
      " |      value of integer/float array that is being casted. Previously the casting\n",
      " |      was allowed even if the result was truncated.\n",
      " |      \n",
      " |      Raises\n",
      " |      ------\n",
      " |      ComplexWarning\n",
      " |          When casting from complex to float or int. To avoid this,\n",
      " |          one should use ``a.real.astype(t)``.\n",
      " |      \n",
      " |      Examples\n",
      " |      --------\n",
      " |      >>> x = np.array([1, 2, 2.5])\n",
      " |      >>> x\n",
      " |      array([ 1. ,  2. ,  2.5])\n",
      " |      \n",
      " |      >>> x.astype(int)\n",
      " |      array([1, 2, 2])\n",
      " |  \n",
      " |  byteswap(...)\n",
      " |      a.byteswap(inplace=False)\n",
      " |      \n",
      " |      Swap the bytes of the array elements\n",
      " |      \n",
      " |      Toggle between low-endian and big-endian data representation by\n",
      " |      returning a byteswapped array, optionally swapped in-place.\n",
      " |      \n",
      " |      Parameters\n",
      " |      ----------\n",
      " |      inplace : bool, optional\n",
      " |          If ``True``, swap bytes in-place, default is ``False``.\n",
      " |      \n",
      " |      Returns\n",
      " |      -------\n",
      " |      out : ndarray\n",
      " |          The byteswapped array. If `inplace` is ``True``, this is\n",
      " |          a view to self.\n",
      " |      \n",
      " |      Examples\n",
      " |      --------\n",
      " |      >>> A = np.array([1, 256, 8755], dtype=np.int16)\n",
      " |      >>> map(hex, A)\n",
      " |      ['0x1', '0x100', '0x2233']\n",
      " |      >>> A.byteswap(inplace=True)\n",
      " |      array([  256,     1, 13090], dtype=int16)\n",
      " |      >>> map(hex, A)\n",
      " |      ['0x100', '0x1', '0x3322']\n",
      " |      \n",
      " |      Arrays of strings are not swapped\n",
      " |      \n",
      " |      >>> A = np.array(['ceg', 'fac'])\n",
      " |      >>> A.byteswap()\n",
      " |      array(['ceg', 'fac'],\n",
      " |            dtype='|S3')\n",
      " |  \n",
      " |  choose(...)\n",
      " |      a.choose(choices, out=None, mode='raise')\n",
      " |      \n",
      " |      Use an index array to construct a new array from a set of choices.\n",
      " |      \n",
      " |      Refer to `numpy.choose` for full documentation.\n",
      " |      \n",
      " |      See Also\n",
      " |      --------\n",
      " |      numpy.choose : equivalent function\n",
      " |  \n",
      " |  clip(...)\n",
      " |      a.clip(min=None, max=None, out=None)\n",
      " |      \n",
      " |      Return an array whose values are limited to ``[min, max]``.\n",
      " |      One of max or min must be given.\n",
      " |      \n",
      " |      Refer to `numpy.clip` for full documentation.\n",
      " |      \n",
      " |      See Also\n",
      " |      --------\n",
      " |      numpy.clip : equivalent function\n",
      " |  \n",
      " |  compress(...)\n",
      " |      a.compress(condition, axis=None, out=None)\n",
      " |      \n",
      " |      Return selected slices of this array along given axis.\n",
      " |      \n",
      " |      Refer to `numpy.compress` for full documentation.\n",
      " |      \n",
      " |      See Also\n",
      " |      --------\n",
      " |      numpy.compress : equivalent function\n",
      " |  \n",
      " |  conj(...)\n",
      " |      a.conj()\n",
      " |      \n",
      " |      Complex-conjugate all elements.\n",
      " |      \n",
      " |      Refer to `numpy.conjugate` for full documentation.\n",
      " |      \n",
      " |      See Also\n",
      " |      --------\n",
      " |      numpy.conjugate : equivalent function\n",
      " |  \n",
      " |  conjugate(...)\n",
      " |      a.conjugate()\n",
      " |      \n",
      " |      Return the complex conjugate, element-wise.\n",
      " |      \n",
      " |      Refer to `numpy.conjugate` for full documentation.\n",
      " |      \n",
      " |      See Also\n",
      " |      --------\n",
      " |      numpy.conjugate : equivalent function\n",
      " |  \n",
      " |  copy(...)\n",
      " |      a.copy(order='C')\n",
      " |      \n",
      " |      Return a copy of the array.\n",
      " |      \n",
      " |      Parameters\n",
      " |      ----------\n",
      " |      order : {'C', 'F', 'A', 'K'}, optional\n",
      " |          Controls the memory layout of the copy. 'C' means C-order,\n",
      " |          'F' means F-order, 'A' means 'F' if `a` is Fortran contiguous,\n",
      " |          'C' otherwise. 'K' means match the layout of `a` as closely\n",
      " |          as possible. (Note that this function and :func:`numpy.copy` are very\n",
      " |          similar, but have different default values for their order=\n",
      " |          arguments.)\n",
      " |      \n",
      " |      See also\n",
      " |      --------\n",
      " |      numpy.copy\n",
      " |      numpy.copyto\n",
      " |      \n",
      " |      Examples\n",
      " |      --------\n",
      " |      >>> x = np.array([[1,2,3],[4,5,6]], order='F')\n",
      " |      \n",
      " |      >>> y = x.copy()\n",
      " |      \n",
      " |      >>> x.fill(0)\n",
      " |      \n",
      " |      >>> x\n",
      " |      array([[0, 0, 0],\n",
      " |             [0, 0, 0]])\n",
      " |      \n",
      " |      >>> y\n",
      " |      array([[1, 2, 3],\n",
      " |             [4, 5, 6]])\n",
      " |      \n",
      " |      >>> y.flags['C_CONTIGUOUS']\n",
      " |      True\n",
      " |  \n",
      " |  cumprod(...)\n",
      " |      a.cumprod(axis=None, dtype=None, out=None)\n",
      " |      \n",
      " |      Return the cumulative product of the elements along the given axis.\n",
      " |      \n",
      " |      Refer to `numpy.cumprod` for full documentation.\n",
      " |      \n",
      " |      See Also\n",
      " |      --------\n",
      " |      numpy.cumprod : equivalent function\n",
      " |  \n",
      " |  cumsum(...)\n",
      " |      a.cumsum(axis=None, dtype=None, out=None)\n",
      " |      \n",
      " |      Return the cumulative sum of the elements along the given axis.\n",
      " |      \n",
      " |      Refer to `numpy.cumsum` for full documentation.\n",
      " |      \n",
      " |      See Also\n",
      " |      --------\n",
      " |      numpy.cumsum : equivalent function\n",
      " |  \n",
      " |  diagonal(...)\n",
      " |      a.diagonal(offset=0, axis1=0, axis2=1)\n",
      " |      \n",
      " |      Return specified diagonals. In NumPy 1.9 the returned array is a\n",
      " |      read-only view instead of a copy as in previous NumPy versions.  In\n",
      " |      a future version the read-only restriction will be removed.\n",
      " |      \n",
      " |      Refer to :func:`numpy.diagonal` for full documentation.\n",
      " |      \n",
      " |      See Also\n",
      " |      --------\n",
      " |      numpy.diagonal : equivalent function\n",
      " |  \n",
      " |  dot(...)\n",
      " |      a.dot(b, out=None)\n",
      " |      \n",
      " |      Dot product of two arrays.\n",
      " |      \n",
      " |      Refer to `numpy.dot` for full documentation.\n",
      " |      \n",
      " |      See Also\n",
      " |      --------\n",
      " |      numpy.dot : equivalent function\n",
      " |      \n",
      " |      Examples\n",
      " |      --------\n",
      " |      >>> a = np.eye(2)\n",
      " |      >>> b = np.ones((2, 2)) * 2\n",
      " |      >>> a.dot(b)\n",
      " |      array([[ 2.,  2.],\n",
      " |             [ 2.,  2.]])\n",
      " |      \n",
      " |      This array method can be conveniently chained:\n",
      " |      \n",
      " |      >>> a.dot(b).dot(b)\n",
      " |      array([[ 8.,  8.],\n",
      " |             [ 8.,  8.]])\n",
      " |  \n",
      " |  dump(...)\n",
      " |      a.dump(file)\n",
      " |      \n",
      " |      Dump a pickle of the array to the specified file.\n",
      " |      The array can be read back with pickle.load or numpy.load.\n",
      " |      \n",
      " |      Parameters\n",
      " |      ----------\n",
      " |      file : str\n",
      " |          A string naming the dump file.\n",
      " |  \n",
      " |  dumps(...)\n",
      " |      a.dumps()\n",
      " |      \n",
      " |      Returns the pickle of the array as a string.\n",
      " |      pickle.loads or numpy.loads will convert the string back to an array.\n",
      " |      \n",
      " |      Parameters\n",
      " |      ----------\n",
      " |      None\n",
      " |  \n",
      " |  fill(...)\n",
      " |      a.fill(value)\n",
      " |      \n",
      " |      Fill the array with a scalar value.\n",
      " |      \n",
      " |      Parameters\n",
      " |      ----------\n",
      " |      value : scalar\n",
      " |          All elements of `a` will be assigned this value.\n",
      " |      \n",
      " |      Examples\n",
      " |      --------\n",
      " |      >>> a = np.array([1, 2])\n",
      " |      >>> a.fill(0)\n",
      " |      >>> a\n",
      " |      array([0, 0])\n",
      " |      >>> a = np.empty(2)\n",
      " |      >>> a.fill(1)\n",
      " |      >>> a\n",
      " |      array([ 1.,  1.])\n",
      " |  \n",
      " |  flatten(...)\n",
      " |      a.flatten(order='C')\n",
      " |      \n",
      " |      Return a copy of the array collapsed into one dimension.\n",
      " |      \n",
      " |      Parameters\n",
      " |      ----------\n",
      " |      order : {'C', 'F', 'A', 'K'}, optional\n",
      " |          'C' means to flatten in row-major (C-style) order.\n",
      " |          'F' means to flatten in column-major (Fortran-\n",
      " |          style) order. 'A' means to flatten in column-major\n",
      " |          order if `a` is Fortran *contiguous* in memory,\n",
      " |          row-major order otherwise. 'K' means to flatten\n",
      " |          `a` in the order the elements occur in memory.\n",
      " |          The default is 'C'.\n",
      " |      \n",
      " |      Returns\n",
      " |      -------\n",
      " |      y : ndarray\n",
      " |          A copy of the input array, flattened to one dimension.\n",
      " |      \n",
      " |      See Also\n",
      " |      --------\n",
      " |      ravel : Return a flattened array.\n",
      " |      flat : A 1-D flat iterator over the array.\n",
      " |      \n",
      " |      Examples\n",
      " |      --------\n",
      " |      >>> a = np.array([[1,2], [3,4]])\n",
      " |      >>> a.flatten()\n",
      " |      array([1, 2, 3, 4])\n",
      " |      >>> a.flatten('F')\n",
      " |      array([1, 3, 2, 4])\n",
      " |  \n",
      " |  getfield(...)\n",
      " |      a.getfield(dtype, offset=0)\n",
      " |      \n",
      " |      Returns a field of the given array as a certain type.\n",
      " |      \n",
      " |      A field is a view of the array data with a given data-type. The values in\n",
      " |      the view are determined by the given type and the offset into the current\n",
      " |      array in bytes. The offset needs to be such that the view dtype fits in the\n",
      " |      array dtype; for example an array of dtype complex128 has 16-byte elements.\n",
      " |      If taking a view with a 32-bit integer (4 bytes), the offset needs to be\n",
      " |      between 0 and 12 bytes.\n",
      " |      \n",
      " |      Parameters\n",
      " |      ----------\n",
      " |      dtype : str or dtype\n",
      " |          The data type of the view. The dtype size of the view can not be larger\n",
      " |          than that of the array itself.\n",
      " |      offset : int\n",
      " |          Number of bytes to skip before beginning the element view.\n",
      " |      \n",
      " |      Examples\n",
      " |      --------\n",
      " |      >>> x = np.diag([1.+1.j]*2)\n",
      " |      >>> x[1, 1] = 2 + 4.j\n",
      " |      >>> x\n",
      " |      array([[ 1.+1.j,  0.+0.j],\n",
      " |             [ 0.+0.j,  2.+4.j]])\n",
      " |      >>> x.getfield(np.float64)\n",
      " |      array([[ 1.,  0.],\n",
      " |             [ 0.,  2.]])\n",
      " |      \n",
      " |      By choosing an offset of 8 bytes we can select the complex part of the\n",
      " |      array for our view:\n",
      " |      \n",
      " |      >>> x.getfield(np.float64, offset=8)\n",
      " |      array([[ 1.,  0.],\n",
      " |         [ 0.,  4.]])\n",
      " |  \n",
      " |  item(...)\n",
      " |      a.item(*args)\n",
      " |      \n",
      " |      Copy an element of an array to a standard Python scalar and return it.\n",
      " |      \n",
      " |      Parameters\n",
      " |      ----------\n",
      " |      \\*args : Arguments (variable number and type)\n",
      " |      \n",
      " |          * none: in this case, the method only works for arrays\n",
      " |            with one element (`a.size == 1`), which element is\n",
      " |            copied into a standard Python scalar object and returned.\n",
      " |      \n",
      " |          * int_type: this argument is interpreted as a flat index into\n",
      " |            the array, specifying which element to copy and return.\n",
      " |      \n",
      " |          * tuple of int_types: functions as does a single int_type argument,\n",
      " |            except that the argument is interpreted as an nd-index into the\n",
      " |            array.\n",
      " |      \n",
      " |      Returns\n",
      " |      -------\n",
      " |      z : Standard Python scalar object\n",
      " |          A copy of the specified element of the array as a suitable\n",
      " |          Python scalar\n",
      " |      \n",
      " |      Notes\n",
      " |      -----\n",
      " |      When the data type of `a` is longdouble or clongdouble, item() returns\n",
      " |      a scalar array object because there is no available Python scalar that\n",
      " |      would not lose information. Void arrays return a buffer object for item(),\n",
      " |      unless fields are defined, in which case a tuple is returned.\n",
      " |      \n",
      " |      `item` is very similar to a[args], except, instead of an array scalar,\n",
      " |      a standard Python scalar is returned. This can be useful for speeding up\n",
      " |      access to elements of the array and doing arithmetic on elements of the\n",
      " |      array using Python's optimized math.\n",
      " |      \n",
      " |      Examples\n",
      " |      --------\n",
      " |      >>> x = np.random.randint(9, size=(3, 3))\n",
      " |      >>> x\n",
      " |      array([[3, 1, 7],\n",
      " |             [2, 8, 3],\n",
      " |             [8, 5, 3]])\n",
      " |      >>> x.item(3)\n",
      " |      2\n",
      " |      >>> x.item(7)\n",
      " |      5\n",
      " |      >>> x.item((0, 1))\n",
      " |      1\n",
      " |      >>> x.item((2, 2))\n",
      " |      3\n",
      " |  \n",
      " |  itemset(...)\n",
      " |      a.itemset(*args)\n",
      " |      \n",
      " |      Insert scalar into an array (scalar is cast to array's dtype, if possible)\n",
      " |      \n",
      " |      There must be at least 1 argument, and define the last argument\n",
      " |      as *item*.  Then, ``a.itemset(*args)`` is equivalent to but faster\n",
      " |      than ``a[args] = item``.  The item should be a scalar value and `args`\n",
      " |      must select a single item in the array `a`.\n",
      " |      \n",
      " |      Parameters\n",
      " |      ----------\n",
      " |      \\*args : Arguments\n",
      " |          If one argument: a scalar, only used in case `a` is of size 1.\n",
      " |          If two arguments: the last argument is the value to be set\n",
      " |          and must be a scalar, the first argument specifies a single array\n",
      " |          element location. It is either an int or a tuple.\n",
      " |      \n",
      " |      Notes\n",
      " |      -----\n",
      " |      Compared to indexing syntax, `itemset` provides some speed increase\n",
      " |      for placing a scalar into a particular location in an `ndarray`,\n",
      " |      if you must do this.  However, generally this is discouraged:\n",
      " |      among other problems, it complicates the appearance of the code.\n",
      " |      Also, when using `itemset` (and `item`) inside a loop, be sure\n",
      " |      to assign the methods to a local variable to avoid the attribute\n",
      " |      look-up at each loop iteration.\n",
      " |      \n",
      " |      Examples\n",
      " |      --------\n",
      " |      >>> x = np.random.randint(9, size=(3, 3))\n",
      " |      >>> x\n",
      " |      array([[3, 1, 7],\n",
      " |             [2, 8, 3],\n",
      " |             [8, 5, 3]])\n",
      " |      >>> x.itemset(4, 0)\n",
      " |      >>> x.itemset((2, 2), 9)\n",
      " |      >>> x\n",
      " |      array([[3, 1, 7],\n",
      " |             [2, 0, 3],\n",
      " |             [8, 5, 9]])\n",
      " |  \n",
      " |  max(...)\n",
      " |      a.max(axis=None, out=None, keepdims=False)\n",
      " |      \n",
      " |      Return the maximum along a given axis.\n",
      " |      \n",
      " |      Refer to `numpy.amax` for full documentation.\n",
      " |      \n",
      " |      See Also\n",
      " |      --------\n",
      " |      numpy.amax : equivalent function\n",
      " |  \n",
      " |  mean(...)\n",
      " |      a.mean(axis=None, dtype=None, out=None, keepdims=False)\n",
      " |      \n",
      " |      Returns the average of the array elements along given axis.\n",
      " |      \n",
      " |      Refer to `numpy.mean` for full documentation.\n",
      " |      \n",
      " |      See Also\n",
      " |      --------\n",
      " |      numpy.mean : equivalent function\n",
      " |  \n",
      " |  min(...)\n",
      " |      a.min(axis=None, out=None, keepdims=False)\n",
      " |      \n",
      " |      Return the minimum along a given axis.\n",
      " |      \n",
      " |      Refer to `numpy.amin` for full documentation.\n",
      " |      \n",
      " |      See Also\n",
      " |      --------\n",
      " |      numpy.amin : equivalent function\n",
      " |  \n",
      " |  newbyteorder(...)\n",
      " |      arr.newbyteorder(new_order='S')\n",
      " |      \n",
      " |      Return the array with the same data viewed with a different byte order.\n",
      " |      \n",
      " |      Equivalent to::\n",
      " |      \n",
      " |          arr.view(arr.dtype.newbytorder(new_order))\n",
      " |      \n",
      " |      Changes are also made in all fields and sub-arrays of the array data\n",
      " |      type.\n",
      " |      \n",
      " |      \n",
      " |      \n",
      " |      Parameters\n",
      " |      ----------\n",
      " |      new_order : string, optional\n",
      " |          Byte order to force; a value from the byte order specifications\n",
      " |          below. `new_order` codes can be any of:\n",
      " |      \n",
      " |          * 'S' - swap dtype from current to opposite endian\n",
      " |          * {'<', 'L'} - little endian\n",
      " |          * {'>', 'B'} - big endian\n",
      " |          * {'=', 'N'} - native order\n",
      " |          * {'|', 'I'} - ignore (no change to byte order)\n",
      " |      \n",
      " |          The default value ('S') results in swapping the current\n",
      " |          byte order. The code does a case-insensitive check on the first\n",
      " |          letter of `new_order` for the alternatives above.  For example,\n",
      " |          any of 'B' or 'b' or 'biggish' are valid to specify big-endian.\n",
      " |      \n",
      " |      \n",
      " |      Returns\n",
      " |      -------\n",
      " |      new_arr : array\n",
      " |          New array object with the dtype reflecting given change to the\n",
      " |          byte order.\n",
      " |  \n",
      " |  nonzero(...)\n",
      " |      a.nonzero()\n",
      " |      \n",
      " |      Return the indices of the elements that are non-zero.\n",
      " |      \n",
      " |      Refer to `numpy.nonzero` for full documentation.\n",
      " |      \n",
      " |      See Also\n",
      " |      --------\n",
      " |      numpy.nonzero : equivalent function\n",
      " |  \n",
      " |  partition(...)\n",
      " |      a.partition(kth, axis=-1, kind='introselect', order=None)\n",
      " |      \n",
      " |      Rearranges the elements in the array in such a way that value of the\n",
      " |      element in kth position is in the position it would be in a sorted array.\n",
      " |      All elements smaller than the kth element are moved before this element and\n",
      " |      all equal or greater are moved behind it. The ordering of the elements in\n",
      " |      the two partitions is undefined.\n",
      " |      \n",
      " |      .. versionadded:: 1.8.0\n",
      " |      \n",
      " |      Parameters\n",
      " |      ----------\n",
      " |      kth : int or sequence of ints\n",
      " |          Element index to partition by. The kth element value will be in its\n",
      " |          final sorted position and all smaller elements will be moved before it\n",
      " |          and all equal or greater elements behind it.\n",
      " |          The order all elements in the partitions is undefined.\n",
      " |          If provided with a sequence of kth it will partition all elements\n",
      " |          indexed by kth of them into their sorted position at once.\n",
      " |      axis : int, optional\n",
      " |          Axis along which to sort. Default is -1, which means sort along the\n",
      " |          last axis.\n",
      " |      kind : {'introselect'}, optional\n",
      " |          Selection algorithm. Default is 'introselect'.\n",
      " |      order : str or list of str, optional\n",
      " |          When `a` is an array with fields defined, this argument specifies\n",
      " |          which fields to compare first, second, etc.  A single field can\n",
      " |          be specified as a string, and not all fields need be specified,\n",
      " |          but unspecified fields will still be used, in the order in which\n",
      " |          they come up in the dtype, to break ties.\n",
      " |      \n",
      " |      See Also\n",
      " |      --------\n",
      " |      numpy.partition : Return a parititioned copy of an array.\n",
      " |      argpartition : Indirect partition.\n",
      " |      sort : Full sort.\n",
      " |      \n",
      " |      Notes\n",
      " |      -----\n",
      " |      See ``np.partition`` for notes on the different algorithms.\n",
      " |      \n",
      " |      Examples\n",
      " |      --------\n",
      " |      >>> a = np.array([3, 4, 2, 1])\n",
      " |      >>> a.partition(3)\n",
      " |      >>> a\n",
      " |      array([2, 1, 3, 4])\n",
      " |      \n",
      " |      >>> a.partition((1, 3))\n",
      " |      array([1, 2, 3, 4])\n",
      " |  \n",
      " |  prod(...)\n",
      " |      a.prod(axis=None, dtype=None, out=None, keepdims=False)\n",
      " |      \n",
      " |      Return the product of the array elements over the given axis\n",
      " |      \n",
      " |      Refer to `numpy.prod` for full documentation.\n",
      " |      \n",
      " |      See Also\n",
      " |      --------\n",
      " |      numpy.prod : equivalent function\n",
      " |  \n",
      " |  ptp(...)\n",
      " |      a.ptp(axis=None, out=None)\n",
      " |      \n",
      " |      Peak to peak (maximum - minimum) value along a given axis.\n",
      " |      \n",
      " |      Refer to `numpy.ptp` for full documentation.\n",
      " |      \n",
      " |      See Also\n",
      " |      --------\n",
      " |      numpy.ptp : equivalent function\n",
      " |  \n",
      " |  put(...)\n",
      " |      a.put(indices, values, mode='raise')\n",
      " |      \n",
      " |      Set ``a.flat[n] = values[n]`` for all `n` in indices.\n",
      " |      \n",
      " |      Refer to `numpy.put` for full documentation.\n",
      " |      \n",
      " |      See Also\n",
      " |      --------\n",
      " |      numpy.put : equivalent function\n",
      " |  \n",
      " |  ravel(...)\n",
      " |      a.ravel([order])\n",
      " |      \n",
      " |      Return a flattened array.\n",
      " |      \n",
      " |      Refer to `numpy.ravel` for full documentation.\n",
      " |      \n",
      " |      See Also\n",
      " |      --------\n",
      " |      numpy.ravel : equivalent function\n",
      " |      \n",
      " |      ndarray.flat : a flat iterator on the array.\n",
      " |  \n",
      " |  repeat(...)\n",
      " |      a.repeat(repeats, axis=None)\n",
      " |      \n",
      " |      Repeat elements of an array.\n",
      " |      \n",
      " |      Refer to `numpy.repeat` for full documentation.\n",
      " |      \n",
      " |      See Also\n",
      " |      --------\n",
      " |      numpy.repeat : equivalent function\n",
      " |  \n",
      " |  reshape(...)\n",
      " |      a.reshape(shape, order='C')\n",
      " |      \n",
      " |      Returns an array containing the same data with a new shape.\n",
      " |      \n",
      " |      Refer to `numpy.reshape` for full documentation.\n",
      " |      \n",
      " |      See Also\n",
      " |      --------\n",
      " |      numpy.reshape : equivalent function\n",
      " |      \n",
      " |      Notes\n",
      " |      -----\n",
      " |      Unlike the free function `numpy.reshape`, this method on `ndarray` allows\n",
      " |      the elements of the shape parameter to be passed in as separate arguments.\n",
      " |      For example, ``a.reshape(10, 11)`` is equivalent to\n",
      " |      ``a.reshape((10, 11))``.\n",
      " |  \n",
      " |  resize(...)\n",
      " |      a.resize(new_shape, refcheck=True)\n",
      " |      \n",
      " |      Change shape and size of array in-place.\n",
      " |      \n",
      " |      Parameters\n",
      " |      ----------\n",
      " |      new_shape : tuple of ints, or `n` ints\n",
      " |          Shape of resized array.\n",
      " |      refcheck : bool, optional\n",
      " |          If False, reference count will not be checked. Default is True.\n",
      " |      \n",
      " |      Returns\n",
      " |      -------\n",
      " |      None\n",
      " |      \n",
      " |      Raises\n",
      " |      ------\n",
      " |      ValueError\n",
      " |          If `a` does not own its own data or references or views to it exist,\n",
      " |          and the data memory must be changed.\n",
      " |          PyPy only: will always raise if the data memory must be changed, since\n",
      " |          there is no reliable way to determine if references or views to it\n",
      " |          exist.\n",
      " |      \n",
      " |      SystemError\n",
      " |          If the `order` keyword argument is specified. This behaviour is a\n",
      " |          bug in NumPy.\n",
      " |      \n",
      " |      See Also\n",
      " |      --------\n",
      " |      resize : Return a new array with the specified shape.\n",
      " |      \n",
      " |      Notes\n",
      " |      -----\n",
      " |      This reallocates space for the data area if necessary.\n",
      " |      \n",
      " |      Only contiguous arrays (data elements consecutive in memory) can be\n",
      " |      resized.\n",
      " |      \n",
      " |      The purpose of the reference count check is to make sure you\n",
      " |      do not use this array as a buffer for another Python object and then\n",
      " |      reallocate the memory. However, reference counts can increase in\n",
      " |      other ways so if you are sure that you have not shared the memory\n",
      " |      for this array with another Python object, then you may safely set\n",
      " |      `refcheck` to False.\n",
      " |      \n",
      " |      Examples\n",
      " |      --------\n",
      " |      Shrinking an array: array is flattened (in the order that the data are\n",
      " |      stored in memory), resized, and reshaped:\n",
      " |      \n",
      " |      >>> a = np.array([[0, 1], [2, 3]], order='C')\n",
      " |      >>> a.resize((2, 1))\n",
      " |      >>> a\n",
      " |      array([[0],\n",
      " |             [1]])\n",
      " |      \n",
      " |      >>> a = np.array([[0, 1], [2, 3]], order='F')\n",
      " |      >>> a.resize((2, 1))\n",
      " |      >>> a\n",
      " |      array([[0],\n",
      " |             [2]])\n",
      " |      \n",
      " |      Enlarging an array: as above, but missing entries are filled with zeros:\n",
      " |      \n",
      " |      >>> b = np.array([[0, 1], [2, 3]])\n",
      " |      >>> b.resize(2, 3) # new_shape parameter doesn't have to be a tuple\n",
      " |      >>> b\n",
      " |      array([[0, 1, 2],\n",
      " |             [3, 0, 0]])\n",
      " |      \n",
      " |      Referencing an array prevents resizing...\n",
      " |      \n",
      " |      >>> c = a\n",
      " |      >>> a.resize((1, 1))\n",
      " |      Traceback (most recent call last):\n",
      " |      ...\n",
      " |      ValueError: cannot resize an array that has been referenced ...\n",
      " |      \n",
      " |      Unless `refcheck` is False:\n",
      " |      \n",
      " |      >>> a.resize((1, 1), refcheck=False)\n",
      " |      >>> a\n",
      " |      array([[0]])\n",
      " |      >>> c\n",
      " |      array([[0]])\n",
      " |  \n",
      " |  round(...)\n",
      " |      a.round(decimals=0, out=None)\n",
      " |      \n",
      " |      Return `a` with each element rounded to the given number of decimals.\n",
      " |      \n",
      " |      Refer to `numpy.around` for full documentation.\n",
      " |      \n",
      " |      See Also\n",
      " |      --------\n",
      " |      numpy.around : equivalent function\n",
      " |  \n",
      " |  searchsorted(...)\n",
      " |      a.searchsorted(v, side='left', sorter=None)\n",
      " |      \n",
      " |      Find indices where elements of v should be inserted in a to maintain order.\n",
      " |      \n",
      " |      For full documentation, see `numpy.searchsorted`\n",
      " |      \n",
      " |      See Also\n",
      " |      --------\n",
      " |      numpy.searchsorted : equivalent function\n",
      " |  \n",
      " |  setfield(...)\n",
      " |      a.setfield(val, dtype, offset=0)\n",
      " |      \n",
      " |      Put a value into a specified place in a field defined by a data-type.\n",
      " |      \n",
      " |      Place `val` into `a`'s field defined by `dtype` and beginning `offset`\n",
      " |      bytes into the field.\n",
      " |      \n",
      " |      Parameters\n",
      " |      ----------\n",
      " |      val : object\n",
      " |          Value to be placed in field.\n",
      " |      dtype : dtype object\n",
      " |          Data-type of the field in which to place `val`.\n",
      " |      offset : int, optional\n",
      " |          The number of bytes into the field at which to place `val`.\n",
      " |      \n",
      " |      Returns\n",
      " |      -------\n",
      " |      None\n",
      " |      \n",
      " |      See Also\n",
      " |      --------\n",
      " |      getfield\n",
      " |      \n",
      " |      Examples\n",
      " |      --------\n",
      " |      >>> x = np.eye(3)\n",
      " |      >>> x.getfield(np.float64)\n",
      " |      array([[ 1.,  0.,  0.],\n",
      " |             [ 0.,  1.,  0.],\n",
      " |             [ 0.,  0.,  1.]])\n",
      " |      >>> x.setfield(3, np.int32)\n",
      " |      >>> x.getfield(np.int32)\n",
      " |      array([[3, 3, 3],\n",
      " |             [3, 3, 3],\n",
      " |             [3, 3, 3]])\n",
      " |      >>> x\n",
      " |      array([[  1.00000000e+000,   1.48219694e-323,   1.48219694e-323],\n",
      " |             [  1.48219694e-323,   1.00000000e+000,   1.48219694e-323],\n",
      " |             [  1.48219694e-323,   1.48219694e-323,   1.00000000e+000]])\n",
      " |      >>> x.setfield(np.eye(3), np.int32)\n",
      " |      >>> x\n",
      " |      array([[ 1.,  0.,  0.],\n",
      " |             [ 0.,  1.,  0.],\n",
      " |             [ 0.,  0.,  1.]])\n",
      " |  \n",
      " |  setflags(...)\n",
      " |      a.setflags(write=None, align=None, uic=None)\n",
      " |      \n",
      " |      Set array flags WRITEABLE, ALIGNED, (WRITEBACKIFCOPY and UPDATEIFCOPY),\n",
      " |      respectively.\n",
      " |      \n",
      " |      These Boolean-valued flags affect how numpy interprets the memory\n",
      " |      area used by `a` (see Notes below). The ALIGNED flag can only\n",
      " |      be set to True if the data is actually aligned according to the type.\n",
      " |      The WRITEBACKIFCOPY and (deprecated) UPDATEIFCOPY flags can never be set\n",
      " |      to True. The flag WRITEABLE can only be set to True if the array owns its\n",
      " |      own memory, or the ultimate owner of the memory exposes a writeable buffer\n",
      " |      interface, or is a string. (The exception for string is made so that\n",
      " |      unpickling can be done without copying memory.)\n",
      " |      \n",
      " |      Parameters\n",
      " |      ----------\n",
      " |      write : bool, optional\n",
      " |          Describes whether or not `a` can be written to.\n",
      " |      align : bool, optional\n",
      " |          Describes whether or not `a` is aligned properly for its type.\n",
      " |      uic : bool, optional\n",
      " |          Describes whether or not `a` is a copy of another \"base\" array.\n",
      " |      \n",
      " |      Notes\n",
      " |      -----\n",
      " |      Array flags provide information about how the memory area used\n",
      " |      for the array is to be interpreted. There are 7 Boolean flags\n",
      " |      in use, only four of which can be changed by the user:\n",
      " |      WRITEBACKIFCOPY, UPDATEIFCOPY, WRITEABLE, and ALIGNED.\n",
      " |      \n",
      " |      WRITEABLE (W) the data area can be written to;\n",
      " |      \n",
      " |      ALIGNED (A) the data and strides are aligned appropriately for the hardware\n",
      " |      (as determined by the compiler);\n",
      " |      \n",
      " |      UPDATEIFCOPY (U) (deprecated), replaced by WRITEBACKIFCOPY;\n",
      " |      \n",
      " |      WRITEBACKIFCOPY (X) this array is a copy of some other array (referenced\n",
      " |      by .base). When the C-API function PyArray_ResolveWritebackIfCopy is\n",
      " |      called, the base array will be updated with the contents of this array.\n",
      " |      \n",
      " |      All flags can be accessed using the single (upper case) letter as well\n",
      " |      as the full name.\n",
      " |      \n",
      " |      Examples\n",
      " |      --------\n",
      " |      >>> y\n",
      " |      array([[3, 1, 7],\n",
      " |             [2, 0, 0],\n",
      " |             [8, 5, 9]])\n",
      " |      >>> y.flags\n",
      " |        C_CONTIGUOUS : True\n",
      " |        F_CONTIGUOUS : False\n",
      " |        OWNDATA : True\n",
      " |        WRITEABLE : True\n",
      " |        ALIGNED : True\n",
      " |        WRITEBACKIFCOPY : False\n",
      " |        UPDATEIFCOPY : False\n",
      " |      >>> y.setflags(write=0, align=0)\n",
      " |      >>> y.flags\n",
      " |        C_CONTIGUOUS : True\n",
      " |        F_CONTIGUOUS : False\n",
      " |        OWNDATA : True\n",
      " |        WRITEABLE : False\n",
      " |        ALIGNED : False\n",
      " |        WRITEBACKIFCOPY : False\n",
      " |        UPDATEIFCOPY : False\n",
      " |      >>> y.setflags(uic=1)\n",
      " |      Traceback (most recent call last):\n",
      " |        File \"<stdin>\", line 1, in <module>\n",
      " |      ValueError: cannot set WRITEBACKIFCOPY flag to True\n",
      " |  \n",
      " |  sort(...)\n",
      " |      a.sort(axis=-1, kind='quicksort', order=None)\n",
      " |      \n",
      " |      Sort an array, in-place.\n",
      " |      \n",
      " |      Parameters\n",
      " |      ----------\n",
      " |      axis : int, optional\n",
      " |          Axis along which to sort. Default is -1, which means sort along the\n",
      " |          last axis.\n",
      " |      kind : {'quicksort', 'mergesort', 'heapsort'}, optional\n",
      " |          Sorting algorithm. Default is 'quicksort'.\n",
      " |      order : str or list of str, optional\n",
      " |          When `a` is an array with fields defined, this argument specifies\n",
      " |          which fields to compare first, second, etc.  A single field can\n",
      " |          be specified as a string, and not all fields need be specified,\n",
      " |          but unspecified fields will still be used, in the order in which\n",
      " |          they come up in the dtype, to break ties.\n",
      " |      \n",
      " |      See Also\n",
      " |      --------\n",
      " |      numpy.sort : Return a sorted copy of an array.\n",
      " |      argsort : Indirect sort.\n",
      " |      lexsort : Indirect stable sort on multiple keys.\n",
      " |      searchsorted : Find elements in sorted array.\n",
      " |      partition: Partial sort.\n",
      " |      \n",
      " |      Notes\n",
      " |      -----\n",
      " |      See ``sort`` for notes on the different sorting algorithms.\n",
      " |      \n",
      " |      Examples\n",
      " |      --------\n",
      " |      >>> a = np.array([[1,4], [3,1]])\n",
      " |      >>> a.sort(axis=1)\n",
      " |      >>> a\n",
      " |      array([[1, 4],\n",
      " |             [1, 3]])\n",
      " |      >>> a.sort(axis=0)\n",
      " |      >>> a\n",
      " |      array([[1, 3],\n",
      " |             [1, 4]])\n",
      " |      \n",
      " |      Use the `order` keyword to specify a field to use when sorting a\n",
      " |      structured array:\n",
      " |      \n",
      " |      >>> a = np.array([('a', 2), ('c', 1)], dtype=[('x', 'S1'), ('y', int)])\n",
      " |      >>> a.sort(order='y')\n",
      " |      >>> a\n",
      " |      array([('c', 1), ('a', 2)],\n",
      " |            dtype=[('x', '|S1'), ('y', '<i4')])\n",
      " |  \n",
      " |  squeeze(...)\n",
      " |      a.squeeze(axis=None)\n",
      " |      \n",
      " |      Remove single-dimensional entries from the shape of `a`.\n",
      " |      \n",
      " |      Refer to `numpy.squeeze` for full documentation.\n",
      " |      \n",
      " |      See Also\n",
      " |      --------\n",
      " |      numpy.squeeze : equivalent function\n",
      " |  \n",
      " |  std(...)\n",
      " |      a.std(axis=None, dtype=None, out=None, ddof=0, keepdims=False)\n",
      " |      \n",
      " |      Returns the standard deviation of the array elements along given axis.\n",
      " |      \n",
      " |      Refer to `numpy.std` for full documentation.\n",
      " |      \n",
      " |      See Also\n",
      " |      --------\n",
      " |      numpy.std : equivalent function\n",
      " |  \n",
      " |  sum(...)\n",
      " |      a.sum(axis=None, dtype=None, out=None, keepdims=False)\n",
      " |      \n",
      " |      Return the sum of the array elements over the given axis.\n",
      " |      \n",
      " |      Refer to `numpy.sum` for full documentation.\n",
      " |      \n",
      " |      See Also\n",
      " |      --------\n",
      " |      numpy.sum : equivalent function\n",
      " |  \n",
      " |  swapaxes(...)\n",
      " |      a.swapaxes(axis1, axis2)\n",
      " |      \n",
      " |      Return a view of the array with `axis1` and `axis2` interchanged.\n",
      " |      \n",
      " |      Refer to `numpy.swapaxes` for full documentation.\n",
      " |      \n",
      " |      See Also\n",
      " |      --------\n",
      " |      numpy.swapaxes : equivalent function\n",
      " |  \n",
      " |  take(...)\n",
      " |      a.take(indices, axis=None, out=None, mode='raise')\n",
      " |      \n",
      " |      Return an array formed from the elements of `a` at the given indices.\n",
      " |      \n",
      " |      Refer to `numpy.take` for full documentation.\n",
      " |      \n",
      " |      See Also\n",
      " |      --------\n",
      " |      numpy.take : equivalent function\n",
      " |  \n",
      " |  tobytes(...)\n",
      " |      a.tobytes(order='C')\n",
      " |      \n",
      " |      Construct Python bytes containing the raw data bytes in the array.\n",
      " |      \n",
      " |      Constructs Python bytes showing a copy of the raw contents of\n",
      " |      data memory. The bytes object can be produced in either 'C' or 'Fortran',\n",
      " |      or 'Any' order (the default is 'C'-order). 'Any' order means C-order\n",
      " |      unless the F_CONTIGUOUS flag in the array is set, in which case it\n",
      " |      means 'Fortran' order.\n",
      " |      \n",
      " |      .. versionadded:: 1.9.0\n",
      " |      \n",
      " |      Parameters\n",
      " |      ----------\n",
      " |      order : {'C', 'F', None}, optional\n",
      " |          Order of the data for multidimensional arrays:\n",
      " |          C, Fortran, or the same as for the original array.\n",
      " |      \n",
      " |      Returns\n",
      " |      -------\n",
      " |      s : bytes\n",
      " |          Python bytes exhibiting a copy of `a`'s raw data.\n",
      " |      \n",
      " |      Examples\n",
      " |      --------\n",
      " |      >>> x = np.array([[0, 1], [2, 3]])\n",
      " |      >>> x.tobytes()\n",
      " |      b'\\x00\\x00\\x00\\x00\\x01\\x00\\x00\\x00\\x02\\x00\\x00\\x00\\x03\\x00\\x00\\x00'\n",
      " |      >>> x.tobytes('C') == x.tobytes()\n",
      " |      True\n",
      " |      >>> x.tobytes('F')\n",
      " |      b'\\x00\\x00\\x00\\x00\\x02\\x00\\x00\\x00\\x01\\x00\\x00\\x00\\x03\\x00\\x00\\x00'\n",
      " |  \n",
      " |  tofile(...)\n",
      " |      a.tofile(fid, sep=\"\", format=\"%s\")\n",
      " |      \n",
      " |      Write array to a file as text or binary (default).\n",
      " |      \n",
      " |      Data is always written in 'C' order, independent of the order of `a`.\n",
      " |      The data produced by this method can be recovered using the function\n",
      " |      fromfile().\n",
      " |      \n",
      " |      Parameters\n",
      " |      ----------\n",
      " |      fid : file or str\n",
      " |          An open file object, or a string containing a filename.\n",
      " |      sep : str\n",
      " |          Separator between array items for text output.\n",
      " |          If \"\" (empty), a binary file is written, equivalent to\n",
      " |          ``file.write(a.tobytes())``.\n",
      " |      format : str\n",
      " |          Format string for text file output.\n",
      " |          Each entry in the array is formatted to text by first converting\n",
      " |          it to the closest Python type, and then using \"format\" % item.\n",
      " |      \n",
      " |      Notes\n",
      " |      -----\n",
      " |      This is a convenience function for quick storage of array data.\n",
      " |      Information on endianness and precision is lost, so this method is not a\n",
      " |      good choice for files intended to archive data or transport data between\n",
      " |      machines with different endianness. Some of these problems can be overcome\n",
      " |      by outputting the data as text files, at the expense of speed and file\n",
      " |      size.\n",
      " |  \n",
      " |  tolist(...)\n",
      " |      a.tolist()\n",
      " |      \n",
      " |      Return the array as a (possibly nested) list.\n",
      " |      \n",
      " |      Return a copy of the array data as a (nested) Python list.\n",
      " |      Data items are converted to the nearest compatible Python type.\n",
      " |      \n",
      " |      Parameters\n",
      " |      ----------\n",
      " |      none\n",
      " |      \n",
      " |      Returns\n",
      " |      -------\n",
      " |      y : list\n",
      " |          The possibly nested list of array elements.\n",
      " |      \n",
      " |      Notes\n",
      " |      -----\n",
      " |      The array may be recreated, ``a = np.array(a.tolist())``.\n",
      " |      \n",
      " |      Examples\n",
      " |      --------\n",
      " |      >>> a = np.array([1, 2])\n",
      " |      >>> a.tolist()\n",
      " |      [1, 2]\n",
      " |      >>> a = np.array([[1, 2], [3, 4]])\n",
      " |      >>> list(a)\n",
      " |      [array([1, 2]), array([3, 4])]\n",
      " |      >>> a.tolist()\n",
      " |      [[1, 2], [3, 4]]\n",
      " |  \n",
      " |  tostring(...)\n",
      " |      a.tostring(order='C')\n",
      " |      \n",
      " |      Construct Python bytes containing the raw data bytes in the array.\n",
      " |      \n",
      " |      Constructs Python bytes showing a copy of the raw contents of\n",
      " |      data memory. The bytes object can be produced in either 'C' or 'Fortran',\n",
      " |      or 'Any' order (the default is 'C'-order). 'Any' order means C-order\n",
      " |      unless the F_CONTIGUOUS flag in the array is set, in which case it\n",
      " |      means 'Fortran' order.\n",
      " |      \n",
      " |      This function is a compatibility alias for tobytes. Despite its name it returns bytes not strings.\n",
      " |      \n",
      " |      Parameters\n",
      " |      ----------\n",
      " |      order : {'C', 'F', None}, optional\n",
      " |          Order of the data for multidimensional arrays:\n",
      " |          C, Fortran, or the same as for the original array.\n",
      " |      \n",
      " |      Returns\n",
      " |      -------\n",
      " |      s : bytes\n",
      " |          Python bytes exhibiting a copy of `a`'s raw data.\n",
      " |      \n",
      " |      Examples\n",
      " |      --------\n",
      " |      >>> x = np.array([[0, 1], [2, 3]])\n",
      " |      >>> x.tobytes()\n",
      " |      b'\\x00\\x00\\x00\\x00\\x01\\x00\\x00\\x00\\x02\\x00\\x00\\x00\\x03\\x00\\x00\\x00'\n",
      " |      >>> x.tobytes('C') == x.tobytes()\n",
      " |      True\n",
      " |      >>> x.tobytes('F')\n",
      " |      b'\\x00\\x00\\x00\\x00\\x02\\x00\\x00\\x00\\x01\\x00\\x00\\x00\\x03\\x00\\x00\\x00'\n",
      " |  \n",
      " |  trace(...)\n",
      " |      a.trace(offset=0, axis1=0, axis2=1, dtype=None, out=None)\n",
      " |      \n",
      " |      Return the sum along diagonals of the array.\n",
      " |      \n",
      " |      Refer to `numpy.trace` for full documentation.\n",
      " |      \n",
      " |      See Also\n",
      " |      --------\n",
      " |      numpy.trace : equivalent function\n",
      " |  \n",
      " |  transpose(...)\n",
      " |      a.transpose(*axes)\n",
      " |      \n",
      " |      Returns a view of the array with axes transposed.\n",
      " |      \n",
      " |      For a 1-D array, this has no effect. (To change between column and\n",
      " |      row vectors, first cast the 1-D array into a matrix object.)\n",
      " |      For a 2-D array, this is the usual matrix transpose.\n",
      " |      For an n-D array, if axes are given, their order indicates how the\n",
      " |      axes are permuted (see Examples). If axes are not provided and\n",
      " |      ``a.shape = (i[0], i[1], ... i[n-2], i[n-1])``, then\n",
      " |      ``a.transpose().shape = (i[n-1], i[n-2], ... i[1], i[0])``.\n",
      " |      \n",
      " |      Parameters\n",
      " |      ----------\n",
      " |      axes : None, tuple of ints, or `n` ints\n",
      " |      \n",
      " |       * None or no argument: reverses the order of the axes.\n",
      " |      \n",
      " |       * tuple of ints: `i` in the `j`-th place in the tuple means `a`'s\n",
      " |         `i`-th axis becomes `a.transpose()`'s `j`-th axis.\n",
      " |      \n",
      " |       * `n` ints: same as an n-tuple of the same ints (this form is\n",
      " |         intended simply as a \"convenience\" alternative to the tuple form)\n",
      " |      \n",
      " |      Returns\n",
      " |      -------\n",
      " |      out : ndarray\n",
      " |          View of `a`, with axes suitably permuted.\n",
      " |      \n",
      " |      See Also\n",
      " |      --------\n",
      " |      ndarray.T : Array property returning the array transposed.\n",
      " |      \n",
      " |      Examples\n",
      " |      --------\n",
      " |      >>> a = np.array([[1, 2], [3, 4]])\n",
      " |      >>> a\n",
      " |      array([[1, 2],\n",
      " |             [3, 4]])\n",
      " |      >>> a.transpose()\n",
      " |      array([[1, 3],\n",
      " |             [2, 4]])\n",
      " |      >>> a.transpose((1, 0))\n",
      " |      array([[1, 3],\n",
      " |             [2, 4]])\n",
      " |      >>> a.transpose(1, 0)\n",
      " |      array([[1, 3],\n",
      " |             [2, 4]])\n",
      " |  \n",
      " |  var(...)\n",
      " |      a.var(axis=None, dtype=None, out=None, ddof=0, keepdims=False)\n",
      " |      \n",
      " |      Returns the variance of the array elements, along given axis.\n",
      " |      \n",
      " |      Refer to `numpy.var` for full documentation.\n",
      " |      \n",
      " |      See Also\n",
      " |      --------\n",
      " |      numpy.var : equivalent function\n",
      " |  \n",
      " |  view(...)\n",
      " |      a.view(dtype=None, type=None)\n",
      " |      \n",
      " |      New view of array with the same data.\n",
      " |      \n",
      " |      Parameters\n",
      " |      ----------\n",
      " |      dtype : data-type or ndarray sub-class, optional\n",
      " |          Data-type descriptor of the returned view, e.g., float32 or int16. The\n",
      " |          default, None, results in the view having the same data-type as `a`.\n",
      " |          This argument can also be specified as an ndarray sub-class, which\n",
      " |          then specifies the type of the returned object (this is equivalent to\n",
      " |          setting the ``type`` parameter).\n",
      " |      type : Python type, optional\n",
      " |          Type of the returned view, e.g., ndarray or matrix.  Again, the\n",
      " |          default None results in type preservation.\n",
      " |      \n",
      " |      Notes\n",
      " |      -----\n",
      " |      ``a.view()`` is used two different ways:\n",
      " |      \n",
      " |      ``a.view(some_dtype)`` or ``a.view(dtype=some_dtype)`` constructs a view\n",
      " |      of the array's memory with a different data-type.  This can cause a\n",
      " |      reinterpretation of the bytes of memory.\n",
      " |      \n",
      " |      ``a.view(ndarray_subclass)`` or ``a.view(type=ndarray_subclass)`` just\n",
      " |      returns an instance of `ndarray_subclass` that looks at the same array\n",
      " |      (same shape, dtype, etc.)  This does not cause a reinterpretation of the\n",
      " |      memory.\n",
      " |      \n",
      " |      For ``a.view(some_dtype)``, if ``some_dtype`` has a different number of\n",
      " |      bytes per entry than the previous dtype (for example, converting a\n",
      " |      regular array to a structured array), then the behavior of the view\n",
      " |      cannot be predicted just from the superficial appearance of ``a`` (shown\n",
      " |      by ``print(a)``). It also depends on exactly how ``a`` is stored in\n",
      " |      memory. Therefore if ``a`` is C-ordered versus fortran-ordered, versus\n",
      " |      defined as a slice or transpose, etc., the view may give different\n",
      " |      results.\n",
      " |      \n",
      " |      \n",
      " |      Examples\n",
      " |      --------\n",
      " |      >>> x = np.array([(1, 2)], dtype=[('a', np.int8), ('b', np.int8)])\n",
      " |      \n",
      " |      Viewing array data using a different type and dtype:\n",
      " |      \n",
      " |      >>> y = x.view(dtype=np.int16, type=np.matrix)\n",
      " |      >>> y\n",
      " |      matrix([[513]], dtype=int16)\n",
      " |      >>> print(type(y))\n",
      " |      <class 'numpy.matrixlib.defmatrix.matrix'>\n",
      " |      \n",
      " |      Creating a view on a structured array so it can be used in calculations\n",
      " |      \n",
      " |      >>> x = np.array([(1, 2),(3,4)], dtype=[('a', np.int8), ('b', np.int8)])\n",
      " |      >>> xv = x.view(dtype=np.int8).reshape(-1,2)\n",
      " |      >>> xv\n",
      " |      array([[1, 2],\n",
      " |             [3, 4]], dtype=int8)\n",
      " |      >>> xv.mean(0)\n",
      " |      array([ 2.,  3.])\n",
      " |      \n",
      " |      Making changes to the view changes the underlying array\n",
      " |      \n",
      " |      >>> xv[0,1] = 20\n",
      " |      >>> print(x)\n",
      " |      [(1, 20) (3, 4)]\n",
      " |      \n",
      " |      Using a view to convert an array to a recarray:\n",
      " |      \n",
      " |      >>> z = x.view(np.recarray)\n",
      " |      >>> z.a\n",
      " |      array([1], dtype=int8)\n",
      " |      \n",
      " |      Views share data:\n",
      " |      \n",
      " |      >>> x[0] = (9, 10)\n",
      " |      >>> z[0]\n",
      " |      (9, 10)\n",
      " |      \n",
      " |      Views that change the dtype size (bytes per entry) should normally be\n",
      " |      avoided on arrays defined by slices, transposes, fortran-ordering, etc.:\n",
      " |      \n",
      " |      >>> x = np.array([[1,2,3],[4,5,6]], dtype=np.int16)\n",
      " |      >>> y = x[:, 0:2]\n",
      " |      >>> y\n",
      " |      array([[1, 2],\n",
      " |             [4, 5]], dtype=int16)\n",
      " |      >>> y.view(dtype=[('width', np.int16), ('length', np.int16)])\n",
      " |      Traceback (most recent call last):\n",
      " |        File \"<stdin>\", line 1, in <module>\n",
      " |      ValueError: new type not compatible with array.\n",
      " |      >>> z = y.copy()\n",
      " |      >>> z.view(dtype=[('width', np.int16), ('length', np.int16)])\n",
      " |      array([[(1, 2)],\n",
      " |             [(4, 5)]], dtype=[('width', '<i2'), ('length', '<i2')])\n",
      " |  \n",
      " |  ----------------------------------------------------------------------\n",
      " |  Data descriptors defined here:\n",
      " |  \n",
      " |  T\n",
      " |      Same as self.transpose(), except that self is returned if\n",
      " |      self.ndim < 2.\n",
      " |      \n",
      " |      Examples\n",
      " |      --------\n",
      " |      >>> x = np.array([[1.,2.],[3.,4.]])\n",
      " |      >>> x\n",
      " |      array([[ 1.,  2.],\n",
      " |             [ 3.,  4.]])\n",
      " |      >>> x.T\n",
      " |      array([[ 1.,  3.],\n",
      " |             [ 2.,  4.]])\n",
      " |      >>> x = np.array([1.,2.,3.,4.])\n",
      " |      >>> x\n",
      " |      array([ 1.,  2.,  3.,  4.])\n",
      " |      >>> x.T\n",
      " |      array([ 1.,  2.,  3.,  4.])\n",
      " |  \n",
      " |  __array_finalize__\n",
      " |      None.\n",
      " |  \n",
      " |  __array_interface__\n",
      " |      Array protocol: Python side.\n",
      " |  \n",
      " |  __array_priority__\n",
      " |      Array priority.\n",
      " |  \n",
      " |  __array_struct__\n",
      " |      Array protocol: C-struct side.\n",
      " |  \n",
      " |  base\n",
      " |      Base object if memory is from some other object.\n",
      " |      \n",
      " |      Examples\n",
      " |      --------\n",
      " |      The base of an array that owns its memory is None:\n",
      " |      \n",
      " |      >>> x = np.array([1,2,3,4])\n",
      " |      >>> x.base is None\n",
      " |      True\n",
      " |      \n",
      " |      Slicing creates a view, whose memory is shared with x:\n",
      " |      \n",
      " |      >>> y = x[2:]\n",
      " |      >>> y.base is x\n",
      " |      True\n",
      " |  \n",
      " |  ctypes\n",
      " |      An object to simplify the interaction of the array with the ctypes\n",
      " |      module.\n",
      " |      \n",
      " |      This attribute creates an object that makes it easier to use arrays\n",
      " |      when calling shared libraries with the ctypes module. The returned\n",
      " |      object has, among others, data, shape, and strides attributes (see\n",
      " |      Notes below) which themselves return ctypes objects that can be used\n",
      " |      as arguments to a shared library.\n",
      " |      \n",
      " |      Parameters\n",
      " |      ----------\n",
      " |      None\n",
      " |      \n",
      " |      Returns\n",
      " |      -------\n",
      " |      c : Python object\n",
      " |          Possessing attributes data, shape, strides, etc.\n",
      " |      \n",
      " |      See Also\n",
      " |      --------\n",
      " |      numpy.ctypeslib\n",
      " |      \n",
      " |      Notes\n",
      " |      -----\n",
      " |      Below are the public attributes of this object which were documented\n",
      " |      in \"Guide to NumPy\" (we have omitted undocumented public attributes,\n",
      " |      as well as documented private attributes):\n",
      " |      \n",
      " |      * data: A pointer to the memory area of the array as a Python integer.\n",
      " |        This memory area may contain data that is not aligned, or not in correct\n",
      " |        byte-order. The memory area may not even be writeable. The array\n",
      " |        flags and data-type of this array should be respected when passing this\n",
      " |        attribute to arbitrary C-code to avoid trouble that can include Python\n",
      " |        crashing. User Beware! The value of this attribute is exactly the same\n",
      " |        as self._array_interface_['data'][0].\n",
      " |      \n",
      " |      * shape (c_intp*self.ndim): A ctypes array of length self.ndim where\n",
      " |        the basetype is the C-integer corresponding to dtype('p') on this\n",
      " |        platform. This base-type could be c_int, c_long, or c_longlong\n",
      " |        depending on the platform. The c_intp type is defined accordingly in\n",
      " |        numpy.ctypeslib. The ctypes array contains the shape of the underlying\n",
      " |        array.\n",
      " |      \n",
      " |      * strides (c_intp*self.ndim): A ctypes array of length self.ndim where\n",
      " |        the basetype is the same as for the shape attribute. This ctypes array\n",
      " |        contains the strides information from the underlying array. This strides\n",
      " |        information is important for showing how many bytes must be jumped to\n",
      " |        get to the next element in the array.\n",
      " |      \n",
      " |      * data_as(obj): Return the data pointer cast to a particular c-types object.\n",
      " |        For example, calling self._as_parameter_ is equivalent to\n",
      " |        self.data_as(ctypes.c_void_p). Perhaps you want to use the data as a\n",
      " |        pointer to a ctypes array of floating-point data:\n",
      " |        self.data_as(ctypes.POINTER(ctypes.c_double)).\n",
      " |      \n",
      " |      * shape_as(obj): Return the shape tuple as an array of some other c-types\n",
      " |        type. For example: self.shape_as(ctypes.c_short).\n",
      " |      \n",
      " |      * strides_as(obj): Return the strides tuple as an array of some other\n",
      " |        c-types type. For example: self.strides_as(ctypes.c_longlong).\n",
      " |      \n",
      " |      Be careful using the ctypes attribute - especially on temporary\n",
      " |      arrays or arrays constructed on the fly. For example, calling\n",
      " |      ``(a+b).ctypes.data_as(ctypes.c_void_p)`` returns a pointer to memory\n",
      " |      that is invalid because the array created as (a+b) is deallocated\n",
      " |      before the next Python statement. You can avoid this problem using\n",
      " |      either ``c=a+b`` or ``ct=(a+b).ctypes``. In the latter case, ct will\n",
      " |      hold a reference to the array until ct is deleted or re-assigned.\n",
      " |      \n",
      " |      If the ctypes module is not available, then the ctypes attribute\n",
      " |      of array objects still returns something useful, but ctypes objects\n",
      " |      are not returned and errors may be raised instead. In particular,\n",
      " |      the object will still have the as parameter attribute which will\n",
      " |      return an integer equal to the data attribute.\n",
      " |      \n",
      " |      Examples\n",
      " |      --------\n",
      " |      >>> import ctypes\n",
      " |      >>> x\n",
      " |      array([[0, 1],\n",
      " |             [2, 3]])\n",
      " |      >>> x.ctypes.data\n",
      " |      30439712\n",
      " |      >>> x.ctypes.data_as(ctypes.POINTER(ctypes.c_long))\n",
      " |      <ctypes.LP_c_long object at 0x01F01300>\n",
      " |      >>> x.ctypes.data_as(ctypes.POINTER(ctypes.c_long)).contents\n",
      " |      c_long(0)\n",
      " |      >>> x.ctypes.data_as(ctypes.POINTER(ctypes.c_longlong)).contents\n",
      " |      c_longlong(4294967296L)\n",
      " |      >>> x.ctypes.shape\n",
      " |      <numpy.core._internal.c_long_Array_2 object at 0x01FFD580>\n",
      " |      >>> x.ctypes.shape_as(ctypes.c_long)\n",
      " |      <numpy.core._internal.c_long_Array_2 object at 0x01FCE620>\n",
      " |      >>> x.ctypes.strides\n",
      " |      <numpy.core._internal.c_long_Array_2 object at 0x01FCE620>\n",
      " |      >>> x.ctypes.strides_as(ctypes.c_longlong)\n",
      " |      <numpy.core._internal.c_longlong_Array_2 object at 0x01F01300>\n",
      " |  \n",
      " |  data\n",
      " |      Python buffer object pointing to the start of the array's data.\n",
      " |  \n",
      " |  dtype\n",
      " |      Data-type of the array's elements.\n",
      " |      \n",
      " |      Parameters\n",
      " |      ----------\n",
      " |      None\n",
      " |      \n",
      " |      Returns\n",
      " |      -------\n",
      " |      d : numpy dtype object\n",
      " |      \n",
      " |      See Also\n",
      " |      --------\n",
      " |      numpy.dtype\n",
      " |      \n",
      " |      Examples\n",
      " |      --------\n",
      " |      >>> x\n",
      " |      array([[0, 1],\n",
      " |             [2, 3]])\n",
      " |      >>> x.dtype\n",
      " |      dtype('int32')\n",
      " |      >>> type(x.dtype)\n",
      " |      <type 'numpy.dtype'>\n",
      " |  \n",
      " |  flags\n",
      " |      Information about the memory layout of the array.\n",
      " |      \n",
      " |      Attributes\n",
      " |      ----------\n",
      " |      C_CONTIGUOUS (C)\n",
      " |          The data is in a single, C-style contiguous segment.\n",
      " |      F_CONTIGUOUS (F)\n",
      " |          The data is in a single, Fortran-style contiguous segment.\n",
      " |      OWNDATA (O)\n",
      " |          The array owns the memory it uses or borrows it from another object.\n",
      " |      WRITEABLE (W)\n",
      " |          The data area can be written to.  Setting this to False locks\n",
      " |          the data, making it read-only.  A view (slice, etc.) inherits WRITEABLE\n",
      " |          from its base array at creation time, but a view of a writeable\n",
      " |          array may be subsequently locked while the base array remains writeable.\n",
      " |          (The opposite is not true, in that a view of a locked array may not\n",
      " |          be made writeable.  However, currently, locking a base object does not\n",
      " |          lock any views that already reference it, so under that circumstance it\n",
      " |          is possible to alter the contents of a locked array via a previously\n",
      " |          created writeable view onto it.)  Attempting to change a non-writeable\n",
      " |          array raises a RuntimeError exception.\n",
      " |      ALIGNED (A)\n",
      " |          The data and all elements are aligned appropriately for the hardware.\n",
      " |      WRITEBACKIFCOPY (X)\n",
      " |          This array is a copy of some other array. The C-API function\n",
      " |          PyArray_ResolveWritebackIfCopy must be called before deallocating\n",
      " |          to the base array will be updated with the contents of this array.\n",
      " |      UPDATEIFCOPY (U)\n",
      " |          (Deprecated, use WRITEBACKIFCOPY) This array is a copy of some other array.\n",
      " |          When this array is\n",
      " |          deallocated, the base array will be updated with the contents of\n",
      " |          this array.\n",
      " |      FNC\n",
      " |          F_CONTIGUOUS and not C_CONTIGUOUS.\n",
      " |      FORC\n",
      " |          F_CONTIGUOUS or C_CONTIGUOUS (one-segment test).\n",
      " |      BEHAVED (B)\n",
      " |          ALIGNED and WRITEABLE.\n",
      " |      CARRAY (CA)\n",
      " |          BEHAVED and C_CONTIGUOUS.\n",
      " |      FARRAY (FA)\n",
      " |          BEHAVED and F_CONTIGUOUS and not C_CONTIGUOUS.\n",
      " |      \n",
      " |      Notes\n",
      " |      -----\n",
      " |      The `flags` object can be accessed dictionary-like (as in ``a.flags['WRITEABLE']``),\n",
      " |      or by using lowercased attribute names (as in ``a.flags.writeable``). Short flag\n",
      " |      names are only supported in dictionary access.\n",
      " |      \n",
      " |      Only the WRITEBACKIFCOPY, UPDATEIFCOPY, WRITEABLE, and ALIGNED flags can be\n",
      " |      changed by the user, via direct assignment to the attribute or dictionary\n",
      " |      entry, or by calling `ndarray.setflags`.\n",
      " |      \n",
      " |      The array flags cannot be set arbitrarily:\n",
      " |      \n",
      " |      - UPDATEIFCOPY can only be set ``False``.\n",
      " |      - WRITEBACKIFCOPY can only be set ``False``.\n",
      " |      - ALIGNED can only be set ``True`` if the data is truly aligned.\n",
      " |      - WRITEABLE can only be set ``True`` if the array owns its own memory\n",
      " |        or the ultimate owner of the memory exposes a writeable buffer\n",
      " |        interface or is a string.\n",
      " |      \n",
      " |      Arrays can be both C-style and Fortran-style contiguous simultaneously.\n",
      " |      This is clear for 1-dimensional arrays, but can also be true for higher\n",
      " |      dimensional arrays.\n",
      " |      \n",
      " |      Even for contiguous arrays a stride for a given dimension\n",
      " |      ``arr.strides[dim]`` may be *arbitrary* if ``arr.shape[dim] == 1``\n",
      " |      or the array has no elements.\n",
      " |      It does *not* generally hold that ``self.strides[-1] == self.itemsize``\n",
      " |      for C-style contiguous arrays or ``self.strides[0] == self.itemsize`` for\n",
      " |      Fortran-style contiguous arrays is true.\n",
      " |  \n",
      " |  flat\n",
      " |      A 1-D iterator over the array.\n",
      " |      \n",
      " |      This is a `numpy.flatiter` instance, which acts similarly to, but is not\n",
      " |      a subclass of, Python's built-in iterator object.\n",
      " |      \n",
      " |      See Also\n",
      " |      --------\n",
      " |      flatten : Return a copy of the array collapsed into one dimension.\n",
      " |      \n",
      " |      flatiter\n",
      " |      \n",
      " |      Examples\n",
      " |      --------\n",
      " |      >>> x = np.arange(1, 7).reshape(2, 3)\n",
      " |      >>> x\n",
      " |      array([[1, 2, 3],\n",
      " |             [4, 5, 6]])\n",
      " |      >>> x.flat[3]\n",
      " |      4\n",
      " |      >>> x.T\n",
      " |      array([[1, 4],\n",
      " |             [2, 5],\n",
      " |             [3, 6]])\n",
      " |      >>> x.T.flat[3]\n",
      " |      5\n",
      " |      >>> type(x.flat)\n",
      " |      <type 'numpy.flatiter'>\n",
      " |      \n",
      " |      An assignment example:\n",
      " |      \n",
      " |      >>> x.flat = 3; x\n",
      " |      array([[3, 3, 3],\n",
      " |             [3, 3, 3]])\n",
      " |      >>> x.flat[[1,4]] = 1; x\n",
      " |      array([[3, 1, 3],\n",
      " |             [3, 1, 3]])\n",
      " |  \n",
      " |  imag\n",
      " |      The imaginary part of the array.\n",
      " |      \n",
      " |      Examples\n",
      " |      --------\n",
      " |      >>> x = np.sqrt([1+0j, 0+1j])\n",
      " |      >>> x.imag\n",
      " |      array([ 0.        ,  0.70710678])\n",
      " |      >>> x.imag.dtype\n",
      " |      dtype('float64')\n",
      " |  \n",
      " |  itemsize\n",
      " |      Length of one array element in bytes.\n",
      " |      \n",
      " |      Examples\n",
      " |      --------\n",
      " |      >>> x = np.array([1,2,3], dtype=np.float64)\n",
      " |      >>> x.itemsize\n",
      " |      8\n",
      " |      >>> x = np.array([1,2,3], dtype=np.complex128)\n",
      " |      >>> x.itemsize\n",
      " |      16\n",
      " |  \n",
      " |  nbytes\n",
      " |      Total bytes consumed by the elements of the array.\n",
      " |      \n",
      " |      Notes\n",
      " |      -----\n",
      " |      Does not include memory consumed by non-element attributes of the\n",
      " |      array object.\n",
      " |      \n",
      " |      Examples\n",
      " |      --------\n",
      " |      >>> x = np.zeros((3,5,2), dtype=np.complex128)\n",
      " |      >>> x.nbytes\n",
      " |      480\n",
      " |      >>> np.prod(x.shape) * x.itemsize\n",
      " |      480\n",
      " |  \n",
      " |  ndim\n",
      " |      Number of array dimensions.\n",
      " |      \n",
      " |      Examples\n",
      " |      --------\n",
      " |      >>> x = np.array([1, 2, 3])\n",
      " |      >>> x.ndim\n",
      " |      1\n",
      " |      >>> y = np.zeros((2, 3, 4))\n",
      " |      >>> y.ndim\n",
      " |      3\n",
      " |  \n",
      " |  real\n",
      " |      The real part of the array.\n",
      " |      \n",
      " |      Examples\n",
      " |      --------\n",
      " |      >>> x = np.sqrt([1+0j, 0+1j])\n",
      " |      >>> x.real\n",
      " |      array([ 1.        ,  0.70710678])\n",
      " |      >>> x.real.dtype\n",
      " |      dtype('float64')\n",
      " |      \n",
      " |      See Also\n",
      " |      --------\n",
      " |      numpy.real : equivalent function\n",
      " |  \n",
      " |  shape\n",
      " |      Tuple of array dimensions.\n",
      " |      \n",
      " |      The shape property is usually used to get the current shape of an array,\n",
      " |      but may also be used to reshape the array in-place by assigning a tuple of\n",
      " |      array dimensions to it.  As with `numpy.reshape`, one of the new shape\n",
      " |      dimensions can be -1, in which case its value is inferred from the size of\n",
      " |      the array and the remaining dimensions. Reshaping an array in-place will\n",
      " |      fail if a copy is required.\n",
      " |      \n",
      " |      Examples\n",
      " |      --------\n",
      " |      >>> x = np.array([1, 2, 3, 4])\n",
      " |      >>> x.shape\n",
      " |      (4,)\n",
      " |      >>> y = np.zeros((2, 3, 4))\n",
      " |      >>> y.shape\n",
      " |      (2, 3, 4)\n",
      " |      >>> y.shape = (3, 8)\n",
      " |      >>> y\n",
      " |      array([[ 0.,  0.,  0.,  0.,  0.,  0.,  0.,  0.],\n",
      " |             [ 0.,  0.,  0.,  0.,  0.,  0.,  0.,  0.],\n",
      " |             [ 0.,  0.,  0.,  0.,  0.,  0.,  0.,  0.]])\n",
      " |      >>> y.shape = (3, 6)\n",
      " |      Traceback (most recent call last):\n",
      " |        File \"<stdin>\", line 1, in <module>\n",
      " |      ValueError: total size of new array must be unchanged\n",
      " |      >>> np.zeros((4,2))[::2].shape = (-1,)\n",
      " |      Traceback (most recent call last):\n",
      " |        File \"<stdin>\", line 1, in <module>\n",
      " |      AttributeError: incompatible shape for a non-contiguous array\n",
      " |      \n",
      " |      See Also\n",
      " |      --------\n",
      " |      numpy.reshape : similar function\n",
      " |      ndarray.reshape : similar method\n",
      " |  \n",
      " |  size\n",
      " |      Number of elements in the array.\n",
      " |      \n",
      " |      Equivalent to ``np.prod(a.shape)``, i.e., the product of the array's\n",
      " |      dimensions.\n",
      " |      \n",
      " |      Examples\n",
      " |      --------\n",
      " |      >>> x = np.zeros((3, 5, 2), dtype=np.complex128)\n",
      " |      >>> x.size\n",
      " |      30\n",
      " |      >>> np.prod(x.shape)\n",
      " |      30\n",
      " |  \n",
      " |  strides\n",
      " |      Tuple of bytes to step in each dimension when traversing an array.\n",
      " |      \n",
      " |      The byte offset of element ``(i[0], i[1], ..., i[n])`` in an array `a`\n",
      " |      is::\n",
      " |      \n",
      " |          offset = sum(np.array(i) * a.strides)\n",
      " |      \n",
      " |      A more detailed explanation of strides can be found in the\n",
      " |      \"ndarray.rst\" file in the NumPy reference guide.\n",
      " |      \n",
      " |      Notes\n",
      " |      -----\n",
      " |      Imagine an array of 32-bit integers (each 4 bytes)::\n",
      " |      \n",
      " |        x = np.array([[0, 1, 2, 3, 4],\n",
      " |                      [5, 6, 7, 8, 9]], dtype=np.int32)\n",
      " |      \n",
      " |      This array is stored in memory as 40 bytes, one after the other\n",
      " |      (known as a contiguous block of memory).  The strides of an array tell\n",
      " |      us how many bytes we have to skip in memory to move to the next position\n",
      " |      along a certain axis.  For example, we have to skip 4 bytes (1 value) to\n",
      " |      move to the next column, but 20 bytes (5 values) to get to the same\n",
      " |      position in the next row.  As such, the strides for the array `x` will be\n",
      " |      ``(20, 4)``.\n",
      " |      \n",
      " |      See Also\n",
      " |      --------\n",
      " |      numpy.lib.stride_tricks.as_strided\n",
      " |      \n",
      " |      Examples\n",
      " |      --------\n",
      " |      >>> y = np.reshape(np.arange(2*3*4), (2,3,4))\n",
      " |      >>> y\n",
      " |      array([[[ 0,  1,  2,  3],\n",
      " |              [ 4,  5,  6,  7],\n",
      " |              [ 8,  9, 10, 11]],\n",
      " |             [[12, 13, 14, 15],\n",
      " |              [16, 17, 18, 19],\n",
      " |              [20, 21, 22, 23]]])\n",
      " |      >>> y.strides\n",
      " |      (48, 16, 4)\n",
      " |      >>> y[1,1,1]\n",
      " |      17\n",
      " |      >>> offset=sum(y.strides * np.array((1,1,1)))\n",
      " |      >>> offset/y.itemsize\n",
      " |      17\n",
      " |      \n",
      " |      >>> x = np.reshape(np.arange(5*6*7*8), (5,6,7,8)).transpose(2,3,1,0)\n",
      " |      >>> x.strides\n",
      " |      (32, 4, 224, 1344)\n",
      " |      >>> i = np.array([3,5,2,2])\n",
      " |      >>> offset = sum(i * x.strides)\n",
      " |      >>> x[3,5,2,2]\n",
      " |      813\n",
      " |      >>> offset / x.itemsize\n",
      " |      813\n",
      " |  \n",
      " |  ----------------------------------------------------------------------\n",
      " |  Data and other attributes defined here:\n",
      " |  \n",
      " |  __hash__ = None\n",
      " |  \n",
      " |  __new__ = <built-in method __new__ of type object>\n",
      " |      T.__new__(S, ...) -> a new object with type S, a subtype of T\n",
      "\n"
     ]
    }
   ],
   "source": [
    "help(np.linspace(start,end))"
   ]
  },
  {
   "cell_type": "code",
   "execution_count": 37,
   "metadata": {},
   "outputs": [
    {
     "data": {
      "text/plain": [
       "array([0, 2, 4, 6, 8])"
      ]
     },
     "execution_count": 37,
     "metadata": {},
     "output_type": "execute_result"
    }
   ],
   "source": [
    "start=0\n",
    "end=10\n",
    "step=2\n",
    "np.arange(start,end,step)#Return evenly spaced values within a given interval."
   ]
  },
  {
   "cell_type": "code",
   "execution_count": 38,
   "metadata": {},
   "outputs": [
    {
     "data": {
      "text/plain": [
       "array([[-0.02488551, -1.28870575,  0.65112917,  0.71750091],\n",
       "       [-1.25882023,  0.35476668,  2.93147846,  1.85277343]])"
      ]
     },
     "execution_count": 38,
     "metadata": {},
     "output_type": "execute_result"
    }
   ],
   "source": [
    "np.random.standard_normal((2,4))#(mean,deviation)"
   ]
  },
  {
   "cell_type": "code",
   "execution_count": 40,
   "metadata": {},
   "outputs": [
    {
     "data": {
      "text/plain": [
       "(array([[-0.39937065,  1.31939252, -0.30701888],\n",
       "        [-0.61753021, -0.41492012, -0.26769014]]),\n",
       " array([[ 0.68638658,  0.86552373,  0.27793809],\n",
       "        [ 0.52215398, -0.79736577,  0.29622184]]))"
      ]
     },
     "execution_count": 40,
     "metadata": {},
     "output_type": "execute_result"
    }
   ],
   "source": [
    "a=np.random.standard_normal((2,3))\n",
    "b=np.random.standard_normal((2,3))\n",
    "a,b"
   ]
  },
  {
   "cell_type": "code",
   "execution_count": 41,
   "metadata": {
    "scrolled": true
   },
   "outputs": [
    {
     "data": {
      "text/plain": [
       "array([[-0.39937065,  1.31939252, -0.30701888],\n",
       "       [-0.61753021, -0.41492012, -0.26769014],\n",
       "       [ 0.68638658,  0.86552373,  0.27793809],\n",
       "       [ 0.52215398, -0.79736577,  0.29622184]])"
      ]
     },
     "execution_count": 41,
     "metadata": {},
     "output_type": "execute_result"
    }
   ],
   "source": [
    "np.vstack([a,b])#Stack arrays in sequence horizontally (column wise)."
   ]
  },
  {
   "cell_type": "code",
   "execution_count": 42,
   "metadata": {
    "scrolled": true
   },
   "outputs": [
    {
     "data": {
      "text/plain": [
       "array([[-0.39937065,  1.31939252, -0.30701888,  0.68638658,  0.86552373,\n",
       "         0.27793809],\n",
       "       [-0.61753021, -0.41492012, -0.26769014,  0.52215398, -0.79736577,\n",
       "         0.29622184]])"
      ]
     },
     "execution_count": 42,
     "metadata": {},
     "output_type": "execute_result"
    }
   ],
   "source": [
    "np.hstack([a,b])#Stack arrays in sequence vertically (row wise)."
   ]
  },
  {
   "cell_type": "code",
   "execution_count": null,
   "metadata": {
    "scrolled": false
   },
   "outputs": [],
   "source": [
    "a.transpose()"
   ]
  },
  {
   "cell_type": "code",
   "execution_count": null,
   "metadata": {
    "collapsed": true
   },
   "outputs": [],
   "source": [
    "np.save('myFirstArray.npy',a)#to save the numpy to avoid preprocessing"
   ]
  },
  {
   "cell_type": "code",
   "execution_count": null,
   "metadata": {},
   "outputs": [],
   "source": [
    "al=np.load('myFirstArray.npy')#to \n",
    "al"
   ]
  },
  {
   "cell_type": "code",
   "execution_count": 43,
   "metadata": {
    "scrolled": true
   },
   "outputs": [
    {
     "data": {
      "text/plain": [
       "array([[1, 2],\n",
       "       [5, 6]])"
      ]
     },
     "execution_count": 43,
     "metadata": {},
     "output_type": "execute_result"
    }
   ],
   "source": [
    "a=[[1,2],[5,6]]\n",
    "b=[[1,0],[0,1]]\n",
    "np.dot(a,b)"
   ]
  },
  {
   "cell_type": "code",
   "execution_count": 59,
   "metadata": {},
   "outputs": [
    {
     "name": "stdout",
     "output_type": "stream",
     "text": [
      "Enter the number of rows3\n",
      "Enter the number of columns3\n",
      "Enter elt1\n",
      "Enter elt2\n",
      "Enter elt3\n",
      "Enter elt4\n",
      "Enter elt5\n",
      "Enter elt6\n",
      "Enter elt7\n",
      "Enter elt8\n",
      "Enter elt9\n",
      "[[0. 0. 7.]\n",
      " [0. 0. 8.]\n",
      " [0. 0. 9.]]\n"
     ]
    }
   ],
   "source": [
    "row = input(\"Enter the number of rows\")\n",
    "col = input(\"Enter the number of columns\")\n",
    "aw = np.zeros((row,col))\n",
    "for i in range(0,row):\n",
    "    for i in range(0,col):\n",
    "        aw[i][j] = int(input(\"Enter elt\"))\n",
    "        \n",
    "print aw"
   ]
  },
  {
   "cell_type": "markdown",
   "metadata": {},
   "source": [
    "## Input a matrix from user and show its properties using meta function -x- Input row, col and each elt as user input\n",
    "# Transpose it and show its properties\n",
    "row = int(input(\"Enter the row size\"))\n",
    "col = int(input(\"Enter the col size\"))\n",
    "a = np.zeros((row,col))\n",
    "\n",
    "print (\"Enter the no of elements \"+ str(row * col))\n",
    "for i in range(0,row):\n",
    "    for j in range(0,col):\n",
    "        a[i][j] = int (input(\"value of  \" +str( i)+str(j) ) )\n",
    "        \n",
    "a    \n",
    "ssd(a)\n",
    "b = a.transpose()\n",
    "print (\"after tranpose\")\n",
    "ssd(b)"
   ]
  },
  {
   "cell_type": "code",
   "execution_count": 57,
   "metadata": {},
   "outputs": [
    {
     "name": "stdout",
     "output_type": "stream",
     "text": [
      "Enter the row size3\n",
      "Enter the col size3\n",
      "Enter the no of elements 9\n",
      "value of  00:-1\n",
      "value of  01:-2\n",
      "value of  02:-3\n",
      "value of  10:-4\n",
      "value of  11:-5\n",
      "value of  12:-6\n",
      "value of  20:-7\n",
      "value of  21:-8\n",
      "value of  22:-9\n",
      "[[1. 2. 3.]\n",
      " [4. 5. 6.]\n",
      " [7. 8. 9.]]\n"
     ]
    }
   ],
   "source": [
    "def createarray():\n",
    "    row = int(input(\"Enter the row size\"))\n",
    "    col = int(input(\"Enter the col size\"))\n",
    "    a = np.zeros((row,col))\n",
    "\n",
    "    print (\"Enter the no of elements \"+ str(row * col))\n",
    "    for i in range(0,row):\n",
    "        for j in range(0,col):\n",
    "            a[i][j] = int (input(\"value of  \" +str( i)+str(j)+\":-\" ) )\n",
    "    print a\n",
    "\n",
    "createarray()\n"
   ]
  },
  {
   "cell_type": "markdown",
   "metadata": {
    "collapsed": true
   },
   "source": [
    "# Add two 3X4 matrices\n",
    "# Input two matrices from a user and find if they can be multiplied\n",
    "# If yes multiply them and show the result"
   ]
  },
  {
   "cell_type": "code",
   "execution_count": null,
   "metadata": {
    "collapsed": true
   },
   "outputs": [],
   "source": [
    "a=np.array([range(5),range(5,10),range(10,15),range(15,20)])\n",
    "b=np.array([range(4),range(4,8),range(8,12),range(12,16),range(16,20)])\n",
    "\n",
    "# Validate the following \n",
    "# ((a)T)T = a\n",
    "# (a)T+(b)T=(a+b)T\n",
    "# [ab]T=(b)T(a)T"
   ]
  },
  {
   "cell_type": "markdown",
   "metadata": {},
   "source": [
    "## Indexing and Slicing"
   ]
  },
  {
   "cell_type": "code",
   "execution_count": 61,
   "metadata": {},
   "outputs": [
    {
     "data": {
      "text/plain": [
       "array([ 0. ,  2.5,  5. ,  7.5, 10. ])"
      ]
     },
     "execution_count": 61,
     "metadata": {},
     "output_type": "execute_result"
    }
   ],
   "source": [
    "v=np.linspace(0,10,5)\n",
    "v"
   ]
  },
  {
   "cell_type": "code",
   "execution_count": 17,
   "metadata": {},
   "outputs": [
    {
     "data": {
      "text/plain": [
       "(0.0, 2.5, 10.0)"
      ]
     },
     "execution_count": 17,
     "metadata": {},
     "output_type": "execute_result"
    }
   ],
   "source": [
    "v[0],v[1],v[-1]"
   ]
  },
  {
   "cell_type": "code",
   "execution_count": 18,
   "metadata": {
    "scrolled": true
   },
   "outputs": [
    {
     "data": {
      "text/plain": [
       "array([ 5. ,  7.5])"
      ]
     },
     "execution_count": 18,
     "metadata": {},
     "output_type": "execute_result"
    }
   ],
   "source": [
    "v[2:4]#python is right exclusive"
   ]
  },
  {
   "cell_type": "code",
   "execution_count": 19,
   "metadata": {},
   "outputs": [
    {
     "data": {
      "text/plain": [
       "array([[ 0.60037124,  0.468652  ,  0.96245362,  0.95503114],\n",
       "       [ 0.47266201,  0.80493409,  0.89137844,  0.9278601 ],\n",
       "       [ 0.36682163,  0.22164909,  0.63284242,  0.92058815],\n",
       "       [ 0.64664692,  0.58430721,  0.2091121 ,  0.08772873],\n",
       "       [ 0.36027446,  0.3740544 ,  0.04575984,  0.42272688]])"
      ]
     },
     "execution_count": 19,
     "metadata": {},
     "output_type": "execute_result"
    }
   ],
   "source": [
    "vv=np.random.random((5,4))\n",
    "vv"
   ]
  },
  {
   "cell_type": "code",
   "execution_count": 20,
   "metadata": {
    "scrolled": true
   },
   "outputs": [
    {
     "data": {
      "text/plain": [
       "(0.60037124333359171, 0.42272687660470332)"
      ]
     },
     "execution_count": 20,
     "metadata": {},
     "output_type": "execute_result"
    }
   ],
   "source": [
    "vv[0,0],vv[4,3]"
   ]
  },
  {
   "cell_type": "code",
   "execution_count": 21,
   "metadata": {},
   "outputs": [
    {
     "data": {
      "text/plain": [
       "2"
      ]
     },
     "execution_count": 21,
     "metadata": {},
     "output_type": "execute_result"
    }
   ],
   "source": [
    "ll=[[1,2,3],[4,5,6]]\n",
    "ll[0][1]"
   ]
  },
  {
   "cell_type": "code",
   "execution_count": 22,
   "metadata": {},
   "outputs": [
    {
     "data": {
      "text/plain": [
       "array([[ 0.60037124,  0.468652  ,  0.96245362,  0.95503114],\n",
       "       [ 0.47266201,  0.80493409,  0.89137844,  0.9278601 ],\n",
       "       [ 0.36682163,  0.22164909,  0.63284242,  0.92058815],\n",
       "       [ 0.64664692,  0.58430721,  0.2091121 ,  0.08772873],\n",
       "       [ 0.36027446,  0.3740544 ,  0.04575984,  0.42272688]])"
      ]
     },
     "execution_count": 22,
     "metadata": {},
     "output_type": "execute_result"
    }
   ],
   "source": [
    "vv"
   ]
  },
  {
   "cell_type": "code",
   "execution_count": 23,
   "metadata": {
    "scrolled": true
   },
   "outputs": [
    {
     "data": {
      "text/plain": [
       "array([ 0.22164909,  0.58430721,  0.3740544 ])"
      ]
     },
     "execution_count": 23,
     "metadata": {},
     "output_type": "execute_result"
    }
   ],
   "source": [
    "vv[2:5, 1]"
   ]
  },
  {
   "cell_type": "code",
   "execution_count": 24,
   "metadata": {
    "scrolled": true
   },
   "outputs": [
    {
     "data": {
      "text/plain": [
       "array([[ 0.36682163,  0.22164909,  0.63284242],\n",
       "       [ 0.64664692,  0.58430721,  0.2091121 ],\n",
       "       [ 0.36027446,  0.3740544 ,  0.04575984]])"
      ]
     },
     "execution_count": 24,
     "metadata": {},
     "output_type": "execute_result"
    }
   ],
   "source": [
    "vv[2:5, 0:3]#dddddddddddddddddddddd"
   ]
  },
  {
   "cell_type": "markdown",
   "metadata": {},
   "source": [
    "### Copying numpy objects"
   ]
  },
  {
   "cell_type": "code",
   "execution_count": 62,
   "metadata": {},
   "outputs": [
    {
     "name": "stdout",
     "output_type": "stream",
     "text": [
      "[ 0.   2.5  5.   7.5 10. ]\n",
      "[5.  7.5]\n",
      "[ 0.   2.5 55.   7.5 10. ] [55.   7.5]\n"
     ]
    }
   ],
   "source": [
    "print v\n",
    "v2=v[2:4]\n",
    "print v2\n",
    "v2[0]=55\n",
    "print v,v2\n",
    "#it is shallow copy ie it will be reflected to all the array"
   ]
  },
  {
   "cell_type": "code",
   "execution_count": 63,
   "metadata": {},
   "outputs": [
    {
     "name": "stdout",
     "output_type": "stream",
     "text": [
      "[ 0.   2.5 55.   7.5 10. ]\n",
      "[55.   7.5]\n",
      "[ 0.   2.5 55.   7.5 10. ] [100.    7.5]\n"
     ]
    }
   ],
   "source": [
    "print v\n",
    "v2=v[2:4].copy()\n",
    "print v2\n",
    "v2[0]=100\n",
    "print v,v2\n",
    "#it is deep copy ie it will not  be reflected to all the ar"
   ]
  },
  {
   "cell_type": "markdown",
   "metadata": {},
   "source": [
    "### Filtering Data"
   ]
  },
  {
   "cell_type": "code",
   "execution_count": 25,
   "metadata": {},
   "outputs": [
    {
     "name": "stdout",
     "output_type": "stream",
     "text": [
      "[  0.    2.5   5.    7.5  10. ]\n",
      "[ 2.5  5.   7.5]\n"
     ]
    }
   ],
   "source": [
    "print v\n",
    "v1=v[[1,2,3]]\n",
    "print v1"
   ]
  },
  {
   "cell_type": "code",
   "execution_count": 26,
   "metadata": {},
   "outputs": [
    {
     "data": {
      "text/plain": [
       "array([False,  True,  True,  True,  True], dtype=bool)"
      ]
     },
     "execution_count": 26,
     "metadata": {},
     "output_type": "execute_result"
    }
   ],
   "source": [
    "v>0"
   ]
  },
  {
   "cell_type": "code",
   "execution_count": 64,
   "metadata": {},
   "outputs": [],
   "source": [
    "bool_ind=v>5"
   ]
  },
  {
   "cell_type": "code",
   "execution_count": 65,
   "metadata": {},
   "outputs": [
    {
     "data": {
      "text/plain": [
       "array([55. ,  7.5, 10. ])"
      ]
     },
     "execution_count": 65,
     "metadata": {},
     "output_type": "execute_result"
    }
   ],
   "source": [
    "v[bool_ind]"
   ]
  },
  {
   "cell_type": "code",
   "execution_count": 29,
   "metadata": {},
   "outputs": [
    {
     "name": "stdout",
     "output_type": "stream",
     "text": [
      "[[ 0.60037124  0.468652    0.96245362  0.95503114]\n",
      " [ 0.47266201  0.80493409  0.89137844  0.9278601 ]\n",
      " [ 0.36682163  0.22164909  0.63284242  0.92058815]\n",
      " [ 0.64664692  0.58430721  0.2091121   0.08772873]\n",
      " [ 0.36027446  0.3740544   0.04575984  0.42272688]]\n"
     ]
    },
    {
     "data": {
      "text/plain": [
       "array([ 0.60037124,  0.96245362,  0.95503114,  0.80493409,  0.89137844,\n",
       "        0.9278601 ,  0.63284242,  0.92058815,  0.64664692,  0.58430721])"
      ]
     },
     "execution_count": 29,
     "metadata": {},
     "output_type": "execute_result"
    }
   ],
   "source": [
    "print vv\n",
    "vv[vv>.5]"
   ]
  },
  {
   "cell_type": "code",
   "execution_count": 30,
   "metadata": {},
   "outputs": [
    {
     "data": {
      "text/plain": [
       "array([[ 1.        ,  0.468652  ,  1.        ,  1.        ],\n",
       "       [ 0.47266201,  1.        ,  1.        ,  1.        ],\n",
       "       [ 0.36682163,  0.22164909,  1.        ,  1.        ],\n",
       "       [ 1.        ,  1.        ,  0.2091121 ,  0.08772873],\n",
       "       [ 0.36027446,  0.3740544 ,  0.04575984,  0.42272688]])"
      ]
     },
     "execution_count": 30,
     "metadata": {},
     "output_type": "execute_result"
    }
   ],
   "source": [
    "vv[vv>.5]=1\n",
    "vv"
   ]
  },
  {
   "cell_type": "code",
   "execution_count": 33,
   "metadata": {},
   "outputs": [
    {
     "name": "stdout",
     "output_type": "stream",
     "text": [
      "[0 1 2 3 4 5 6 7 8 9]\n"
     ]
    },
    {
     "data": {
      "text/plain": [
       "(array([0, 3, 6, 9], dtype=int64),)"
      ]
     },
     "execution_count": 33,
     "metadata": {},
     "output_type": "execute_result"
    }
   ],
   "source": [
    "vals=np.arange(10)\n",
    "print vals\n",
    "#val = np.array(1,2,3,4,5,5)\n",
    "np.where(vals%3==0)#retun a index "
   ]
  },
  {
   "cell_type": "code",
   "execution_count": 34,
   "metadata": {},
   "outputs": [
    {
     "data": {
      "text/plain": [
       "array([-1,  1, -1,  3, -1,  5, -1,  7, -1,  9])"
      ]
     },
     "execution_count": 34,
     "metadata": {},
     "output_type": "execute_result"
    }
   ],
   "source": [
    "vals_new=np.where(vals%2==0,-1,vals)\n",
    "vals_new"
   ]
  },
  {
   "cell_type": "code",
   "execution_count": 70,
   "metadata": {},
   "outputs": [
    {
     "name": "stdout",
     "output_type": "stream",
     "text": [
      "[[ 0  1  2  3  4]\n",
      " [ 5  6  7  8  9]\n",
      " [10 11 12 13 14]\n",
      " [15 16 17 18 19]]\n",
      "[ 0  2  4  6  8 10 12 14 16 18]\n",
      "[[-1  1 -1  3 -1]\n",
      " [ 5 -1  7 -1  9]\n",
      " [-1 11 -1 13 -1]\n",
      " [15 -1 17 -1 19]]\n"
     ]
    }
   ],
   "source": [
    "# Exercise\n",
    "\n",
    "data=np.array([range(5),range(5,10),range(10,15),range(15,20)])\n",
    "print data\n",
    "vi = data[data%2==0]\n",
    "print vi\n",
    "#print data[data%2==0,-1,data]\n",
    "v = np.where(data%2==0,-1,data)\n",
    "print v"
   ]
  },
  {
   "cell_type": "code",
   "execution_count": null,
   "metadata": {
    "collapsed": true
   },
   "outputs": [],
   "source": [
    "# Display all odd numbers in data\n",
    "# Replace all even numbers in data with -1"
   ]
  },
  {
   "cell_type": "code",
   "execution_count": 103,
   "metadata": {},
   "outputs": [
    {
     "name": "stdout",
     "output_type": "stream",
     "text": [
      "[ 0  3  6  9 12 15 18 21 24 27 30 33 36 39 42 45 48 51 54 57 60 63 66 69\n",
      " 72 75 78 81 84 87 90 93 96 99]\n",
      "[ 0  6 12 18 24 30 36 42 48 54 60 66 72 78 84 90 96  0  9 18 27 36 45 54\n",
      " 63 72 81 90 99]\n"
     ]
    }
   ],
   "source": [
    "data=np.arange(0,100,3)\n",
    "print data\n",
    "data_two = data[data%2==0] \n",
    "#print data_two\n",
    "data_nine = data[data%9==0]\n",
    "data_new = np.concatenate((data_two,data_nine),axis=0)\n",
    "print data_new\n",
    "# Display all values that are multiples of 2 or multiples of 9"
   ]
  },
  {
   "cell_type": "code",
   "execution_count": 102,
   "metadata": {},
   "outputs": [
    {
     "name": "stdout",
     "output_type": "stream",
     "text": [
      "[True]\n",
      "[True]\n",
      "[True]\n",
      "[True]\n",
      "[True]\n",
      "[True]\n",
      "[True]\n",
      "[True]\n",
      "[True]\n",
      "[True]\n",
      "[True]\n",
      "[True]\n",
      "[True]\n",
      "[True]\n",
      "[True]\n",
      "[True]\n",
      "[True]\n",
      "[True]\n",
      "[True]\n",
      "[True]\n",
      "[True]\n",
      "[True]\n",
      "[True]\n",
      "[True]\n",
      "[True]\n",
      "[True]\n",
      "[True]\n",
      "[True]\n",
      "[True]\n",
      "[True]\n",
      "[True]\n",
      "[True]\n",
      "[True]\n",
      "[True]\n",
      "[True]\n",
      "[True]\n",
      "[True]\n",
      "[True]\n",
      "[True]\n",
      "[True]\n",
      "[True]\n",
      "[True]\n",
      "[True]\n",
      "[True]\n",
      "[True]\n",
      "[True]\n",
      "[True]\n",
      "[True]\n",
      "[True]\n",
      "[True]\n",
      "[True]\n"
     ]
    },
    {
     "data": {
      "text/plain": [
       "array([None, None, None, None, None, None, None, None, None, None, None,\n",
       "       None, None, None, None, None, None, None, None, None, None, None,\n",
       "       None, None, None, None, None, None, None, None, None, None, None,\n",
       "       None, None, None, None, None, None, None, None, None, None, None,\n",
       "       None, None, None, None, None, None], dtype=object)"
      ]
     },
     "execution_count": 102,
     "metadata": {},
     "output_type": "execute_result"
    }
   ],
   "source": [
    "def vool(a):\n",
    "    data_two = [a%2==0 or a%9==0]\n",
    "    print data_two\n",
    "#vool(np.arange(0,100,2))\n",
    "cvv = np.vectorize(vool)\n",
    "cvv(np.arange(0,100,2))"
   ]
  },
  {
   "cell_type": "markdown",
   "metadata": {},
   "source": [
    "### Some additional snippets"
   ]
  },
  {
   "cell_type": "code",
   "execution_count": 4,
   "metadata": {},
   "outputs": [
    {
     "data": {
      "text/plain": [
       "array([[ 1.,  2.,  3.,  4.,  5.],\n",
       "       [ 6.,  7.,  8.,  9., 10.]])"
      ]
     },
     "execution_count": 4,
     "metadata": {},
     "output_type": "execute_result"
    }
   ],
   "source": [
    "data=np.array([[1,2,3,4,5],[6,7,8,9,10]],dtype=np.float)\n",
    "data"
   ]
  },
  {
   "cell_type": "code",
   "execution_count": 39,
   "metadata": {},
   "outputs": [
    {
     "data": {
      "text/plain": [
       "array([[  6.,   7.,   8.,   9.,  10.],\n",
       "       [  1.,   2.,   3.,   4.,   5.]])"
      ]
     },
     "execution_count": 39,
     "metadata": {},
     "output_type": "execute_result"
    }
   ],
   "source": [
    "data[::-1]"
   ]
  },
  {
   "cell_type": "code",
   "execution_count": 40,
   "metadata": {},
   "outputs": [
    {
     "data": {
      "text/plain": [
       "array([ 5.,  4.,  3.,  2.,  1.])"
      ]
     },
     "execution_count": 40,
     "metadata": {},
     "output_type": "execute_result"
    }
   ],
   "source": [
    "data[0,::-1]"
   ]
  },
  {
   "cell_type": "code",
   "execution_count": 82,
   "metadata": {},
   "outputs": [
    {
     "data": {
      "text/plain": [
       "array([[10.,  9.,  8.,  7.,  6.],\n",
       "       [ 5.,  4.,  3.,  2.,  1.]])"
      ]
     },
     "execution_count": 82,
     "metadata": {},
     "output_type": "execute_result"
    }
   ],
   "source": [
    "# Reverse both rows and columns of data\n",
    "# OUTPUT\n",
    "#array([[10,  9,  8,  7,  6],\n",
    "#       [ 5,  4,  3,  2,  1]])\n",
    "data[::-1,::-1]"
   ]
  },
  {
   "cell_type": "code",
   "execution_count": 7,
   "metadata": {},
   "outputs": [
    {
     "data": {
      "text/plain": [
       "array([[inf,  2.,  3.,  4., nan],\n",
       "       [ 6.,  7.,  8., nan, nan]])"
      ]
     },
     "execution_count": 7,
     "metadata": {},
     "output_type": "execute_result"
    }
   ],
   "source": [
    "data[0,0]=np.inf#to represent a finite number\n",
    "data[-1,-2]=np.nan# to represnt a non number\n",
    "data"
   ]
  },
  {
   "cell_type": "code",
   "execution_count": 46,
   "metadata": {},
   "outputs": [
    {
     "data": {
      "text/plain": [
       "array([[ inf,   2.],\n",
       "       [  3.,   4.],\n",
       "       [  5.,   6.],\n",
       "       [  7.,   8.],\n",
       "       [  9.,  nan]])"
      ]
     },
     "execution_count": 46,
     "metadata": {},
     "output_type": "execute_result"
    }
   ],
   "source": [
    "# Reshaping\n",
    "reshaped=data.reshape((5,2))\n",
    "reshaped"
   ]
  },
  {
   "cell_type": "code",
   "execution_count": 47,
   "metadata": {},
   "outputs": [
    {
     "data": {
      "text/plain": [
       "array([ inf,   2.,   3.,   4.,   5.,   6.,   7.,   8.,   9.,  nan])"
      ]
     },
     "execution_count": 47,
     "metadata": {},
     "output_type": "execute_result"
    }
   ],
   "source": [
    "flattened=data.flatten()\n",
    "flattened"
   ]
  },
  {
   "cell_type": "code",
   "execution_count": 48,
   "metadata": {},
   "outputs": [
    {
     "data": {
      "text/plain": [
       "array([[ 0.43071108,  0.22469197,  0.02480585],\n",
       "       [ 0.81754419,  0.00923481,  0.26598393],\n",
       "       [ 0.88085261,  0.00458565,  0.33238934]])"
      ]
     },
     "execution_count": 48,
     "metadata": {},
     "output_type": "execute_result"
    }
   ],
   "source": [
    "# Generating random numbers\n",
    "np.random.rand(3,3)"
   ]
  },
  {
   "cell_type": "code",
   "execution_count": 52,
   "metadata": {},
   "outputs": [
    {
     "data": {
      "text/plain": [
       "array([[4, 8, 5, 9, 1],\n",
       "       [2, 3, 9, 3, 2],\n",
       "       [4, 3, 0, 2, 8],\n",
       "       [2, 2, 7, 4, 2],\n",
       "       [1, 7, 9, 8, 6]])"
      ]
     },
     "execution_count": 52,
     "metadata": {},
     "output_type": "execute_result"
    }
   ],
   "source": [
    "np.random.randint(0,10,(5,5))#row,col,#dddddddddddddddddd"
   ]
  },
  {
   "cell_type": "code",
   "execution_count": 87,
   "metadata": {},
   "outputs": [
    {
     "data": {
      "text/plain": [
       "array([['Australia', 'France', 'Canada', 'China'],\n",
       "       ['China', 'China', 'Australia', 'Canada'],\n",
       "       ['India', 'Australia', 'Australia', 'China'],\n",
       "       ['India', 'India', 'Australia', 'Australia'],\n",
       "       ['India', 'Canada', 'India', 'Canada'],\n",
       "       ['China', 'France', 'Australia', 'France'],\n",
       "       ['France', 'France', 'China', 'China'],\n",
       "       ['China', 'France', 'China', 'China'],\n",
       "       ['India', 'China', 'Australia', 'China'],\n",
       "       ['Australia', 'Australia', 'France', 'Canada'],\n",
       "       ['China', 'France', 'Canada', 'Canada'],\n",
       "       ['Australia', 'France', 'India', 'Canada'],\n",
       "       ['China', 'Australia', 'France', 'India']], dtype='|S9')"
      ]
     },
     "execution_count": 87,
     "metadata": {},
     "output_type": "execute_result"
    }
   ],
   "source": [
    "np.random.choice(['India','China','Australia','Canada','France'],(13,4))"
   ]
  },
  {
   "cell_type": "code",
   "execution_count": 88,
   "metadata": {},
   "outputs": [
    {
     "data": {
      "text/plain": [
       "array([['China', 'France', 'India', 'China'],\n",
       "       ['Canada', 'France', 'China', 'India'],\n",
       "       ['China', 'Australia', 'India', 'China']], dtype='|S9')"
      ]
     },
     "execution_count": 88,
     "metadata": {},
     "output_type": "execute_result"
    }
   ],
   "source": [
    "np.random.seed(10)\n",
    "np.random.choice(['India','China','Australia','Canada','France'],(3,4))"
   ]
  },
  {
   "cell_type": "code",
   "execution_count": 75,
   "metadata": {},
   "outputs": [
    {
     "name": "stdout",
     "output_type": "stream",
     "text": [
      "Chess:['Aaryn' 'Aarron' 'Abdulkadir' 'Abdulkadir' 'Abdulkadir']\n",
      "Hockey:['Abdulkadir' 'Abaan' 'Abdallah' 'Abdulbasir' 'Aaren']\n",
      "Cricket:['Aaron-James' 'Abdisalam' 'Aayan' 'Aazaan' 'Abdisalam']\n",
      "Volleyball:['Abaan' 'Aaryan' 'Abaan' 'Aarman' 'Abdulkadir']\n",
      "Football:['Aayan' 'Abaan' 'Abdallah' 'Aarman' 'Abdul-Aziz']\n",
      "Tennis:['Abbas' 'Aaryan' 'Aarron' 'Aaryan' 'Aaren']\n",
      "Shuttle:['Aaron' 'Abdulbasir' 'Abdihakim' 'Aarman' 'Aayan']\n",
      "Carrom:['Abdirahman' 'Abdallah' 'Aaren' 'Aazaan' 'Aazaan']\n",
      "Swimming:['Abdihakim' 'Aaryan' 'Abdul' 'Abdulkarem' 'Abdisalam']\n",
      "Long Jump:['Abdulkadir' 'Aarman' 'Aayan' 'Aazaan' 'Abdulkadir']\n"
     ]
    }
   ],
   "source": [
    "# Consider the set of students of class 10\n",
    "names = [\"Aaran\", \"Aaren\", \"Aarez\", \"Aarman\", \"Aaron\", \"Aaron-James\", \"Aarron\", \"Aaryan\", \"Aaryn\", \"Aayan\", \"Aazaan\", \"Abaan\", \"Abbas\", \"Abdallah\", \"Abdalroof\", \"Abdihakim\", \"Abdirahman\", \"Abdisalam\", \"Abdul\", \"Abdul-Aziz\", \"Abdulbasir\", \"Abdulkadir\", \"Abdulkarem\"]\n",
    "# The school is conducting a competition which requires 10 teams of 5 students each\n",
    "competition=['Chess','Hockey',\"Cricket\",\"Volleyball\",\"Football\",\"Tennis\",\"Shuttle\",'Carrom',\"Swimming\",\"Long Jump\"]\n",
    "# Display the competition name and the students selected for the competition\n",
    "e =np.random.choice(names,(10,5))\n",
    "for name,competition in enumerate(competition):\n",
    "    print competition +\":\"+ str(e[name])"
   ]
  },
  {
   "cell_type": "code",
   "execution_count": 96,
   "metadata": {},
   "outputs": [
    {
     "ename": "ValueError",
     "evalue": "cannot reshape array of size 50 into shape (25,4)",
     "output_type": "error",
     "traceback": [
      "\u001b[1;31m---------------------------------------------------------------------------\u001b[0m",
      "\u001b[1;31mValueError\u001b[0m                                Traceback (most recent call last)",
      "\u001b[1;32m<ipython-input-96-bad1efd5ae18>\u001b[0m in \u001b[0;36m<module>\u001b[1;34m()\u001b[0m\n\u001b[0;32m      4\u001b[0m \u001b[0mc\u001b[0m \u001b[1;33m=\u001b[0m \u001b[0mnp\u001b[0m\u001b[1;33m.\u001b[0m\u001b[0mlinspace\u001b[0m\u001b[1;33m(\u001b[0m\u001b[1;36m0\u001b[0m\u001b[1;33m,\u001b[0m\u001b[1;36m100\u001b[0m\u001b[1;33m)\u001b[0m\u001b[1;33m\u001b[0m\u001b[0m\n\u001b[0;32m      5\u001b[0m \u001b[1;31m#c = c.reshape((1,100))\u001b[0m\u001b[1;33m\u001b[0m\u001b[1;33m\u001b[0m\u001b[0m\n\u001b[1;32m----> 6\u001b[1;33m \u001b[0mci\u001b[0m \u001b[1;33m=\u001b[0m \u001b[0mc\u001b[0m\u001b[1;33m.\u001b[0m\u001b[0mreshape\u001b[0m\u001b[1;33m(\u001b[0m\u001b[1;33m(\u001b[0m\u001b[1;36m25\u001b[0m\u001b[1;33m,\u001b[0m\u001b[1;36m4\u001b[0m\u001b[1;33m)\u001b[0m\u001b[1;33m)\u001b[0m\u001b[1;33m\u001b[0m\u001b[0m\n\u001b[0m\u001b[0;32m      7\u001b[0m \u001b[0mci\u001b[0m\u001b[1;33m\u001b[0m\u001b[0m\n",
      "\u001b[1;31mValueError\u001b[0m: cannot reshape array of size 50 into shape (25,4)"
     ]
    }
   ],
   "source": [
    "# Create an array of 100 elements using linspace\n",
    "# Create all possible combination of arrays with it using reshape\n",
    "# Eg. 1X100, 2X50, 4X25 ....\n",
    "c = np.linspace(0,100)\n",
    "#c = c.reshape((1,100))\n",
    "ci = c.reshape((25,4))\n",
    "ci"
   ]
  },
  {
   "cell_type": "code",
   "execution_count": null,
   "metadata": {
    "collapsed": true
   },
   "outputs": [],
   "source": [
    "# Create a 3X4 array (A) containing some even numbers,nan and inf\n",
    "# What happens if we add a scalar to A?\n",
    "# What happens if we add a normal array with A?\n",
    "# What happens if we multiply a normal array with A?"
   ]
  },
  {
   "cell_type": "markdown",
   "metadata": {},
   "source": [
    "### Vectorize"
   ]
  },
  {
   "cell_type": "code",
   "execution_count": 8,
   "metadata": {},
   "outputs": [],
   "source": [
    "def calc(a):\n",
    "    if a%2==0:\n",
    "        return a**2\n",
    "    else:\n",
    "        return a-1"
   ]
  },
  {
   "cell_type": "code",
   "execution_count": 9,
   "metadata": {},
   "outputs": [
    {
     "data": {
      "text/plain": [
       "0"
      ]
     },
     "execution_count": 9,
     "metadata": {},
     "output_type": "execute_result"
    }
   ],
   "source": [
    "vals=np.array([1,2,3,4,5])\n",
    "\n",
    "calc(vals[0])"
   ]
  },
  {
   "cell_type": "code",
   "execution_count": 10,
   "metadata": {},
   "outputs": [
    {
     "ename": "ValueError",
     "evalue": "The truth value of an array with more than one element is ambiguous. Use a.any() or a.all()",
     "output_type": "error",
     "traceback": [
      "\u001b[1;31m---------------------------------------------------------------------------\u001b[0m",
      "\u001b[1;31mValueError\u001b[0m                                Traceback (most recent call last)",
      "\u001b[1;32m<ipython-input-10-dd12fde8d6c1>\u001b[0m in \u001b[0;36m<module>\u001b[1;34m()\u001b[0m\n\u001b[1;32m----> 1\u001b[1;33m \u001b[0mcalc\u001b[0m\u001b[1;33m(\u001b[0m\u001b[0mvals\u001b[0m\u001b[1;33m)\u001b[0m\u001b[1;33m\u001b[0m\u001b[0m\n\u001b[0m",
      "\u001b[1;32m<ipython-input-8-88aa33b9a028>\u001b[0m in \u001b[0;36mcalc\u001b[1;34m(a)\u001b[0m\n\u001b[0;32m      1\u001b[0m \u001b[1;32mdef\u001b[0m \u001b[0mcalc\u001b[0m\u001b[1;33m(\u001b[0m\u001b[0ma\u001b[0m\u001b[1;33m)\u001b[0m\u001b[1;33m:\u001b[0m\u001b[1;33m\u001b[0m\u001b[0m\n\u001b[1;32m----> 2\u001b[1;33m     \u001b[1;32mif\u001b[0m \u001b[0ma\u001b[0m\u001b[1;33m%\u001b[0m\u001b[1;36m2\u001b[0m\u001b[1;33m==\u001b[0m\u001b[1;36m0\u001b[0m\u001b[1;33m:\u001b[0m\u001b[1;33m\u001b[0m\u001b[0m\n\u001b[0m\u001b[0;32m      3\u001b[0m         \u001b[1;32mreturn\u001b[0m \u001b[0ma\u001b[0m\u001b[1;33m**\u001b[0m\u001b[1;36m2\u001b[0m\u001b[1;33m\u001b[0m\u001b[0m\n\u001b[0;32m      4\u001b[0m     \u001b[1;32melse\u001b[0m\u001b[1;33m:\u001b[0m\u001b[1;33m\u001b[0m\u001b[0m\n\u001b[0;32m      5\u001b[0m         \u001b[1;32mreturn\u001b[0m \u001b[0ma\u001b[0m\u001b[1;33m-\u001b[0m\u001b[1;36m1\u001b[0m\u001b[1;33m\u001b[0m\u001b[0m\n",
      "\u001b[1;31mValueError\u001b[0m: The truth value of an array with more than one element is ambiguous. Use a.any() or a.all()"
     ]
    }
   ],
   "source": [
    "calc(vals)"
   ]
  },
  {
   "cell_type": "code",
   "execution_count": 11,
   "metadata": {},
   "outputs": [
    {
     "data": {
      "text/plain": [
       "array([ 0,  4,  2, 16,  4])"
      ]
     },
     "execution_count": 11,
     "metadata": {},
     "output_type": "execute_result"
    }
   ],
   "source": [
    "v_calc=np.vectorize(calc)\n",
    "\n",
    "v_calc(vals)"
   ]
  },
  {
   "cell_type": "code",
   "execution_count": null,
   "metadata": {
    "collapsed": true
   },
   "outputs": [],
   "source": [
    "# Create a function that converts the numbers to its binary format\n",
    "# Use vectorize to apply it on a numpy array"
   ]
  },
  {
   "cell_type": "code",
   "execution_count": 108,
   "metadata": {},
   "outputs": [
    {
     "name": "stdout",
     "output_type": "stream",
     "text": [
      "[0 2 4 6 8]\n",
      "0b0\n",
      "0b0\n",
      "0b10\n",
      "0b100\n",
      "0b110\n",
      "0b1000\n"
     ]
    },
    {
     "data": {
      "text/plain": [
       "array([None, None, None, None, None], dtype=object)"
      ]
     },
     "execution_count": 108,
     "metadata": {},
     "output_type": "execute_result"
    }
   ],
   "source": [
    "def binaryw(a):\n",
    "    print bin(a)\n",
    "    \n",
    "c = np.array(np.arange(0,10,2))\n",
    "print c\n",
    "voooo = np.vectorize(binaryw)\n",
    "voooo(c)"
   ]
  },
  {
   "cell_type": "markdown",
   "metadata": {},
   "source": [
    "## Records - Using Heterogeneous Datatypes"
   ]
  },
  {
   "cell_type": "code",
   "execution_count": 66,
   "metadata": {
    "collapsed": true
   },
   "outputs": [],
   "source": [
    "rec=np.array([(1,(95.5,98),'Ram'),(2,(100,96.5),'Raj')],\n",
    "             dtype=[('RollNo',np.int32),('Marks',np.float64,2),('Name',np.str,4)])"
   ]
  },
  {
   "cell_type": "code",
   "execution_count": 67,
   "metadata": {},
   "outputs": [
    {
     "data": {
      "text/plain": [
       "array([(1, [  95.5,   98. ], 'Ram'), (2, [ 100. ,   96.5], 'Raj')], \n",
       "      dtype=[('RollNo', '<i4'), ('Marks', '<f8', (2,)), ('Name', 'S4')])"
      ]
     },
     "execution_count": 67,
     "metadata": {},
     "output_type": "execute_result"
    }
   ],
   "source": [
    "rec"
   ]
  },
  {
   "cell_type": "code",
   "execution_count": 68,
   "metadata": {},
   "outputs": [
    {
     "data": {
      "text/plain": [
       "(1, [ 95.5,  98. ], 'Ram')"
      ]
     },
     "execution_count": 68,
     "metadata": {},
     "output_type": "execute_result"
    }
   ],
   "source": [
    "rec[0]"
   ]
  },
  {
   "cell_type": "code",
   "execution_count": 69,
   "metadata": {},
   "outputs": [
    {
     "data": {
      "text/plain": [
       "array(['Ram', 'Raj'], \n",
       "      dtype='|S4')"
      ]
     },
     "execution_count": 69,
     "metadata": {},
     "output_type": "execute_result"
    }
   ],
   "source": [
    "rec['Name']"
   ]
  },
  {
   "cell_type": "code",
   "execution_count": 70,
   "metadata": {},
   "outputs": [
    {
     "data": {
      "text/plain": [
       "array([ 95.5,  98. ])"
      ]
     },
     "execution_count": 70,
     "metadata": {},
     "output_type": "execute_result"
    }
   ],
   "source": [
    "rec[0]['Marks']"
   ]
  },
  {
   "cell_type": "code",
   "execution_count": 71,
   "metadata": {},
   "outputs": [
    {
     "data": {
      "text/plain": [
       "array([ 95.5,  98. ])"
      ]
     },
     "execution_count": 71,
     "metadata": {},
     "output_type": "execute_result"
    }
   ],
   "source": [
    "rec['Marks'][0]"
   ]
  },
  {
   "cell_type": "code",
   "execution_count": 111,
   "metadata": {},
   "outputs": [
    {
     "data": {
      "text/plain": [
       "array([(2018., 9.,  9.,  0., 0., 22.64), (2018., 9.,  9.,  1., 0., 22.42),\n",
       "       (2018., 9.,  9.,  2., 0., 22.3 ), (2018., 9.,  9.,  3., 0., 22.2 ),\n",
       "       (2018., 9.,  9.,  4., 0., 22.14), (2018., 9.,  9.,  5., 0., 22.2 ),\n",
       "       (2018., 9.,  9.,  6., 0., 23.39), (2018., 9.,  9.,  7., 0., 24.42),\n",
       "       (2018., 9.,  9.,  8., 0., 24.7 ), (2018., 9.,  9.,  9., 0., 24.6 ),\n",
       "       (2018., 9.,  9., 10., 0., 24.14), (2018., 9.,  9., 11., 0., 23.95),\n",
       "       (2018., 9.,  9., 12., 0., 23.9 ), (2018., 9.,  9., 13., 0., 23.28),\n",
       "       (2018., 9.,  9., 14., 0., 23.27), (2018., 9.,  9., 15., 0., 25.42),\n",
       "       (2018., 9.,  9., 16., 0., 25.75), (2018., 9.,  9., 17., 0., 24.19),\n",
       "       (2018., 9.,  9., 18., 0., 23.48), (2018., 9.,  9., 19., 0., 22.94),\n",
       "       (2018., 9.,  9., 20., 0., 22.48), (2018., 9.,  9., 21., 0., 22.11),\n",
       "       (2018., 9.,  9., 22., 0., 22.1 ), (2018., 9.,  9., 23., 0., 22.06),\n",
       "       (2018., 9., 10.,  0., 0., 22.05), (2018., 9., 10.,  1., 0., 22.02),\n",
       "       (2018., 9., 10.,  2., 0., 22.  ), (2018., 9., 10.,  3., 0., 22.  ),\n",
       "       (2018., 9., 10.,  4., 0., 22.02), (2018., 9., 10.,  5., 0., 22.05),\n",
       "       (2018., 9., 10.,  6., 0., 21.48), (2018., 9., 10.,  7., 0., 24.08),\n",
       "       (2018., 9., 10.,  8., 0., 25.7 ), (2018., 9., 10.,  9., 0., 26.34),\n",
       "       (2018., 9., 10., 10., 0., 26.92), (2018., 9., 10., 11., 0., 25.27),\n",
       "       (2018., 9., 10., 12., 0., 24.69), (2018., 9., 10., 13., 0., 25.48),\n",
       "       (2018., 9., 10., 14., 0., 24.05), (2018., 9., 10., 15., 0., 23.95),\n",
       "       (2018., 9., 10., 16., 0., 23.7 ), (2018., 9., 10., 17., 0., 23.11),\n",
       "       (2018., 9., 10., 18., 0., 22.72), (2018., 9., 10., 19., 0., 22.6 ),\n",
       "       (2018., 9., 10., 20., 0., 22.5 ), (2018., 9., 10., 21., 0., 22.36),\n",
       "       (2018., 9., 10., 22., 0., 22.23), (2018., 9., 10., 23., 0., 22.05),\n",
       "       (2018., 9., 11.,  0., 0., 21.89), (2018., 9., 11.,  1., 0., 21.77),\n",
       "       (2018., 9., 11.,  2., 0., 21.69), (2018., 9., 11.,  3., 0., 21.66),\n",
       "       (2018., 9., 11.,  4., 0., 21.62), (2018., 9., 11.,  5., 0., 21.6 ),\n",
       "       (2018., 9., 11.,  6., 0., 21.62), (2018., 9., 11.,  7., 0., 23.94),\n",
       "       (2018., 9., 11.,  8., 0., 25.27), (2018., 9., 11.,  9., 0., 26.47),\n",
       "       (2018., 9., 11., 10., 0., 27.58), (2018., 9., 11., 11., 0., 26.95),\n",
       "       (2018., 9., 11., 12., 0., 26.45), (2018., 9., 11., 13., 0., 25.56),\n",
       "       (2018., 9., 11., 14., 0., 24.61), (2018., 9., 11., 15., 0., 24.11),\n",
       "       (2018., 9., 11., 16., 0., 23.77), (2018., 9., 11., 17., 0., 23.72),\n",
       "       (2018., 9., 11., 18., 0., 23.12), (2018., 9., 11., 19., 0., 22.95),\n",
       "       (2018., 9., 11., 20., 0., 22.86), (2018., 9., 11., 21., 0., 22.7 ),\n",
       "       (2018., 9., 11., 22., 0., 22.75), (2018., 9., 11., 23., 0., 22.77),\n",
       "       (2018., 9., 12.,  0., 0., 22.61), (2018., 9., 12.,  1., 0., 22.45),\n",
       "       (2018., 9., 12.,  2., 0., 22.48), (2018., 9., 12.,  3., 0., 22.55),\n",
       "       (2018., 9., 12.,  4., 0., 22.31), (2018., 9., 12.,  5., 0., 22.16),\n",
       "       (2018., 9., 12.,  6., 0., 22.66), (2018., 9., 12.,  7., 0., 25.12),\n",
       "       (2018., 9., 12.,  8., 0., 26.53), (2018., 9., 12.,  9., 0., 26.2 ),\n",
       "       (2018., 9., 12., 10., 0., 26.39), (2018., 9., 12., 11., 0., 28.31),\n",
       "       (2018., 9., 12., 12., 0., 27.53), (2018., 9., 12., 13., 0., 28.44),\n",
       "       (2018., 9., 12., 14., 0., 29.23), (2018., 9., 12., 15., 0., 28.23),\n",
       "       (2018., 9., 12., 16., 0., 27.92), (2018., 9., 12., 17., 0., 27.17),\n",
       "       (2018., 9., 12., 18., 0., 25.2 ), (2018., 9., 12., 19., 0., 24.12),\n",
       "       (2018., 9., 12., 20., 0., 23.44), (2018., 9., 12., 21., 0., 23.19),\n",
       "       (2018., 9., 12., 22., 0., 23.2 ), (2018., 9., 12., 23., 0., 23.22),\n",
       "       (2018., 9., 13.,  0., 0., 23.42), (2018., 9., 13.,  1., 0., 23.6 ),\n",
       "       (2018., 9., 13.,  2., 0., 23.83), (2018., 9., 13.,  3., 0., 23.47),\n",
       "       (2018., 9., 13.,  4., 0., 23.19), (2018., 9., 13.,  5., 0., 22.27),\n",
       "       (2018., 9., 13.,  6., 0., 21.75), (2018., 9., 13.,  7., 0., 23.56),\n",
       "       (2018., 9., 13.,  8., 0., 23.69), (2018., 9., 13.,  9., 0., 24.86),\n",
       "       (2018., 9., 13., 10., 0., 26.52), (2018., 9., 13., 11., 0., 28.23),\n",
       "       (2018., 9., 13., 12., 0., 27.73), (2018., 9., 13., 13., 0., 27.4 ),\n",
       "       (2018., 9., 13., 14., 0., 26.94), (2018., 9., 13., 15., 0., 26.6 ),\n",
       "       (2018., 9., 13., 16., 0., 26.36), (2018., 9., 13., 17., 0., 26.55),\n",
       "       (2018., 9., 13., 18., 0., 25.11), (2018., 9., 13., 19., 0., 24.05),\n",
       "       (2018., 9., 13., 20., 0., 23.5 ), (2018., 9., 13., 21., 0., 23.4 ),\n",
       "       (2018., 9., 13., 22., 0., 23.52), (2018., 9., 13., 23., 0., 23.6 ),\n",
       "       (2018., 9., 14.,  0., 0., 23.55), (2018., 9., 14.,  1., 0., 23.3 ),\n",
       "       (2018., 9., 14.,  2., 0., 23.05), (2018., 9., 14.,  3., 0., 22.88),\n",
       "       (2018., 9., 14.,  4., 0., 22.69), (2018., 9., 14.,  5., 0., 22.5 ),\n",
       "       (2018., 9., 14.,  6., 0., 22.56), (2018., 9., 14.,  7., 0., 24.73),\n",
       "       (2018., 9., 14.,  8., 0., 26.03), (2018., 9., 14.,  9., 0., 27.23),\n",
       "       (2018., 9., 14., 10., 0., 28.38), (2018., 9., 14., 11., 0., 29.27),\n",
       "       (2018., 9., 14., 12., 0., 29.95), (2018., 9., 14., 13., 0., 29.9 ),\n",
       "       (2018., 9., 14., 14., 0., 28.16), (2018., 9., 14., 15., 0., 27.19),\n",
       "       (2018., 9., 14., 16., 0., 25.88), (2018., 9., 14., 17., 0., 25.02),\n",
       "       (2018., 9., 14., 18., 0., 23.55), (2018., 9., 14., 19., 0., 22.9 ),\n",
       "       (2018., 9., 14., 20., 0., 22.56), (2018., 9., 14., 21., 0., 22.55),\n",
       "       (2018., 9., 14., 22., 0., 22.56), (2018., 9., 14., 23., 0., 22.36),\n",
       "       (2018., 9., 15.,  0., 0., 22.52), (2018., 9., 15.,  1., 0., 21.78),\n",
       "       (2018., 9., 15.,  2., 0., 21.45), (2018., 9., 15.,  3., 0., 21.38),\n",
       "       (2018., 9., 15.,  4., 0., 20.81), (2018., 9., 15.,  5., 0., 20.55),\n",
       "       (2018., 9., 15.,  6., 0., 21.45), (2018., 9., 15.,  7., 0., 24.78),\n",
       "       (2018., 9., 15.,  8., 0., 26.45), (2018., 9., 15.,  9., 0., 27.8 ),\n",
       "       (2018., 9., 15., 10., 0., 28.92), (2018., 9., 15., 11., 0., 28.52),\n",
       "       (2018., 9., 15., 12., 0., 27.95), (2018., 9., 15., 13., 0., 27.4 ),\n",
       "       (2018., 9., 15., 14., 0., 26.9 ), (2018., 9., 15., 15., 0., 26.44),\n",
       "       (2018., 9., 15., 16., 0., 25.58), (2018., 9., 15., 17., 0., 24.89),\n",
       "       (2018., 9., 15., 18., 0., 23.7 ), (2018., 9., 15., 19., 0., 23.28),\n",
       "       (2018., 9., 15., 20., 0., 23.05), (2018., 9., 15., 21., 0., 22.73),\n",
       "       (2018., 9., 15., 22., 0., 22.6 ), (2018., 9., 15., 23., 0., 22.45),\n",
       "       (2018., 9., 16.,  0., 0., 22.33), (2018., 9., 16.,  1., 0., 22.2 ),\n",
       "       (2018., 9., 16.,  2., 0., 22.08), (2018., 9., 16.,  3., 0., 22.05),\n",
       "       (2018., 9., 16.,  4., 0., 21.92), (2018., 9., 16.,  5., 0., 21.67),\n",
       "       (2018., 9., 16.,  6., 0., 21.6 ), (2018., 9., 16.,  7., 0., 22.88),\n",
       "       (2018., 9., 16.,  8., 0., 23.77), (2018., 9., 16.,  9., 0., 25.55),\n",
       "       (2018., 9., 16., 10., 0., 27.06), (2018., 9., 16., 11., 0., 27.6 ),\n",
       "       (2018., 9., 16., 12., 0., 28.2 ), (2018., 9., 16., 13., 0., 28.36),\n",
       "       (2018., 9., 16., 14., 0., 27.95), (2018., 9., 16., 15., 0., 27.4 ),\n",
       "       (2018., 9., 16., 16., 0., 26.3 ), (2018., 9., 16., 17., 0., 24.72),\n",
       "       (2018., 9., 16., 18., 0., 23.19), (2018., 9., 16., 19., 0., 23.23),\n",
       "       (2018., 9., 16., 20., 0., 23.08), (2018., 9., 16., 21., 0., 22.8 ),\n",
       "       (2018., 9., 16., 22., 0., 22.69), (2018., 9., 16., 23., 0., 22.6 )],\n",
       "      dtype=[('year', '<f2'), ('month', '<f2'), ('day', '<f2'), ('hour', '<f2'), ('minute', '<f2'), ('Temp', '<f2')])"
      ]
     },
     "execution_count": 111,
     "metadata": {},
     "output_type": "execute_result"
    }
   ],
   "source": [
    "schema=np.dtype([('year',np.float16),\n",
    "                ('month',np.float16),\n",
    "                ('day',np.float16),\n",
    "                ('hour',np.float16),\n",
    "                 ('minute',np.float16),\n",
    "                 ('Temp',np.float16)])\n",
    "np_data=np.loadtxt('C:\\Users\\Sureya\\Desktop\\data analiyics\\done by me on class\\dataset\\weather1week.csv',dtype=schema,delimiter=';')\n",
    "np_data"
   ]
  },
  {
   "cell_type": "code",
   "execution_count": 113,
   "metadata": {},
   "outputs": [
    {
     "data": {
      "text/plain": [
       "(2018., 9., 9., 1., 0., 22.42)"
      ]
     },
     "execution_count": 113,
     "metadata": {},
     "output_type": "execute_result"
    }
   ],
   "source": [
    "np_data[1]"
   ]
  },
  {
   "cell_type": "code",
   "execution_count": 74,
   "metadata": {},
   "outputs": [
    {
     "data": {
      "text/plain": [
       "array([ 22.640625,  22.421875,  22.296875,  22.203125,  22.140625,\n",
       "        22.203125,  23.390625,  24.421875,  24.703125,  24.59375 ,\n",
       "        24.140625,  23.953125,  23.90625 ,  23.28125 ,  23.265625,\n",
       "        25.421875,  25.75    ,  24.1875  ,  23.484375,  22.9375  ,\n",
       "        22.484375,  22.109375,  22.09375 ,  22.0625  ,  22.046875,\n",
       "        22.015625,  22.      ,  22.      ,  22.015625,  22.046875,\n",
       "        21.484375,  24.078125,  25.703125,  26.34375 ,  26.921875,\n",
       "        25.265625,  24.6875  ,  25.484375,  24.046875,  23.953125,\n",
       "        23.703125,  23.109375,  22.71875 ,  22.59375 ,  22.5     ,\n",
       "        22.359375,  22.234375,  22.046875,  21.890625,  21.765625,\n",
       "        21.6875  ,  21.65625 ,  21.625   ,  21.59375 ,  21.625   ,\n",
       "        23.9375  ,  25.265625,  26.46875 ,  27.578125,  26.953125,\n",
       "        26.453125,  25.5625  ,  24.609375,  24.109375,  23.765625,\n",
       "        23.71875 ,  23.125   ,  22.953125,  22.859375,  22.703125,\n",
       "        22.75    ,  22.765625,  22.609375,  22.453125,  22.484375,\n",
       "        22.546875,  22.3125  ,  22.15625 ,  22.65625 ,  25.125   ,\n",
       "        26.53125 ,  26.203125,  26.390625,  28.3125  ,  27.53125 ,\n",
       "        28.4375  ,  29.234375,  28.234375,  27.921875,  27.171875,\n",
       "        25.203125,  24.125   ,  23.4375  ,  23.1875  ,  23.203125,\n",
       "        23.21875 ,  23.421875,  23.59375 ,  23.828125,  23.46875 ,\n",
       "        23.1875  ,  22.265625,  21.75    ,  23.5625  ,  23.6875  ,\n",
       "        24.859375,  26.515625,  28.234375,  27.734375,  27.40625 ,\n",
       "        26.9375  ,  26.59375 ,  26.359375,  26.546875,  25.109375,\n",
       "        24.046875,  23.5     ,  23.40625 ,  23.515625,  23.59375 ,\n",
       "        23.546875,  23.296875,  23.046875,  22.875   ,  22.6875  ,\n",
       "        22.5     ,  22.5625  ,  24.734375,  26.03125 ,  27.234375,\n",
       "        28.375   ,  29.265625,  29.953125,  29.90625 ,  28.15625 ,\n",
       "        27.1875  ,  25.875   ,  25.015625,  23.546875,  22.90625 ,\n",
       "        22.5625  ,  22.546875,  22.5625  ,  22.359375,  22.515625,\n",
       "        21.78125 ,  21.453125,  21.375   ,  20.8125  ,  20.546875,\n",
       "        21.453125,  24.78125 ,  26.453125,  27.796875,  28.921875,\n",
       "        28.515625,  27.953125,  27.40625 ,  26.90625 ,  26.4375  ,\n",
       "        25.578125,  24.890625,  23.703125,  23.28125 ,  23.046875,\n",
       "        22.734375,  22.59375 ,  22.453125,  22.328125,  22.203125,\n",
       "        22.078125,  22.046875,  21.921875,  21.671875,  21.59375 ,\n",
       "        22.875   ,  23.765625,  25.546875,  27.0625  ,  27.59375 ,\n",
       "        28.203125,  28.359375,  27.953125,  27.40625 ,  26.296875,\n",
       "        24.71875 ,  23.1875  ,  23.234375,  23.078125,  22.796875,\n",
       "        22.6875  ,  22.59375 ], dtype=float16)"
      ]
     },
     "execution_count": 74,
     "metadata": {},
     "output_type": "execute_result"
    }
   ],
   "source": [
    "np_data['Temp']"
   ]
  },
  {
   "cell_type": "code",
   "execution_count": 76,
   "metadata": {},
   "outputs": [
    {
     "data": {
      "text/plain": [
       "9.0"
      ]
     },
     "execution_count": 76,
     "metadata": {},
     "output_type": "execute_result"
    }
   ],
   "source": [
    "np_data[0]['day']"
   ]
  },
  {
   "cell_type": "code",
   "execution_count": 77,
   "metadata": {},
   "outputs": [
    {
     "data": {
      "text/plain": [
       "array([( 2018.,  9.,   9.,   0.,  0.,  54.625  ),\n",
       "       ( 2018.,  9.,   9.,   1.,  0.,  54.4375 ),\n",
       "       ( 2018.,  9.,   9.,   2.,  0.,  54.3125 ),\n",
       "       ( 2018.,  9.,   9.,   3.,  0.,  54.1875 ),\n",
       "       ( 2018.,  9.,   9.,   4.,  0.,  54.125  ),\n",
       "       ( 2018.,  9.,   9.,   5.,  0.,  54.1875 ),\n",
       "       ( 2018.,  9.,   9.,   6.,  0.,  55.375  ),\n",
       "       ( 2018.,  9.,   9.,   7.,  0.,  56.4375 ),\n",
       "       ( 2018.,  9.,   9.,   8.,  0.,  56.6875 ),\n",
       "       ( 2018.,  9.,   9.,   9.,  0.,  56.59375),\n",
       "       ( 2018.,  9.,   9.,  10.,  0.,  56.125  ),\n",
       "       ( 2018.,  9.,   9.,  11.,  0.,  55.9375 ),\n",
       "       ( 2018.,  9.,   9.,  12.,  0.,  55.90625),\n",
       "       ( 2018.,  9.,   9.,  13.,  0.,  55.28125),\n",
       "       ( 2018.,  9.,   9.,  14.,  0.,  55.25   ),\n",
       "       ( 2018.,  9.,   9.,  15.,  0.,  57.4375 ),\n",
       "       ( 2018.,  9.,   9.,  16.,  0.,  57.75   ),\n",
       "       ( 2018.,  9.,   9.,  17.,  0.,  56.1875 ),\n",
       "       ( 2018.,  9.,   9.,  18.,  0.,  55.5    ),\n",
       "       ( 2018.,  9.,   9.,  19.,  0.,  54.9375 ),\n",
       "       ( 2018.,  9.,   9.,  20.,  0.,  54.5    ),\n",
       "       ( 2018.,  9.,   9.,  21.,  0.,  54.125  ),\n",
       "       ( 2018.,  9.,   9.,  22.,  0.,  54.09375),\n",
       "       ( 2018.,  9.,   9.,  23.,  0.,  54.0625 ),\n",
       "       ( 2018.,  9.,  10.,   0.,  0.,  54.0625 ),\n",
       "       ( 2018.,  9.,  10.,   1.,  0.,  54.     ),\n",
       "       ( 2018.,  9.,  10.,   2.,  0.,  54.     ),\n",
       "       ( 2018.,  9.,  10.,   3.,  0.,  54.     ),\n",
       "       ( 2018.,  9.,  10.,   4.,  0.,  54.     ),\n",
       "       ( 2018.,  9.,  10.,   5.,  0.,  54.0625 ),\n",
       "       ( 2018.,  9.,  10.,   6.,  0.,  53.5    ),\n",
       "       ( 2018.,  9.,  10.,   7.,  0.,  56.0625 ),\n",
       "       ( 2018.,  9.,  10.,   8.,  0.,  57.6875 ),\n",
       "       ( 2018.,  9.,  10.,   9.,  0.,  58.34375),\n",
       "       ( 2018.,  9.,  10.,  10.,  0.,  58.9375 ),\n",
       "       ( 2018.,  9.,  10.,  11.,  0.,  57.25   ),\n",
       "       ( 2018.,  9.,  10.,  12.,  0.,  56.6875 ),\n",
       "       ( 2018.,  9.,  10.,  13.,  0.,  57.5    ),\n",
       "       ( 2018.,  9.,  10.,  14.,  0.,  56.0625 ),\n",
       "       ( 2018.,  9.,  10.,  15.,  0.,  55.9375 ),\n",
       "       ( 2018.,  9.,  10.,  16.,  0.,  55.6875 ),\n",
       "       ( 2018.,  9.,  10.,  17.,  0.,  55.125  ),\n",
       "       ( 2018.,  9.,  10.,  18.,  0.,  54.71875),\n",
       "       ( 2018.,  9.,  10.,  19.,  0.,  54.59375),\n",
       "       ( 2018.,  9.,  10.,  20.,  0.,  54.5    ),\n",
       "       ( 2018.,  9.,  10.,  21.,  0.,  54.375  ),\n",
       "       ( 2018.,  9.,  10.,  22.,  0.,  54.25   ),\n",
       "       ( 2018.,  9.,  10.,  23.,  0.,  54.0625 ),\n",
       "       ( 2018.,  9.,  11.,   0.,  0.,  53.875  ),\n",
       "       ( 2018.,  9.,  11.,   1.,  0.,  53.75   ),\n",
       "       ( 2018.,  9.,  11.,   2.,  0.,  53.6875 ),\n",
       "       ( 2018.,  9.,  11.,   3.,  0.,  53.65625),\n",
       "       ( 2018.,  9.,  11.,   4.,  0.,  53.625  ),\n",
       "       ( 2018.,  9.,  11.,   5.,  0.,  53.59375),\n",
       "       ( 2018.,  9.,  11.,   6.,  0.,  53.625  ),\n",
       "       ( 2018.,  9.,  11.,   7.,  0.,  55.9375 ),\n",
       "       ( 2018.,  9.,  11.,   8.,  0.,  57.25   ),\n",
       "       ( 2018.,  9.,  11.,   9.,  0.,  58.46875),\n",
       "       ( 2018.,  9.,  11.,  10.,  0.,  59.5625 ),\n",
       "       ( 2018.,  9.,  11.,  11.,  0.,  58.9375 ),\n",
       "       ( 2018.,  9.,  11.,  12.,  0.,  58.4375 ),\n",
       "       ( 2018.,  9.,  11.,  13.,  0.,  57.5625 ),\n",
       "       ( 2018.,  9.,  11.,  14.,  0.,  56.625  ),\n",
       "       ( 2018.,  9.,  11.,  15.,  0.,  56.125  ),\n",
       "       ( 2018.,  9.,  11.,  16.,  0.,  55.75   ),\n",
       "       ( 2018.,  9.,  11.,  17.,  0.,  55.71875),\n",
       "       ( 2018.,  9.,  11.,  18.,  0.,  55.125  ),\n",
       "       ( 2018.,  9.,  11.,  19.,  0.,  54.9375 ),\n",
       "       ( 2018.,  9.,  11.,  20.,  0.,  54.875  ),\n",
       "       ( 2018.,  9.,  11.,  21.,  0.,  54.6875 ),\n",
       "       ( 2018.,  9.,  11.,  22.,  0.,  54.75   ),\n",
       "       ( 2018.,  9.,  11.,  23.,  0.,  54.75   ),\n",
       "       ( 2018.,  9.,  12.,   0.,  0.,  54.625  ),\n",
       "       ( 2018.,  9.,  12.,   1.,  0.,  54.4375 ),\n",
       "       ( 2018.,  9.,  12.,   2.,  0.,  54.5    ),\n",
       "       ( 2018.,  9.,  12.,   3.,  0.,  54.5625 ),\n",
       "       ( 2018.,  9.,  12.,   4.,  0.,  54.3125 ),\n",
       "       ( 2018.,  9.,  12.,   5.,  0.,  54.15625),\n",
       "       ( 2018.,  9.,  12.,   6.,  0.,  54.65625),\n",
       "       ( 2018.,  9.,  12.,   7.,  0.,  57.125  ),\n",
       "       ( 2018.,  9.,  12.,   8.,  0.,  58.53125),\n",
       "       ( 2018.,  9.,  12.,   9.,  0.,  58.1875 ),\n",
       "       ( 2018.,  9.,  12.,  10.,  0.,  58.375  ),\n",
       "       ( 2018.,  9.,  12.,  11.,  0.,  60.3125 ),\n",
       "       ( 2018.,  9.,  12.,  12.,  0.,  59.53125),\n",
       "       ( 2018.,  9.,  12.,  13.,  0.,  60.4375 ),\n",
       "       ( 2018.,  9.,  12.,  14.,  0.,  61.25   ),\n",
       "       ( 2018.,  9.,  12.,  15.,  0.,  60.25   ),\n",
       "       ( 2018.,  9.,  12.,  16.,  0.,  59.9375 ),\n",
       "       ( 2018.,  9.,  12.,  17.,  0.,  59.1875 ),\n",
       "       ( 2018.,  9.,  12.,  18.,  0.,  57.1875 ),\n",
       "       ( 2018.,  9.,  12.,  19.,  0.,  56.125  ),\n",
       "       ( 2018.,  9.,  12.,  20.,  0.,  55.4375 ),\n",
       "       ( 2018.,  9.,  12.,  21.,  0.,  55.1875 ),\n",
       "       ( 2018.,  9.,  12.,  22.,  0.,  55.1875 ),\n",
       "       ( 2018.,  9.,  12.,  23.,  0.,  55.21875),\n",
       "       ( 2018.,  9.,  13.,   0.,  0.,  55.4375 ),\n",
       "       ( 2018.,  9.,  13.,   1.,  0.,  55.59375),\n",
       "       ( 2018.,  9.,  13.,   2.,  0.,  55.8125 ),\n",
       "       ( 2018.,  9.,  13.,   3.,  0.,  55.46875),\n",
       "       ( 2018.,  9.,  13.,   4.,  0.,  55.1875 ),\n",
       "       ( 2018.,  9.,  13.,   5.,  0.,  54.25   ),\n",
       "       ( 2018.,  9.,  13.,   6.,  0.,  53.75   ),\n",
       "       ( 2018.,  9.,  13.,   7.,  0.,  55.5625 ),\n",
       "       ( 2018.,  9.,  13.,   8.,  0.,  55.6875 ),\n",
       "       ( 2018.,  9.,  13.,   9.,  0.,  56.875  ),\n",
       "       ( 2018.,  9.,  13.,  10.,  0.,  58.5    ),\n",
       "       ( 2018.,  9.,  13.,  11.,  0.,  60.25   ),\n",
       "       ( 2018.,  9.,  13.,  12.,  0.,  59.75   ),\n",
       "       ( 2018.,  9.,  13.,  13.,  0.,  59.40625),\n",
       "       ( 2018.,  9.,  13.,  14.,  0.,  58.9375 ),\n",
       "       ( 2018.,  9.,  13.,  15.,  0.,  58.59375),\n",
       "       ( 2018.,  9.,  13.,  16.,  0.,  58.375  ),\n",
       "       ( 2018.,  9.,  13.,  17.,  0.,  58.5625 ),\n",
       "       ( 2018.,  9.,  13.,  18.,  0.,  57.125  ),\n",
       "       ( 2018.,  9.,  13.,  19.,  0.,  56.0625 ),\n",
       "       ( 2018.,  9.,  13.,  20.,  0.,  55.5    ),\n",
       "       ( 2018.,  9.,  13.,  21.,  0.,  55.40625),\n",
       "       ( 2018.,  9.,  13.,  22.,  0.,  55.5    ),\n",
       "       ( 2018.,  9.,  13.,  23.,  0.,  55.59375),\n",
       "       ( 2018.,  9.,  14.,   0.,  0.,  55.5625 ),\n",
       "       ( 2018.,  9.,  14.,   1.,  0.,  55.3125 ),\n",
       "       ( 2018.,  9.,  14.,   2.,  0.,  55.0625 ),\n",
       "       ( 2018.,  9.,  14.,   3.,  0.,  54.875  ),\n",
       "       ( 2018.,  9.,  14.,   4.,  0.,  54.6875 ),\n",
       "       ( 2018.,  9.,  14.,   5.,  0.,  54.5    ),\n",
       "       ( 2018.,  9.,  14.,   6.,  0.,  54.5625 ),\n",
       "       ( 2018.,  9.,  14.,   7.,  0.,  56.75   ),\n",
       "       ( 2018.,  9.,  14.,   8.,  0.,  58.03125),\n",
       "       ( 2018.,  9.,  14.,   9.,  0.,  59.25   ),\n",
       "       ( 2018.,  9.,  14.,  10.,  0.,  60.375  ),\n",
       "       ( 2018.,  9.,  14.,  11.,  0.,  61.25   ),\n",
       "       ( 2018.,  9.,  14.,  12.,  0.,  61.9375 ),\n",
       "       ( 2018.,  9.,  14.,  13.,  0.,  61.90625),\n",
       "       ( 2018.,  9.,  14.,  14.,  0.,  60.15625),\n",
       "       ( 2018.,  9.,  14.,  15.,  0.,  59.1875 ),\n",
       "       ( 2018.,  9.,  14.,  16.,  0.,  57.875  ),\n",
       "       ( 2018.,  9.,  14.,  17.,  0.,  57.     ),\n",
       "       ( 2018.,  9.,  14.,  18.,  0.,  55.5625 ),\n",
       "       ( 2018.,  9.,  14.,  19.,  0.,  54.90625),\n",
       "       ( 2018.,  9.,  14.,  20.,  0.,  54.5625 ),\n",
       "       ( 2018.,  9.,  14.,  21.,  0.,  54.5625 ),\n",
       "       ( 2018.,  9.,  14.,  22.,  0.,  54.5625 ),\n",
       "       ( 2018.,  9.,  14.,  23.,  0.,  54.375  ),\n",
       "       ( 2018.,  9.,  15.,   0.,  0.,  54.5    ),\n",
       "       ( 2018.,  9.,  15.,   1.,  0.,  53.78125),\n",
       "       ( 2018.,  9.,  15.,   2.,  0.,  53.4375 ),\n",
       "       ( 2018.,  9.,  15.,   3.,  0.,  53.375  ),\n",
       "       ( 2018.,  9.,  15.,   4.,  0.,  52.8125 ),\n",
       "       ( 2018.,  9.,  15.,   5.,  0.,  52.5625 ),\n",
       "       ( 2018.,  9.,  15.,   6.,  0.,  53.4375 ),\n",
       "       ( 2018.,  9.,  15.,   7.,  0.,  56.78125),\n",
       "       ( 2018.,  9.,  15.,   8.,  0.,  58.4375 ),\n",
       "       ( 2018.,  9.,  15.,   9.,  0.,  59.8125 ),\n",
       "       ( 2018.,  9.,  15.,  10.,  0.,  60.9375 ),\n",
       "       ( 2018.,  9.,  15.,  11.,  0.,  60.5    ),\n",
       "       ( 2018.,  9.,  15.,  12.,  0.,  59.9375 ),\n",
       "       ( 2018.,  9.,  15.,  13.,  0.,  59.40625),\n",
       "       ( 2018.,  9.,  15.,  14.,  0.,  58.90625),\n",
       "       ( 2018.,  9.,  15.,  15.,  0.,  58.4375 ),\n",
       "       ( 2018.,  9.,  15.,  16.,  0.,  57.5625 ),\n",
       "       ( 2018.,  9.,  15.,  17.,  0.,  56.875  ),\n",
       "       ( 2018.,  9.,  15.,  18.,  0.,  55.6875 ),\n",
       "       ( 2018.,  9.,  15.,  19.,  0.,  55.28125),\n",
       "       ( 2018.,  9.,  15.,  20.,  0.,  55.0625 ),\n",
       "       ( 2018.,  9.,  15.,  21.,  0.,  54.75   ),\n",
       "       ( 2018.,  9.,  15.,  22.,  0.,  54.59375),\n",
       "       ( 2018.,  9.,  15.,  23.,  0.,  54.4375 ),\n",
       "       ( 2018.,  9.,  16.,   0.,  0.,  54.3125 ),\n",
       "       ( 2018.,  9.,  16.,   1.,  0.,  54.1875 ),\n",
       "       ( 2018.,  9.,  16.,   2.,  0.,  54.0625 ),\n",
       "       ( 2018.,  9.,  16.,   3.,  0.,  54.0625 ),\n",
       "       ( 2018.,  9.,  16.,   4.,  0.,  53.9375 ),\n",
       "       ( 2018.,  9.,  16.,   5.,  0.,  53.6875 ),\n",
       "       ( 2018.,  9.,  16.,   6.,  0.,  53.59375),\n",
       "       ( 2018.,  9.,  16.,   7.,  0.,  54.875  ),\n",
       "       ( 2018.,  9.,  16.,   8.,  0.,  55.75   ),\n",
       "       ( 2018.,  9.,  16.,   9.,  0.,  57.5625 ),\n",
       "       ( 2018.,  9.,  16.,  10.,  0.,  59.0625 ),\n",
       "       ( 2018.,  9.,  16.,  11.,  0.,  59.59375),\n",
       "       ( 2018.,  9.,  16.,  12.,  0.,  60.1875 ),\n",
       "       ( 2018.,  9.,  16.,  13.,  0.,  60.375  ),\n",
       "       ( 2018.,  9.,  16.,  14.,  0.,  59.9375 ),\n",
       "       ( 2018.,  9.,  16.,  15.,  0.,  59.40625),\n",
       "       ( 2018.,  9.,  16.,  16.,  0.,  58.3125 ),\n",
       "       ( 2018.,  9.,  16.,  17.,  0.,  56.71875),\n",
       "       ( 2018.,  9.,  16.,  18.,  0.,  55.1875 ),\n",
       "       ( 2018.,  9.,  16.,  19.,  0.,  55.25   ),\n",
       "       ( 2018.,  9.,  16.,  20.,  0.,  55.0625 ),\n",
       "       ( 2018.,  9.,  16.,  21.,  0.,  54.8125 ),\n",
       "       ( 2018.,  9.,  16.,  22.,  0.,  54.6875 ),\n",
       "       ( 2018.,  9.,  16.,  23.,  0.,  54.59375)], \n",
       "      dtype=[('year', '<f2'), ('month', '<f2'), ('day', '<f2'), ('hour', '<f2'), ('minute', '<f2'), ('Temp', '<f2')])"
      ]
     },
     "execution_count": 77,
     "metadata": {},
     "output_type": "execute_result"
    }
   ],
   "source": [
    "np_data['Temp']=np_data['Temp']*(9/5)+32\n",
    "np_data"
   ]
  },
  {
   "cell_type": "code",
   "execution_count": 114,
   "metadata": {},
   "outputs": [
    {
     "data": {
      "text/plain": [
       "array([(2018., 9.,  9.,  0., 0., 22.64, 23.31),\n",
       "       (2018., 9.,  9.,  1., 0., 22.42, 23.19),\n",
       "       (2018., 9.,  9.,  2., 0., 22.3 , 22.62),\n",
       "       (2018., 9.,  9.,  3., 0., 22.2 , 22.81),\n",
       "       (2018., 9.,  9.,  4., 0., 22.14, 22.48),\n",
       "       (2018., 9.,  9.,  5., 0., 22.2 , 22.55),\n",
       "       (2018., 9.,  9.,  6., 0., 23.39, 23.38),\n",
       "       (2018., 9.,  9.,  7., 0., 24.42, 24.42),\n",
       "       (2018., 9.,  9.,  8., 0., 24.7 , 25.67),\n",
       "       (2018., 9.,  9.,  9., 0., 24.6 , 25.3 ),\n",
       "       (2018., 9.,  9., 10., 0., 24.14, 25.55),\n",
       "       (2018., 9.,  9., 11., 0., 23.95, 25.7 ),\n",
       "       (2018., 9.,  9., 12., 0., 23.9 , 27.69),\n",
       "       (2018., 9.,  9., 13., 0., 23.28, 28.52),\n",
       "       (2018., 9.,  9., 14., 0., 23.27, 27.2 ),\n",
       "       (2018., 9.,  9., 15., 0., 25.42, 26.55),\n",
       "       (2018., 9.,  9., 16., 0., 25.75, 26.25),\n",
       "       (2018., 9.,  9., 17., 0., 24.19, 25.25),\n",
       "       (2018., 9.,  9., 18., 0., 23.48, 24.27),\n",
       "       (2018., 9.,  9., 19., 0., 22.94, 22.8 ),\n",
       "       (2018., 9.,  9., 20., 0., 22.48, 22.48),\n",
       "       (2018., 9.,  9., 21., 0., 22.11, 22.27),\n",
       "       (2018., 9.,  9., 22., 0., 22.1 , 22.14),\n",
       "       (2018., 9.,  9., 23., 0., 22.06, 22.69),\n",
       "       (2018., 9., 10.,  0., 0., 22.05, 22.8 ),\n",
       "       (2018., 9., 10.,  1., 0., 22.02, 22.73),\n",
       "       (2018., 9., 10.,  2., 0., 22.  , 22.73),\n",
       "       (2018., 9., 10.,  3., 0., 22.  , 22.72),\n",
       "       (2018., 9., 10.,  4., 0., 22.02, 22.67),\n",
       "       (2018., 9., 10.,  5., 0., 22.05, 22.64),\n",
       "       (2018., 9., 10.,  6., 0., 21.48, 22.36),\n",
       "       (2018., 9., 10.,  7., 0., 24.08, 24.14),\n",
       "       (2018., 9., 10.,  8., 0., 25.7 , 24.23),\n",
       "       (2018., 9., 10.,  9., 0., 26.34, 25.4 ),\n",
       "       (2018., 9., 10., 10., 0., 26.92, 26.88),\n",
       "       (2018., 9., 10., 11., 0., 25.27, 26.4 ),\n",
       "       (2018., 9., 10., 12., 0., 24.69, 26.31),\n",
       "       (2018., 9., 10., 13., 0., 25.48, 26.2 ),\n",
       "       (2018., 9., 10., 14., 0., 24.05, 26.02),\n",
       "       (2018., 9., 10., 15., 0., 23.95, 25.61),\n",
       "       (2018., 9., 10., 16., 0., 23.7 , 25.3 ),\n",
       "       (2018., 9., 10., 17., 0., 23.11, 25.36),\n",
       "       (2018., 9., 10., 18., 0., 22.72, 24.1 ),\n",
       "       (2018., 9., 10., 19., 0., 22.6 , 23.89),\n",
       "       (2018., 9., 10., 20., 0., 22.5 , 23.52),\n",
       "       (2018., 9., 10., 21., 0., 22.36, 22.95),\n",
       "       (2018., 9., 10., 22., 0., 22.23, 22.7 ),\n",
       "       (2018., 9., 10., 23., 0., 22.05, 22.56),\n",
       "       (2018., 9., 11.,  0., 0., 21.89, 22.47),\n",
       "       (2018., 9., 11.,  1., 0., 21.77, 22.56),\n",
       "       (2018., 9., 11.,  2., 0., 21.69, 22.56),\n",
       "       (2018., 9., 11.,  3., 0., 21.66, 22.45),\n",
       "       (2018., 9., 11.,  4., 0., 21.62, 22.34),\n",
       "       (2018., 9., 11.,  5., 0., 21.6 , 22.19),\n",
       "       (2018., 9., 11.,  6., 0., 21.62, 21.9 ),\n",
       "       (2018., 9., 11.,  7., 0., 23.94, 24.1 ),\n",
       "       (2018., 9., 11.,  8., 0., 25.27, 24.95),\n",
       "       (2018., 9., 11.,  9., 0., 26.47, 25.47),\n",
       "       (2018., 9., 11., 10., 0., 27.58, 25.05),\n",
       "       (2018., 9., 11., 11., 0., 26.95, 24.98),\n",
       "       (2018., 9., 11., 12., 0., 26.45, 25.75),\n",
       "       (2018., 9., 11., 13., 0., 25.56, 25.72),\n",
       "       (2018., 9., 11., 14., 0., 24.61, 25.56),\n",
       "       (2018., 9., 11., 15., 0., 24.11, 24.66),\n",
       "       (2018., 9., 11., 16., 0., 23.77, 24.48),\n",
       "       (2018., 9., 11., 17., 0., 23.72, 23.88),\n",
       "       (2018., 9., 11., 18., 0., 23.12, 22.92),\n",
       "       (2018., 9., 11., 19., 0., 22.95, 22.05),\n",
       "       (2018., 9., 11., 20., 0., 22.86, 22.1 ),\n",
       "       (2018., 9., 11., 21., 0., 22.7 , 22.14),\n",
       "       (2018., 9., 11., 22., 0., 22.75, 22.33),\n",
       "       (2018., 9., 11., 23., 0., 22.77, 22.23),\n",
       "       (2018., 9., 12.,  0., 0., 22.61, 21.92),\n",
       "       (2018., 9., 12.,  1., 0., 22.45, 21.72),\n",
       "       (2018., 9., 12.,  2., 0., 22.48, 21.53),\n",
       "       (2018., 9., 12.,  3., 0., 22.55, 21.6 ),\n",
       "       (2018., 9., 12.,  4., 0., 22.31, 22.  ),\n",
       "       (2018., 9., 12.,  5., 0., 22.16, 22.02),\n",
       "       (2018., 9., 12.,  6., 0., 22.66, 22.22),\n",
       "       (2018., 9., 12.,  7., 0., 25.12, 24.56),\n",
       "       (2018., 9., 12.,  8., 0., 26.53, 25.7 ),\n",
       "       (2018., 9., 12.,  9., 0., 26.2 , 26.42),\n",
       "       (2018., 9., 12., 10., 0., 26.39, 25.8 ),\n",
       "       (2018., 9., 12., 11., 0., 28.31, 25.66),\n",
       "       (2018., 9., 12., 12., 0., 27.53, 24.97),\n",
       "       (2018., 9., 12., 13., 0., 28.44, 24.61),\n",
       "       (2018., 9., 12., 14., 0., 29.23, 24.27),\n",
       "       (2018., 9., 12., 15., 0., 28.23, 23.88),\n",
       "       (2018., 9., 12., 16., 0., 27.92, 23.42),\n",
       "       (2018., 9., 12., 17., 0., 27.17, 23.34),\n",
       "       (2018., 9., 12., 18., 0., 25.2 , 22.8 ),\n",
       "       (2018., 9., 12., 19., 0., 24.12, 22.25),\n",
       "       (2018., 9., 12., 20., 0., 23.44, 22.14),\n",
       "       (2018., 9., 12., 21., 0., 23.19, 22.3 ),\n",
       "       (2018., 9., 12., 22., 0., 23.2 , 22.4 ),\n",
       "       (2018., 9., 12., 23., 0., 23.22, 22.19),\n",
       "       (2018., 9., 13.,  0., 0., 23.42, 21.77),\n",
       "       (2018., 9., 13.,  1., 0., 23.6 , 21.31),\n",
       "       (2018., 9., 13.,  2., 0., 23.83, 21.19),\n",
       "       (2018., 9., 13.,  3., 0., 23.47, 21.06),\n",
       "       (2018., 9., 13.,  4., 0., 23.19, 20.94),\n",
       "       (2018., 9., 13.,  5., 0., 22.27, 20.98),\n",
       "       (2018., 9., 13.,  6., 0., 21.75, 22.3 ),\n",
       "       (2018., 9., 13.,  7., 0., 23.56, 24.39),\n",
       "       (2018., 9., 13.,  8., 0., 23.69, 24.47),\n",
       "       (2018., 9., 13.,  9., 0., 24.86, 25.34),\n",
       "       (2018., 9., 13., 10., 0., 26.52, 25.7 ),\n",
       "       (2018., 9., 13., 11., 0., 28.23, 25.8 ),\n",
       "       (2018., 9., 13., 12., 0., 27.73, 25.75),\n",
       "       (2018., 9., 13., 13., 0., 27.4 , 25.98),\n",
       "       (2018., 9., 13., 14., 0., 26.94, 25.73),\n",
       "       (2018., 9., 13., 15., 0., 26.6 , 25.61),\n",
       "       (2018., 9., 13., 16., 0., 26.36, 25.12),\n",
       "       (2018., 9., 13., 17., 0., 26.55, 24.81),\n",
       "       (2018., 9., 13., 18., 0., 25.11, 23.48),\n",
       "       (2018., 9., 13., 19., 0., 24.05, 23.1 ),\n",
       "       (2018., 9., 13., 20., 0., 23.5 , 23.12),\n",
       "       (2018., 9., 13., 21., 0., 23.4 , 22.61),\n",
       "       (2018., 9., 13., 22., 0., 23.52, 22.42),\n",
       "       (2018., 9., 13., 23., 0., 23.6 , 22.34),\n",
       "       (2018., 9., 14.,  0., 0., 23.55, 22.42),\n",
       "       (2018., 9., 14.,  1., 0., 23.3 , 22.52),\n",
       "       (2018., 9., 14.,  2., 0., 23.05, 22.55),\n",
       "       (2018., 9., 14.,  3., 0., 22.88, 22.48),\n",
       "       (2018., 9., 14.,  4., 0., 22.69, 22.4 ),\n",
       "       (2018., 9., 14.,  5., 0., 22.5 , 22.4 ),\n",
       "       (2018., 9., 14.,  6., 0., 22.56, 22.81),\n",
       "       (2018., 9., 14.,  7., 0., 24.73, 23.95),\n",
       "       (2018., 9., 14.,  8., 0., 26.03, 25.81),\n",
       "       (2018., 9., 14.,  9., 0., 27.23, 27.38),\n",
       "       (2018., 9., 14., 10., 0., 28.38, 28.69),\n",
       "       (2018., 9., 14., 11., 0., 29.27, 29.7 ),\n",
       "       (2018., 9., 14., 12., 0., 29.95, 30.38),\n",
       "       (2018., 9., 14., 13., 0., 29.9 , 30.84),\n",
       "       (2018., 9., 14., 14., 0., 28.16, 30.86),\n",
       "       (2018., 9., 14., 15., 0., 27.19, 30.34),\n",
       "       (2018., 9., 14., 16., 0., 25.88, 29.05),\n",
       "       (2018., 9., 14., 17., 0., 25.02, 27.5 ),\n",
       "       (2018., 9., 14., 18., 0., 23.55, 25.03),\n",
       "       (2018., 9., 14., 19., 0., 22.9 , 24.2 ),\n",
       "       (2018., 9., 14., 20., 0., 22.56, 23.66),\n",
       "       (2018., 9., 14., 21., 0., 22.55, 23.53),\n",
       "       (2018., 9., 14., 22., 0., 22.56, 23.55),\n",
       "       (2018., 9., 14., 23., 0., 22.36, 23.12),\n",
       "       (2018., 9., 15.,  0., 0., 22.52, 23.48),\n",
       "       (2018., 9., 15.,  1., 0., 21.78, 23.52),\n",
       "       (2018., 9., 15.,  2., 0., 21.45, 23.38),\n",
       "       (2018., 9., 15.,  3., 0., 21.38, 22.6 ),\n",
       "       (2018., 9., 15.,  4., 0., 20.81, 22.34),\n",
       "       (2018., 9., 15.,  5., 0., 20.55, 22.17),\n",
       "       (2018., 9., 15.,  6., 0., 21.45, 23.53),\n",
       "       (2018., 9., 15.,  7., 0., 24.78, 25.02),\n",
       "       (2018., 9., 15.,  8., 0., 26.45, 26.19),\n",
       "       (2018., 9., 15.,  9., 0., 27.8 , 26.16),\n",
       "       (2018., 9., 15., 10., 0., 28.92, 27.94),\n",
       "       (2018., 9., 15., 11., 0., 28.52, 28.94),\n",
       "       (2018., 9., 15., 12., 0., 27.95, 28.31),\n",
       "       (2018., 9., 15., 13., 0., 27.4 , 29.64),\n",
       "       (2018., 9., 15., 14., 0., 26.9 , 29.19),\n",
       "       (2018., 9., 15., 15., 0., 26.44, 28.16),\n",
       "       (2018., 9., 15., 16., 0., 25.58, 27.66),\n",
       "       (2018., 9., 15., 17., 0., 24.89, 27.11),\n",
       "       (2018., 9., 15., 18., 0., 23.7 , 25.48),\n",
       "       (2018., 9., 15., 19., 0., 23.28, 24.95),\n",
       "       (2018., 9., 15., 20., 0., 23.05, 24.34),\n",
       "       (2018., 9., 15., 21., 0., 22.73, 23.56),\n",
       "       (2018., 9., 15., 22., 0., 22.6 , 23.36),\n",
       "       (2018., 9., 15., 23., 0., 22.45, 23.58),\n",
       "       (2018., 9., 16.,  0., 0., 22.33, 22.81),\n",
       "       (2018., 9., 16.,  1., 0., 22.2 , 23.2 ),\n",
       "       (2018., 9., 16.,  2., 0., 22.08, 23.14),\n",
       "       (2018., 9., 16.,  3., 0., 22.05, 23.1 ),\n",
       "       (2018., 9., 16.,  4., 0., 21.92, 23.06),\n",
       "       (2018., 9., 16.,  5., 0., 21.67, 22.88),\n",
       "       (2018., 9., 16.,  6., 0., 21.6 , 22.62),\n",
       "       (2018., 9., 16.,  7., 0., 22.88, 24.81),\n",
       "       (2018., 9., 16.,  8., 0., 23.77, 25.6 ),\n",
       "       (2018., 9., 16.,  9., 0., 25.55, 27.3 ),\n",
       "       (2018., 9., 16., 10., 0., 27.06, 28.52),\n",
       "       (2018., 9., 16., 11., 0., 27.6 , 29.6 ),\n",
       "       (2018., 9., 16., 12., 0., 28.2 , 30.34),\n",
       "       (2018., 9., 16., 13., 0., 28.36, 30.89),\n",
       "       (2018., 9., 16., 14., 0., 27.95, 30.9 ),\n",
       "       (2018., 9., 16., 15., 0., 27.4 , 30.12),\n",
       "       (2018., 9., 16., 16., 0., 26.3 , 28.44),\n",
       "       (2018., 9., 16., 17., 0., 24.72, 26.64),\n",
       "       (2018., 9., 16., 18., 0., 23.19, 24.22),\n",
       "       (2018., 9., 16., 19., 0., 23.23, 23.5 ),\n",
       "       (2018., 9., 16., 20., 0., 23.08, 24.3 ),\n",
       "       (2018., 9., 16., 21., 0., 22.8 , 24.3 ),\n",
       "       (2018., 9., 16., 22., 0., 22.69, 23.86),\n",
       "       (2018., 9., 16., 23., 0., 22.6 , 23.48)],\n",
       "      dtype=[('year', '<f2'), ('month', '<f2'), ('day', '<f2'), ('hour', '<f2'), ('minute', '<f2'), ('Temp17', '<f2'), ('Temp18', '<f2')])"
      ]
     },
     "execution_count": 114,
     "metadata": {},
     "output_type": "execute_result"
    }
   ],
   "source": [
    "# Read the file weatherComp.csv\n",
    "# Find which year was hotter 2017 or 2018\n",
    "# Find which day was hotter \n",
    "\n",
    "schema=np.dtype([('year',np.float16),\n",
    "                ('month',np.float16),\n",
    "                ('day',np.float16),\n",
    "                ('hour',np.float16),\n",
    "                ('minute',np.float16),\n",
    "                ('Temp17',np.float16),\n",
    "                ('Temp18',np.float16)]) \n",
    "np_data=np.loadtxt('C:\\Users\\Sureya\\Desktop\\data analiyics\\done by me on class\\dataset\\weatherComp.csv',dtype=schema,delimiter=';')\n",
    "np_data\n",
    "#print np_data[Temp17] + np_data[Temp18]"
   ]
  },
  {
   "cell_type": "code",
   "execution_count": 9,
   "metadata": {},
   "outputs": [
    {
     "data": {
      "text/plain": [
       "(123, 'sureya', 123, 'sureya')"
      ]
     },
     "execution_count": 9,
     "metadata": {},
     "output_type": "execute_result"
    }
   ],
   "source": [
    "tinytuple = (123,'sureya')\n",
    "tinytuple*2"
   ]
  },
  {
   "cell_type": "code",
   "execution_count": 14,
   "metadata": {},
   "outputs": [
    {
     "ename": "SyntaxError",
     "evalue": "invalid syntax (<ipython-input-14-6c99cf4ec419>, line 4)",
     "output_type": "error",
     "traceback": [
      "\u001b[1;36m  File \u001b[1;32m\"<ipython-input-14-6c99cf4ec419>\"\u001b[1;36m, line \u001b[1;32m4\u001b[0m\n\u001b[1;33m    id=\"\"224\"\"\u001b[0m\n\u001b[1;37m           ^\u001b[0m\n\u001b[1;31mSyntaxError\u001b[0m\u001b[1;31m:\u001b[0m invalid syntax\n"
     ]
    }
   ],
   "source": [
    "class tester:\n",
    "    def __init__(self,id):\n",
    "        self.id = str(id)\n",
    "        id=\"\"224\"\"\n",
    "        "
   ]
  },
  {
   "cell_type": "code",
   "execution_count": 15,
   "metadata": {},
   "outputs": [
    {
     "ename": "NameError",
     "evalue": "name 'tester' is not defined",
     "output_type": "error",
     "traceback": [
      "\u001b[1;31m---------------------------------------------------------------------------\u001b[0m",
      "\u001b[1;31mNameError\u001b[0m                                 Traceback (most recent call last)",
      "\u001b[1;32m<ipython-input-15-f5e020c3a9df>\u001b[0m in \u001b[0;36m<module>\u001b[1;34m()\u001b[0m\n\u001b[1;32m----> 1\u001b[1;33m \u001b[0mtemp\u001b[0m  \u001b[1;33m=\u001b[0m\u001b[0mtester\u001b[0m\u001b[1;33m(\u001b[0m\u001b[1;36m12\u001b[0m\u001b[1;33m)\u001b[0m\u001b[1;33m\u001b[0m\u001b[0m\n\u001b[0m",
      "\u001b[1;31mNameError\u001b[0m: name 'tester' is not defined"
     ]
    }
   ],
   "source": [
    "temp  =tester(12)"
   ]
  },
  {
   "cell_type": "code",
   "execution_count": 16,
   "metadata": {},
   "outputs": [
    {
     "ename": "NameError",
     "evalue": "name 'temp' is not defined",
     "output_type": "error",
     "traceback": [
      "\u001b[1;31m---------------------------------------------------------------------------\u001b[0m",
      "\u001b[1;31mNameError\u001b[0m                                 Traceback (most recent call last)",
      "\u001b[1;32m<ipython-input-16-a00e00c754cd>\u001b[0m in \u001b[0;36m<module>\u001b[1;34m()\u001b[0m\n\u001b[1;32m----> 1\u001b[1;33m \u001b[1;32mprint\u001b[0m \u001b[0mtemp\u001b[0m\u001b[1;33m.\u001b[0m\u001b[0mid\u001b[0m\u001b[1;33m\u001b[0m\u001b[0m\n\u001b[0m",
      "\u001b[1;31mNameError\u001b[0m: name 'temp' is not defined"
     ]
    }
   ],
   "source": [
    "print temp.id"
   ]
  },
  {
   "cell_type": "code",
   "execution_count": 19,
   "metadata": {},
   "outputs": [],
   "source": [
    "awards = [\"mon\",'sna','kun','pres','san','roch']\n",
    "grad = ['mon','pres','roch']\n"
   ]
  },
  {
   "cell_type": "code",
   "execution_count": 20,
   "metadata": {},
   "outputs": [
    {
     "data": {
      "text/plain": [
       "['sna', 'kun', 'san']"
      ]
     },
     "execution_count": 20,
     "metadata": {},
     "output_type": "execute_result"
    }
   ],
   "source": [
    "[j for j in awards if j not in grad]"
   ]
  },
  {
   "cell_type": "code",
   "execution_count": 21,
   "metadata": {},
   "outputs": [
    {
     "name": "stdout",
     "output_type": "stream",
     "text": [
      "('this', 'is', 'a', 'foo', 'bar', 'sentences')\n",
      "('is', 'a', 'foo', 'bar', 'sentences', 'and')\n",
      "('a', 'foo', 'bar', 'sentences', 'and', 'i')\n",
      "('foo', 'bar', 'sentences', 'and', 'i', 'want')\n",
      "('bar', 'sentences', 'and', 'i', 'want', 'to')\n",
      "('sentences', 'and', 'i', 'want', 'to', 'ngramize')\n",
      "('and', 'i', 'want', 'to', 'ngramize', 'it')\n"
     ]
    }
   ],
   "source": [
    "from nltk import ngrams\n",
    "\n",
    "sentence = 'this is a foo bar sentences and i want to ngramize it'\n",
    "\n",
    "n = 6\n",
    "sixgrams = ngrams(sentence.split(), n)\n",
    "\n",
    "for grams in sixgrams:\n",
    "     print grams"
   ]
  },
  {
   "cell_type": "code",
   "execution_count": null,
   "metadata": {},
   "outputs": [],
   "source": []
  }
 ],
 "metadata": {
  "anaconda-cloud": {},
  "kernelspec": {
   "display_name": "Python 2",
   "language": "python",
   "name": "python2"
  },
  "language_info": {
   "codemirror_mode": {
    "name": "ipython",
    "version": 2
   },
   "file_extension": ".py",
   "mimetype": "text/x-python",
   "name": "python",
   "nbconvert_exporter": "python",
   "pygments_lexer": "ipython2",
   "version": "2.7.15"
  }
 },
 "nbformat": 4,
 "nbformat_minor": 1
}
